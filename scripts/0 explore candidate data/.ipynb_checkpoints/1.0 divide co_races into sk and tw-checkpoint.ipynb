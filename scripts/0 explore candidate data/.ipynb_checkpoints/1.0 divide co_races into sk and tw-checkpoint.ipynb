{
 "cells": [
  {
   "cell_type": "code",
   "execution_count": 20,
   "id": "0eb1c4cc",
   "metadata": {},
   "outputs": [],
   "source": [
    "import pandas as pd\n",
    "pd.set_option('display.max_rows',None)"
   ]
  },
  {
   "cell_type": "markdown",
   "id": "4be014a7",
   "metadata": {},
   "source": [
    "# paths and filenames"
   ]
  },
  {
   "cell_type": "code",
   "execution_count": 2,
   "id": "dde7dc06",
   "metadata": {},
   "outputs": [],
   "source": [
    "# path = \"../../data/data_sk_electoral/1.0 current thru 2017 data/\""
   ]
  },
  {
   "cell_type": "code",
   "execution_count": 3,
   "id": "6909f464",
   "metadata": {},
   "outputs": [],
   "source": [
    "path = \"C:/ProgramData/MySQL/MySQL Server 8.0/Uploads/stparty/\""
   ]
  },
  {
   "cell_type": "code",
   "execution_count": 4,
   "id": "602267e5",
   "metadata": {},
   "outputs": [],
   "source": [
    "file = \"co_races_new.csv\""
   ]
  },
  {
   "cell_type": "markdown",
   "id": "8a66a7df",
   "metadata": {},
   "source": [
    "# data"
   ]
  },
  {
   "cell_type": "code",
   "execution_count": 6,
   "id": "a5587d27",
   "metadata": {},
   "outputs": [],
   "source": [
    "co_races_labels = [\"Country\", \"GeneralElection_Native\", \"GeneralElectionCategory_Native\", \"GeneralElection\", \"GeneralElectionCategory\", \"ElectionCategory_Native\", \"ElectionCategory\", \"ElectionDate\", \"ElectionNumber\", \"Level\", \"Position\", \"L1_Division\", \"L2_Division\", \"L3_Division\", \"ElectionDistrict\", \"Party\", \"CandidateNumber\", \"CandidateStatus\", \"WonElection\", \"VoteCount\", \"VotePercent\", \"IncumbentStatus\", \"Name_Native\", \"Name_Chinese\", \"Birthdate\", \"Sex\", \"Age\", \"Occupation\", \"Education\", \"Career1\", \"Career2\", \"PriorGeneralElection_Native\", \"PriorGeneralElectionCategory_Native\", \"PriorGeneralElection\", \"PriorGeneralElectionCategory\", \"PriorElectionDate\", \"PriorElectionNumber\", \"PostGeneralElection_Native\", \"PostGeneralElectionCategory_Native\", \"PostGeneralElection\", \"PostGeneralElectionCategory\", \"PostElectionDate\", \"PostElectionNumber\", \"TermNumber\", \"PriorTermNumber\", \"PriorTermGeneralElection_Native\", \"PriorTermGeneralElectionCategory_Native\", \"PriorTermGeneralElection\", \"PriorTermGeneralElectionCategory\", \"PriorTermElectionDate\", \"PriorTermElectionNumber\", \"PostTermNumber\", \"PostTermGeneralElection_Native\", \"PostTermGeneralElectionCategory_Native\", \"PostTermGeneralElection\", \"PostTermGeneralElectionCategory\", \"PostTermElectionDate\", \"PostTermElectionNumber\"]\n",
    "\n",
    "# co_races_dtype = [\"str\",\"str\",\"str\",\"str\",\"str\",\"str\",\"str\",\"int\",\"int\",\"str\",\"str\",\"str\",\"str\",\"str\",\"str\",\"str\",\"int\",\"str\",\"int\",\"int\",\"float\",\"str\",\"str\",\"str\",\"int\",\"str\",\"int\",\"str\",\"str\",\"str\",\"str\",\"str\",\"str\",\"str\",\"str\",\"str\",\"int\",\"str\",\"str\",\"str\",\"str\",\"str\",\"int\",\"int\",\"int\",\"str\",\"str\",\"str\",\"str\",\"int\",\"int\",\"int\",\"str\",\"str\",\"str\",\"str\",\"str\",\"int\"]\n",
    "\n",
    "# co_races = pd.read_csv(path+file,sep=\";\",encoding=\"utf8\",names=co_races_labels,dtype=co_races_dtype)\n",
    "co_races = pd.read_csv(path+file,sep=\";\",encoding=\"utf8\",names=co_races_labels,dtype=\"str\")"
   ]
  },
  {
   "cell_type": "markdown",
   "id": "910e748a",
   "metadata": {},
   "source": [
    "# analysis"
   ]
  },
  {
   "cell_type": "code",
   "execution_count": 33,
   "id": "7ddc3b2c",
   "metadata": {},
   "outputs": [],
   "source": [
    "path_analysis = \"../../analysis/\""
   ]
  },
  {
   "cell_type": "markdown",
   "id": "8aea1654",
   "metadata": {},
   "source": [
    "# explore data"
   ]
  },
  {
   "cell_type": "code",
   "execution_count": 8,
   "id": "172f5a6f",
   "metadata": {},
   "outputs": [],
   "source": [
    "tw = co_races[co_races[\"Country\"]==\"TW\"]"
   ]
  },
  {
   "cell_type": "code",
   "execution_count": 9,
   "id": "cbf63387",
   "metadata": {},
   "outputs": [
    {
     "data": {
      "text/plain": [
       "(52609, 58)"
      ]
     },
     "execution_count": 9,
     "metadata": {},
     "output_type": "execute_result"
    }
   ],
   "source": [
    "tw.shape"
   ]
  },
  {
   "cell_type": "code",
   "execution_count": 22,
   "id": "003a3d3e",
   "metadata": {},
   "outputs": [],
   "source": [
    "select_columns = [\"GeneralElection\", \"ElectionCategory\", \"ElectionDate\", \"ElectionNumber\", \"Level\", \"Position\", \"L1_Division\", \"L2_Division\", \"L3_Division\", \"ElectionDistrict\", \"Party\", \"CandidateNumber\", \"CandidateStatus\", \"WonElection\", \"VoteCount\", \"VotePercent\", \"IncumbentStatus\", \"Name_Native\", \"Name_Chinese\", \"Birthdate\", \"Sex\", \"Age\", \"Occupation\", \"Education\", \"Career1\", \"Career2\"]\n",
    "tw2 = tw[select_columns]"
   ]
  },
  {
   "cell_type": "code",
   "execution_count": 23,
   "id": "072f3092",
   "metadata": {},
   "outputs": [
    {
     "data": {
      "text/html": [
       "<div>\n",
       "<style scoped>\n",
       "    .dataframe tbody tr th:only-of-type {\n",
       "        vertical-align: middle;\n",
       "    }\n",
       "\n",
       "    .dataframe tbody tr th {\n",
       "        vertical-align: top;\n",
       "    }\n",
       "\n",
       "    .dataframe thead th {\n",
       "        text-align: right;\n",
       "    }\n",
       "</style>\n",
       "<table border=\"1\" class=\"dataframe\">\n",
       "  <thead>\n",
       "    <tr style=\"text-align: right;\">\n",
       "      <th></th>\n",
       "      <th>GeneralElection</th>\n",
       "      <th>ElectionCategory</th>\n",
       "      <th>ElectionDate</th>\n",
       "      <th>ElectionNumber</th>\n",
       "      <th>Level</th>\n",
       "      <th>Position</th>\n",
       "      <th>L1_Division</th>\n",
       "      <th>L2_Division</th>\n",
       "      <th>L3_Division</th>\n",
       "      <th>ElectionDistrict</th>\n",
       "      <th>...</th>\n",
       "      <th>IncumbentStatus</th>\n",
       "      <th>Name_Native</th>\n",
       "      <th>Name_Chinese</th>\n",
       "      <th>Birthdate</th>\n",
       "      <th>Sex</th>\n",
       "      <th>Age</th>\n",
       "      <th>Occupation</th>\n",
       "      <th>Education</th>\n",
       "      <th>Career1</th>\n",
       "      <th>Career2</th>\n",
       "    </tr>\n",
       "  </thead>\n",
       "  <tbody>\n",
       "    <tr>\n",
       "      <th>0</th>\n",
       "      <td>2002 County and city elections</td>\n",
       "      <td>County Legislature</td>\n",
       "      <td>20020126</td>\n",
       "      <td>9</td>\n",
       "      <td>Level 1</td>\n",
       "      <td>Legislator</td>\n",
       "      <td>雲林縣</td>\n",
       "      <td>NaN</td>\n",
       "      <td>NaN</td>\n",
       "      <td>第六選區</td>\n",
       "      <td>...</td>\n",
       "      <td>否</td>\n",
       "      <td>NaN</td>\n",
       "      <td>NaN</td>\n",
       "      <td>1911</td>\n",
       "      <td>男</td>\n",
       "      <td>91</td>\n",
       "      <td>NaN</td>\n",
       "      <td>NaN</td>\n",
       "      <td>NaN</td>\n",
       "      <td>NaN</td>\n",
       "    </tr>\n",
       "    <tr>\n",
       "      <th>88038</th>\n",
       "      <td>2014 Local elections</td>\n",
       "      <td>Township Representative</td>\n",
       "      <td>20141129</td>\n",
       "      <td>21</td>\n",
       "      <td>Level 2</td>\n",
       "      <td>Legislator</td>\n",
       "      <td>雲林縣</td>\n",
       "      <td>臺西鄉</td>\n",
       "      <td>NaN</td>\n",
       "      <td>第01選區</td>\n",
       "      <td>...</td>\n",
       "      <td>否</td>\n",
       "      <td>丁上立</td>\n",
       "      <td>丁上立</td>\n",
       "      <td>1961</td>\n",
       "      <td>男</td>\n",
       "      <td>53</td>\n",
       "      <td>NaN</td>\n",
       "      <td>NaN</td>\n",
       "      <td>NaN</td>\n",
       "      <td>NaN</td>\n",
       "    </tr>\n",
       "    <tr>\n",
       "      <th>88039</th>\n",
       "      <td>2010 Municipal elections</td>\n",
       "      <td>Village Chief</td>\n",
       "      <td>20101127</td>\n",
       "      <td>19</td>\n",
       "      <td>Level 3</td>\n",
       "      <td>Chief</td>\n",
       "      <td>臺南市</td>\n",
       "      <td>安定區</td>\n",
       "      <td>保西里</td>\n",
       "      <td>保西里</td>\n",
       "      <td>...</td>\n",
       "      <td>否</td>\n",
       "      <td>丁主亮</td>\n",
       "      <td>丁主亮</td>\n",
       "      <td>1961</td>\n",
       "      <td>男</td>\n",
       "      <td>49</td>\n",
       "      <td>NaN</td>\n",
       "      <td>NaN</td>\n",
       "      <td>NaN</td>\n",
       "      <td>NaN</td>\n",
       "    </tr>\n",
       "    <tr>\n",
       "      <th>88040</th>\n",
       "      <td>2014 Local elections</td>\n",
       "      <td>Village Chief</td>\n",
       "      <td>20141129</td>\n",
       "      <td>21</td>\n",
       "      <td>Level 3</td>\n",
       "      <td>Chief</td>\n",
       "      <td>臺南市</td>\n",
       "      <td>安定區</td>\n",
       "      <td>保西里</td>\n",
       "      <td>保西里</td>\n",
       "      <td>...</td>\n",
       "      <td>是</td>\n",
       "      <td>丁主亮</td>\n",
       "      <td>丁主亮</td>\n",
       "      <td>1961</td>\n",
       "      <td>男</td>\n",
       "      <td>53</td>\n",
       "      <td>NaN</td>\n",
       "      <td>NaN</td>\n",
       "      <td>NaN</td>\n",
       "      <td>NaN</td>\n",
       "    </tr>\n",
       "    <tr>\n",
       "      <th>88041</th>\n",
       "      <td>2014 Local elections</td>\n",
       "      <td>Village Chief</td>\n",
       "      <td>20141129</td>\n",
       "      <td>21</td>\n",
       "      <td>Level 3</td>\n",
       "      <td>Chief</td>\n",
       "      <td>臺南市</td>\n",
       "      <td>安定區</td>\n",
       "      <td>安定里</td>\n",
       "      <td>安定里</td>\n",
       "      <td>...</td>\n",
       "      <td>否</td>\n",
       "      <td>丁主財</td>\n",
       "      <td>丁主財</td>\n",
       "      <td>1945</td>\n",
       "      <td>男</td>\n",
       "      <td>69</td>\n",
       "      <td>NaN</td>\n",
       "      <td>NaN</td>\n",
       "      <td>NaN</td>\n",
       "      <td>NaN</td>\n",
       "    </tr>\n",
       "  </tbody>\n",
       "</table>\n",
       "<p>5 rows × 26 columns</p>\n",
       "</div>"
      ],
      "text/plain": [
       "                      GeneralElection         ElectionCategory ElectionDate  \\\n",
       "0      2002 County and city elections       County Legislature     20020126   \n",
       "88038            2014 Local elections  Township Representative     20141129   \n",
       "88039        2010 Municipal elections            Village Chief     20101127   \n",
       "88040            2014 Local elections            Village Chief     20141129   \n",
       "88041            2014 Local elections            Village Chief     20141129   \n",
       "\n",
       "      ElectionNumber    Level    Position L1_Division L2_Division L3_Division  \\\n",
       "0                  9  Level 1  Legislator         雲林縣         NaN         NaN   \n",
       "88038             21  Level 2  Legislator         雲林縣         臺西鄉         NaN   \n",
       "88039             19  Level 3       Chief         臺南市         安定區         保西里   \n",
       "88040             21  Level 3       Chief         臺南市         安定區         保西里   \n",
       "88041             21  Level 3       Chief         臺南市         安定區         安定里   \n",
       "\n",
       "      ElectionDistrict  ... IncumbentStatus Name_Native Name_Chinese  \\\n",
       "0                 第六選區  ...               否         NaN          NaN   \n",
       "88038            第01選區  ...               否         丁上立          丁上立   \n",
       "88039              保西里  ...               否         丁主亮          丁主亮   \n",
       "88040              保西里  ...               是         丁主亮          丁主亮   \n",
       "88041              安定里  ...               否         丁主財          丁主財   \n",
       "\n",
       "      Birthdate Sex Age Occupation Education Career1 Career2  \n",
       "0          1911   男  91        NaN       NaN     NaN     NaN  \n",
       "88038      1961   男  53        NaN       NaN     NaN     NaN  \n",
       "88039      1961   男  49        NaN       NaN     NaN     NaN  \n",
       "88040      1961   男  53        NaN       NaN     NaN     NaN  \n",
       "88041      1945   男  69        NaN       NaN     NaN     NaN  \n",
       "\n",
       "[5 rows x 26 columns]"
      ]
     },
     "execution_count": 23,
     "metadata": {},
     "output_type": "execute_result"
    }
   ],
   "source": [
    "tw2.head()"
   ]
  },
  {
   "cell_type": "code",
   "execution_count": 46,
   "id": "78a5822e",
   "metadata": {},
   "outputs": [],
   "source": [
    "elections = tw2.groupby([\"ElectionDate\",\"GeneralElection\",\"ElectionCategory\"],as_index=False)[\"Name_Native\"].count()"
   ]
  },
  {
   "cell_type": "code",
   "execution_count": 47,
   "id": "44fff97b",
   "metadata": {},
   "outputs": [
    {
     "data": {
      "text/html": [
       "<div>\n",
       "<style scoped>\n",
       "    .dataframe tbody tr th:only-of-type {\n",
       "        vertical-align: middle;\n",
       "    }\n",
       "\n",
       "    .dataframe tbody tr th {\n",
       "        vertical-align: top;\n",
       "    }\n",
       "\n",
       "    .dataframe thead th {\n",
       "        text-align: right;\n",
       "    }\n",
       "</style>\n",
       "<table border=\"1\" class=\"dataframe\">\n",
       "  <thead>\n",
       "    <tr style=\"text-align: right;\">\n",
       "      <th></th>\n",
       "      <th>ElectionDate</th>\n",
       "      <th>GeneralElection</th>\n",
       "      <th>ElectionCategory</th>\n",
       "      <th>Name_Native</th>\n",
       "    </tr>\n",
       "  </thead>\n",
       "  <tbody>\n",
       "    <tr>\n",
       "      <th>0</th>\n",
       "      <td>19941203</td>\n",
       "      <td>1994 Province Leader and Municipal elections</td>\n",
       "      <td>Municipal Legislature</td>\n",
       "      <td>261</td>\n",
       "    </tr>\n",
       "    <tr>\n",
       "      <th>1</th>\n",
       "      <td>19941203</td>\n",
       "      <td>1994 Province Leader and Municipal elections</td>\n",
       "      <td>Municipal Mayor</td>\n",
       "      <td>9</td>\n",
       "    </tr>\n",
       "    <tr>\n",
       "      <th>2</th>\n",
       "      <td>19941203</td>\n",
       "      <td>1994 Province Leader and Municipal elections</td>\n",
       "      <td>TW Provincial Chief</td>\n",
       "      <td>5</td>\n",
       "    </tr>\n",
       "    <tr>\n",
       "      <th>3</th>\n",
       "      <td>19941203</td>\n",
       "      <td>1994 Province Leader and Municipal elections</td>\n",
       "      <td>TW Provincial Representative</td>\n",
       "      <td>166</td>\n",
       "    </tr>\n",
       "    <tr>\n",
       "      <th>4</th>\n",
       "      <td>19951202</td>\n",
       "      <td>1995 Legislator elections</td>\n",
       "      <td>Executive Yuan</td>\n",
       "      <td>314</td>\n",
       "    </tr>\n",
       "  </tbody>\n",
       "</table>\n",
       "</div>"
      ],
      "text/plain": [
       "  ElectionDate                               GeneralElection  \\\n",
       "0     19941203  1994 Province Leader and Municipal elections   \n",
       "1     19941203  1994 Province Leader and Municipal elections   \n",
       "2     19941203  1994 Province Leader and Municipal elections   \n",
       "3     19941203  1994 Province Leader and Municipal elections   \n",
       "4     19951202                     1995 Legislator elections   \n",
       "\n",
       "               ElectionCategory  Name_Native  \n",
       "0         Municipal Legislature          261  \n",
       "1               Municipal Mayor            9  \n",
       "2           TW Provincial Chief            5  \n",
       "3  TW Provincial Representative          166  \n",
       "4                Executive Yuan          314  "
      ]
     },
     "execution_count": 47,
     "metadata": {},
     "output_type": "execute_result"
    }
   ],
   "source": [
    "elections.head()"
   ]
  },
  {
   "cell_type": "code",
   "execution_count": 48,
   "id": "c1d0c15a",
   "metadata": {},
   "outputs": [],
   "source": [
    "elections_filename = \"elections.xlsx\"\n",
    "elections.to_excel(path_analysis + elections_filename,index=False)"
   ]
  },
  {
   "cell_type": "code",
   "execution_count": null,
   "id": "1be2aa53",
   "metadata": {},
   "outputs": [],
   "source": []
  }
 ],
 "metadata": {
  "kernelspec": {
   "display_name": "Python 3 (ipykernel)",
   "language": "python",
   "name": "python3"
  },
  "language_info": {
   "codemirror_mode": {
    "name": "ipython",
    "version": 3
   },
   "file_extension": ".py",
   "mimetype": "text/x-python",
   "name": "python",
   "nbconvert_exporter": "python",
   "pygments_lexer": "ipython3",
   "version": "3.11.5"
  }
 },
 "nbformat": 4,
 "nbformat_minor": 5
}
