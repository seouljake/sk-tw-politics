{
 "cells": [
  {
   "cell_type": "code",
   "execution_count": 1,
   "metadata": {},
   "outputs": [],
   "source": [
    "import pandas as pd\n",
    "import urllib.parse\n",
    "import brotli\n",
    "import requests\n",
    "from bs4 import BeautifulSoup"
   ]
  },
  {
   "cell_type": "markdown",
   "metadata": {},
   "source": [
    "# import sk & tw politician test data"
   ]
  },
  {
   "cell_type": "code",
   "execution_count": 2,
   "metadata": {},
   "outputs": [],
   "source": [
    "filein_path = \"../../../data/data_wikis/1 - politician data for test scraping/\""
   ]
  },
  {
   "cell_type": "code",
   "execution_count": 3,
   "metadata": {},
   "outputs": [],
   "source": [
    "sktest = pd.read_excel(filein_path+\"sk_testset.xlsx\")"
   ]
  },
  {
   "cell_type": "code",
   "execution_count": 4,
   "metadata": {},
   "outputs": [
    {
     "data": {
      "text/plain": [
       "(10114, 23)"
      ]
     },
     "execution_count": 4,
     "metadata": {},
     "output_type": "execute_result"
    }
   ],
   "source": [
    "sktest.shape"
   ]
  },
  {
   "cell_type": "code",
   "execution_count": 5,
   "metadata": {},
   "outputs": [],
   "source": [
    "#twtest = pd.read_excel(filein_path+\"tw_testset.xlsx\")"
   ]
  },
  {
   "cell_type": "code",
   "execution_count": 6,
   "metadata": {},
   "outputs": [],
   "source": [
    "#twtest.shape"
   ]
  },
  {
   "cell_type": "markdown",
   "metadata": {},
   "source": [
    "# scrape namuwiki for sk politicians"
   ]
  },
  {
   "cell_type": "code",
   "execution_count": 7,
   "metadata": {},
   "outputs": [],
   "source": [
    "test = sktest[0:2]"
   ]
  },
  {
   "cell_type": "code",
   "execution_count": 8,
   "metadata": {},
   "outputs": [
    {
     "data": {
      "text/html": [
       "<div>\n",
       "<style scoped>\n",
       "    .dataframe tbody tr th:only-of-type {\n",
       "        vertical-align: middle;\n",
       "    }\n",
       "\n",
       "    .dataframe tbody tr th {\n",
       "        vertical-align: top;\n",
       "    }\n",
       "\n",
       "    .dataframe thead th {\n",
       "        text-align: right;\n",
       "    }\n",
       "</style>\n",
       "<table border=\"1\" class=\"dataframe\">\n",
       "  <thead>\n",
       "    <tr style=\"text-align: right;\">\n",
       "      <th></th>\n",
       "      <th>Name_Native</th>\n",
       "      <th>Name_Chinese</th>\n",
       "      <th>Birthdate</th>\n",
       "      <th>Sex</th>\n",
       "      <th>Age</th>\n",
       "      <th>ElectionCategory_Native</th>\n",
       "      <th>ElectionDate</th>\n",
       "      <th>Position</th>\n",
       "      <th>L1_Division</th>\n",
       "      <th>L2_Division</th>\n",
       "      <th>...</th>\n",
       "      <th>CandidateNumber</th>\n",
       "      <th>CandidateStatus</th>\n",
       "      <th>WonElection</th>\n",
       "      <th>VoteCount</th>\n",
       "      <th>VotePercent</th>\n",
       "      <th>IncumbentStatus</th>\n",
       "      <th>Occupation</th>\n",
       "      <th>Education</th>\n",
       "      <th>Career1</th>\n",
       "      <th>Career2</th>\n",
       "    </tr>\n",
       "  </thead>\n",
       "  <tbody>\n",
       "    <tr>\n",
       "      <th>0</th>\n",
       "      <td>가세로</td>\n",
       "      <td>賈世魯</td>\n",
       "      <td>19550815</td>\n",
       "      <td>남</td>\n",
       "      <td>58</td>\n",
       "      <td>구·시·군의 장선거</td>\n",
       "      <td>20140604</td>\n",
       "      <td>Chief</td>\n",
       "      <td>충청남도</td>\n",
       "      <td>태안군</td>\n",
       "      <td>...</td>\n",
       "      <td>4</td>\n",
       "      <td>등록</td>\n",
       "      <td>0</td>\n",
       "      <td>NaN</td>\n",
       "      <td>NaN</td>\n",
       "      <td>NaN</td>\n",
       "      <td>정당인</td>\n",
       "      <td>단국대학교 대학원 행정학박사</td>\n",
       "      <td>(전)박근혜대통령후보 대선 서산.태안총괄본부장</td>\n",
       "      <td>(현)\"박근혜를 사랑하는 모임\" 전국 상임고문</td>\n",
       "    </tr>\n",
       "    <tr>\n",
       "      <th>1</th>\n",
       "      <td>가창현</td>\n",
       "      <td>賈昌鉉</td>\n",
       "      <td>19550315</td>\n",
       "      <td>남</td>\n",
       "      <td>59</td>\n",
       "      <td>구·시·군의회의원선거</td>\n",
       "      <td>20140604</td>\n",
       "      <td>Legislator</td>\n",
       "      <td>충청남도</td>\n",
       "      <td>태안군</td>\n",
       "      <td>...</td>\n",
       "      <td>7</td>\n",
       "      <td>등록</td>\n",
       "      <td>0</td>\n",
       "      <td>NaN</td>\n",
       "      <td>NaN</td>\n",
       "      <td>NaN</td>\n",
       "      <td>정치인</td>\n",
       "      <td>서산농림고등학교 졸업(현 서산중앙고등학교)</td>\n",
       "      <td>(전)태안군환경산림과장</td>\n",
       "      <td>(전)태안군사회복지과장</td>\n",
       "    </tr>\n",
       "  </tbody>\n",
       "</table>\n",
       "<p>2 rows × 23 columns</p>\n",
       "</div>"
      ],
      "text/plain": [
       "  Name_Native Name_Chinese  Birthdate Sex  Age ElectionCategory_Native  \\\n",
       "0         가세로          賈世魯   19550815   남   58              구·시·군의 장선거   \n",
       "1         가창현          賈昌鉉   19550315   남   59             구·시·군의회의원선거   \n",
       "\n",
       "   ElectionDate    Position L1_Division L2_Division  ...  CandidateNumber  \\\n",
       "0      20140604       Chief        충청남도         태안군  ...                4   \n",
       "1      20140604  Legislator        충청남도         태안군  ...                7   \n",
       "\n",
       "  CandidateStatus WonElection VoteCount VotePercent  IncumbentStatus  \\\n",
       "0              등록           0       NaN         NaN              NaN   \n",
       "1              등록           0       NaN         NaN              NaN   \n",
       "\n",
       "   Occupation                Education                    Career1  \\\n",
       "0         정당인          단국대학교 대학원 행정학박사  (전)박근혜대통령후보 대선 서산.태안총괄본부장   \n",
       "1         정치인  서산농림고등학교 졸업(현 서산중앙고등학교)               (전)태안군환경산림과장   \n",
       "\n",
       "                     Career2  \n",
       "0  (현)\"박근혜를 사랑하는 모임\" 전국 상임고문  \n",
       "1               (전)태안군사회복지과장  \n",
       "\n",
       "[2 rows x 23 columns]"
      ]
     },
     "execution_count": 8,
     "metadata": {},
     "output_type": "execute_result"
    }
   ],
   "source": [
    "test"
   ]
  },
  {
   "cell_type": "code",
   "execution_count": 9,
   "metadata": {},
   "outputs": [],
   "source": [
    "\n",
    "url_stem = \"https://namu.wiki/w/\"\n",
    "\n",
    "p_error_name = \"data-v-1ac09f2e\"\n",
    "p_error_text = \"해당 문서를 찾을 수 없습니다.\"\n",
    "\n",
    "cookie_string = \"__cfuid=grmF3qJrWaeC04yBkOj1xQ%3D%3D; __gads=ID=772102f7516dfc86:T=1655897825:S=ALNI_MZ3xD4yzier1J72mEv0mEaEQwvqEw; __gpi=UID=00000799dcfd5b64:T=1655897825:RT=1657615641:S=ALNI_Mbjd_NekMjY9txFw5RzlAsAyf-4sQ\"\n",
    "#__cf_bm=SmRl834WVJzDUb1wlAVgvmcp_dHu0rafA.rgr5rkekg-1658233984-0-AZU1FLWLC6Ljuol2MlRihdeiZQVpiVEKKPWAcBvEE5+13MlW4wG4E4ci1HJU32arjpGtRYAS0VdsnUWL3OF74x8=\"\n",
    "\n",
    "cookies_dict = {\"__cfuid\":\"grmF3qJrWaeC04yBkOj1xQ%3D%3D\",\n",
    "           \"_gads\":\"ID=772102f7516dfc86:T=1655897825:S=ALNI_MZ3xD4yzier1J72mEv0mEaEQwvqEw\",\n",
    "           \"_gpi\":\"UID=00000799dcfd5b64:T=1655897825:RT=1657615641:S=ALNI_Mbjd_NekMjY9txFw5RzlAsAyf-4sQ\"}"
   ]
  },
  {
   "cell_type": "code",
   "execution_count": 14,
   "metadata": {},
   "outputs": [],
   "source": [
    "# more complicated request header\n",
    "\n",
    "request_headers = {\"authority\": \"namu.wiki\",\n",
    "                   \"method\": \"GET\",\n",
    "                   \"path\":\"/w/%EA%B0%80%EC%84%B8%EB%A1%9C\",\n",
    "                   \"scheme\":\"https\",\n",
    "                   \"accept\":\"text/html,application/xhtml+xml,application/xml;q=0.9,image/avif,image/webp,image/apng,*/*;q=0.8,application/signed-exchange;v=b3;q=0.9\",\n",
    "                   \"accept-encoding\":\"gzip, deflate, br\",\n",
    "                   \"accept-language\":\"en-US,en;q=0.9,ko;q=0.8\",\n",
    "                   \"cache-control\":\"max-age=0\",\n",
    "                   #\"cookie\":cookie_string,\n",
    "                   \"referer\": \"http://localhost:8888/\", # this changed\n",
    "                   \"sec-ch-ua\": '\".Not/A)Brand\";v=\"99\", \"Google Chrome\";v=\"103\", \"Chromium\";v=\"103\"',\n",
    "                   \"sec-ch-ua-mobile\":\"?0\",\n",
    "                   \"sec-ch-ua-platform\":\"Windows\",\n",
    "                   \"sec-fetch-dest\":\"document\",\n",
    "                   \"sec-fetch-mode\":\"navigate\",\n",
    "                   \"sec-fetch-site\":\"same-origin\",\n",
    "                   \"sec-fetch-user\":\"?1\",\n",
    "                   \"upgrade-insecure-requests\":\"1\",\n",
    "                   \"user-agent\":\"Mozilla/5.0 (Windows NT 10.0; Win64; x64) AppleWebKit/537.36 (KHTML, like Gecko) Chrome/103.0.0.0 Safari/537.36\"}"
   ]
  },
  {
   "cell_type": "code",
   "execution_count": 27,
   "metadata": {},
   "outputs": [
    {
     "name": "stdout",
     "output_type": "stream",
     "text": [
      "가세로\n",
      "%EA%B0%80%EC%84%B8%EB%A1%9C\n",
      "https://namu.wiki/w/%EA%B0%80%EC%84%B8%EB%A1%9C\n",
      "403\n",
      "<RequestsCookieJar[<Cookie __cf_bm=TOixWC.hsNbMEP3naAUsT9.twchUJmDuZdb71VPxY1s-1658243225-0-AVys5faIlAjfmZ5h0D8RqduoG2BGYTUw2KpJAthvF7RrRrkmk5Yaz76sa614nr4Hup/n1FgSV886Q73izM+oOZc= for .namu.wiki/>]>\n",
      "{'__cf_bm': 'TOixWC.hsNbMEP3naAUsT9.twchUJmDuZdb71VPxY1s-1658243225-0-AVys5faIlAjfmZ5h0D8RqduoG2BGYTUw2KpJAthvF7RrRrkmk5Yaz76sa614nr4Hup/n1FgSV886Q73izM+oOZc='}\n",
      "가세로\n",
      "%EA%B0%80%EC%84%B8%EB%A1%9C\n",
      "https://namu.wiki/w/%EA%B0%80%EC%84%B8%EB%A1%9C\n",
      "403\n",
      "{'Date': 'Tue, 19 Jul 2022 15:07:05 GMT', 'Content-Type': 'text/html; charset=UTF-8', 'Transfer-Encoding': 'chunked', 'Connection': 'close', 'CF-Chl-Bypass': '1', 'Permissions-Policy': 'accelerometer=(),autoplay=(),camera=(),clipboard-read=(),clipboard-write=(),fullscreen=(),geolocation=(),gyroscope=(),hid=(),interest-cohort=(),magnetometer=(),microphone=(),payment=(),publickey-credentials-get=(),screen-wake-lock=(),serial=(),sync-xhr=(),usb=()', 'Cache-Control': 'private, max-age=0, no-store, no-cache, must-revalidate, post-check=0, pre-check=0', 'Expires': 'Thu, 01 Jan 1970 00:00:01 GMT', 'X-Frame-Options': 'SAMEORIGIN', 'Expect-CT': 'max-age=604800, report-uri=\"https://report-uri.cloudflare.com/cdn-cgi/beacon/expect-ct\"', 'Vary': 'Accept-Encoding', 'Strict-Transport-Security': 'max-age=31536000; includeSubDomains; preload', 'X-Content-Type-Options': 'nosniff', 'Server': 'cloudflare', 'CF-RAY': '72d45d5f6b4f6a9c-TPE', 'Content-Encoding': 'gzip', 'alt-svc': 'h3=\":443\"; ma=86400, h3-29=\":443\"; ma=86400'}\n",
      "<RequestsCookieJar[]>\n"
     ]
    },
    {
     "ename": "Error",
     "evalue": "Decompression error: b'RESERVED'",
     "output_type": "error",
     "traceback": [
      "\u001b[1;31m---------------------------------------------------------------------------\u001b[0m",
      "\u001b[1;31mError\u001b[0m                                     Traceback (most recent call last)",
      "\u001b[1;32m<ipython-input-27-76eca3aa39b1>\u001b[0m in \u001b[0;36m<module>\u001b[1;34m\u001b[0m\n\u001b[0;32m     45\u001b[0m \u001b[1;33m\u001b[0m\u001b[0m\n\u001b[0;32m     46\u001b[0m         \u001b[1;31m# decode request object - which was coded using br (brotli algorithm)\u001b[0m\u001b[1;33m\u001b[0m\u001b[1;33m\u001b[0m\u001b[1;33m\u001b[0m\u001b[0m\n\u001b[1;32m---> 47\u001b[1;33m         \u001b[0mcontent\u001b[0m \u001b[1;33m=\u001b[0m \u001b[0mbrotli\u001b[0m\u001b[1;33m.\u001b[0m\u001b[0mdecompress\u001b[0m\u001b[1;33m(\u001b[0m\u001b[0mx\u001b[0m\u001b[1;33m.\u001b[0m\u001b[0mcontent\u001b[0m\u001b[1;33m)\u001b[0m\u001b[1;33m\u001b[0m\u001b[1;33m\u001b[0m\u001b[0m\n\u001b[0m\u001b[0;32m     48\u001b[0m \u001b[1;33m\u001b[0m\u001b[0m\n\u001b[0;32m     49\u001b[0m         \u001b[1;31m#print(content)\u001b[0m\u001b[1;33m\u001b[0m\u001b[1;33m\u001b[0m\u001b[1;33m\u001b[0m\u001b[0m\n",
      "\u001b[1;32mc:\\users\\seoul\\appdata\\local\\programs\\python\\python37\\lib\\site-packages\\brotli\\brotli.py\u001b[0m in \u001b[0;36mdecompress\u001b[1;34m(data)\u001b[0m\n\u001b[0;32m     87\u001b[0m     \"\"\"\n\u001b[0;32m     88\u001b[0m     \u001b[0md\u001b[0m \u001b[1;33m=\u001b[0m \u001b[0mDecompressor\u001b[0m\u001b[1;33m(\u001b[0m\u001b[1;33m)\u001b[0m\u001b[1;33m\u001b[0m\u001b[1;33m\u001b[0m\u001b[0m\n\u001b[1;32m---> 89\u001b[1;33m     \u001b[0mdata\u001b[0m \u001b[1;33m=\u001b[0m \u001b[0md\u001b[0m\u001b[1;33m.\u001b[0m\u001b[0mdecompress\u001b[0m\u001b[1;33m(\u001b[0m\u001b[0mdata\u001b[0m\u001b[1;33m)\u001b[0m\u001b[1;33m\u001b[0m\u001b[1;33m\u001b[0m\u001b[0m\n\u001b[0m\u001b[0;32m     90\u001b[0m     \u001b[0md\u001b[0m\u001b[1;33m.\u001b[0m\u001b[0mfinish\u001b[0m\u001b[1;33m(\u001b[0m\u001b[1;33m)\u001b[0m\u001b[1;33m\u001b[0m\u001b[1;33m\u001b[0m\u001b[0m\n\u001b[0;32m     91\u001b[0m     \u001b[1;32mreturn\u001b[0m \u001b[0mdata\u001b[0m\u001b[1;33m\u001b[0m\u001b[1;33m\u001b[0m\u001b[0m\n",
      "\u001b[1;32mc:\\users\\seoul\\appdata\\local\\programs\\python\\python37\\lib\\site-packages\\brotli\\brotli.py\u001b[0m in \u001b[0;36mdecompress\u001b[1;34m(self, data)\u001b[0m\n\u001b[0;32m    417\u001b[0m                 \u001b[0merror_message\u001b[0m \u001b[1;33m=\u001b[0m \u001b[0mlib\u001b[0m\u001b[1;33m.\u001b[0m\u001b[0mBrotliDecoderErrorString\u001b[0m\u001b[1;33m(\u001b[0m\u001b[0merror_code\u001b[0m\u001b[1;33m)\u001b[0m\u001b[1;33m\u001b[0m\u001b[1;33m\u001b[0m\u001b[0m\n\u001b[0;32m    418\u001b[0m                 raise Error(\n\u001b[1;32m--> 419\u001b[1;33m                     \u001b[1;34m\"Decompression error: %s\"\u001b[0m \u001b[1;33m%\u001b[0m \u001b[0mffi\u001b[0m\u001b[1;33m.\u001b[0m\u001b[0mstring\u001b[0m\u001b[1;33m(\u001b[0m\u001b[0merror_message\u001b[0m\u001b[1;33m)\u001b[0m\u001b[1;33m\u001b[0m\u001b[1;33m\u001b[0m\u001b[0m\n\u001b[0m\u001b[0;32m    420\u001b[0m                 )\n\u001b[0;32m    421\u001b[0m \u001b[1;33m\u001b[0m\u001b[0m\n",
      "\u001b[1;31mError\u001b[0m: Decompression error: b'RESERVED'"
     ]
    }
   ],
   "source": [
    "# strategies\n",
    "\n",
    "# 1. pass cookies? receive cookies?\n",
    "# 2. block javascript?\n",
    "\n",
    "\n",
    "# get namuwiki using requests\n",
    "for index,p in test.iterrows():\n",
    "    \n",
    "    # construct url & request headers\n",
    "    #url= url_stem+p.Name_Native\n",
    "    url= url_stem+urllib.parse.quote(p.Name_Native.encode(\"utf-8\"))\n",
    "    #request_headers[\"path\"]=\"/w/\"+urllib.parse.quote(p.Name_Native.encode(\"utf-8\"))\n",
    "    \n",
    "    print(p.Name_Native)\n",
    "    print(urllib.parse.quote(p.Name_Native.encode(\"utf-8\")))\n",
    "    print(url)\n",
    "\n",
    "    # request url\n",
    "    #x = requests.get(url,headers=request_headers,cookies=cookies_dict)\n",
    "    x = requests.get(url,cookies=cookies_dict)\n",
    "    \n",
    "    print(x.status_code)\n",
    "    #print(x.headers)\n",
    "    print(x.cookies)\n",
    "    \n",
    "    cookie_jar = x.cookies.get_dict()\n",
    "    \n",
    "    print(cookie_jar)  \n",
    "    \n",
    "    \n",
    "    print(p.Name_Native)\n",
    "    print(urllib.parse.quote(p.Name_Native.encode(\"utf-8\")))\n",
    "    print(url)\n",
    "    \n",
    "    #y = requests.get(url,headers=request_headers,cookies=cookie_jar)\n",
    "    y = requests.get(url,cookies=cookie_jar)\n",
    "        \n",
    "    print(y.status_code)\n",
    "    print(y.headers)\n",
    "    print(y.cookies)\n",
    "\n",
    "    \n",
    "    if(True):\n",
    "        \n",
    "        # decode request object - which was coded using br (brotli algorithm)\n",
    "        content = brotli.decompress(x.content)\n",
    "    \n",
    "        #print(content)\n",
    "\n",
    "        # save output as an html file\n",
    "        fout = open(\"test_\"+p.Name_Native+\".html\",\"w\")\n",
    "        #fout.write(x.content.decode(\"utf-8\"))\n",
    "        fout.write(content.decode(\"utf-8\"))\n",
    "        fout.close()\n",
    "\n",
    "        # convert to html using BeautifulSoup \n",
    "\n",
    "        soup = BeautifulSoup(content.decode(\"utf-8\"),\"html.parser\")\n",
    "        html = soup.prettify(\"utf-8\")\n",
    "        #print(html)\n",
    "\n",
    "    \n"
   ]
  },
  {
   "cell_type": "code",
   "execution_count": 23,
   "metadata": {},
   "outputs": [
    {
     "data": {
      "text/plain": [
       "{'Date': 'Tue, 19 Jul 2022 14:59:37 GMT',\n",
       " 'Content-Type': 'text/html; charset=UTF-8',\n",
       " 'Transfer-Encoding': 'chunked',\n",
       " 'Connection': 'close',\n",
       " 'CF-Chl-Bypass': '1',\n",
       " 'Permissions-Policy': 'accelerometer=(),autoplay=(),camera=(),clipboard-read=(),clipboard-write=(),fullscreen=(),geolocation=(),gyroscope=(),hid=(),interest-cohort=(),magnetometer=(),microphone=(),payment=(),publickey-credentials-get=(),screen-wake-lock=(),serial=(),sync-xhr=(),usb=()',\n",
       " 'Cache-Control': 'private, max-age=0, no-store, no-cache, must-revalidate, post-check=0, pre-check=0',\n",
       " 'Expires': 'Thu, 01 Jan 1970 00:00:01 GMT',\n",
       " 'X-Frame-Options': 'SAMEORIGIN',\n",
       " 'Expect-CT': 'max-age=604800, report-uri=\"https://report-uri.cloudflare.com/cdn-cgi/beacon/expect-ct\"',\n",
       " 'Set-Cookie': '__cf_bm=IYsthcWYxNAHK8oIIghIw7DglxQC2kvfjT74Hx1UFOM-1658242777-0-AV6EUTohhF28+M1f+hvrV1UStTtYW7VxU9pcO1wRdX9XBf5MVQNV8SwTK5dzVz79Mr6G7p74XaqFEew5oXTDrkU=; path=/; expires=Tue, 19-Jul-22 15:29:37 GMT; domain=.namu.wiki; HttpOnly; Secure; SameSite=None',\n",
       " 'Vary': 'Accept-Encoding',\n",
       " 'Strict-Transport-Security': 'max-age=31536000; includeSubDomains; preload',\n",
       " 'X-Content-Type-Options': 'nosniff',\n",
       " 'Server': 'cloudflare',\n",
       " 'CF-RAY': '72d4526fdfd63138-TPE',\n",
       " 'Content-Encoding': 'br',\n",
       " 'alt-svc': 'h3=\":443\"; ma=86400, h3-29=\":443\"; ma=86400'}"
      ]
     },
     "execution_count": 23,
     "metadata": {},
     "output_type": "execute_result"
    }
   ],
   "source": [
    "dict(x.headers)"
   ]
  },
  {
   "cell_type": "code",
   "execution_count": null,
   "metadata": {},
   "outputs": [],
   "source": []
  }
 ],
 "metadata": {
  "kernelspec": {
   "display_name": "Python 3",
   "language": "python",
   "name": "python3"
  },
  "language_info": {
   "codemirror_mode": {
    "name": "ipython",
    "version": 3
   },
   "file_extension": ".py",
   "mimetype": "text/x-python",
   "name": "python",
   "nbconvert_exporter": "python",
   "pygments_lexer": "ipython3",
   "version": "3.7.3"
  }
 },
 "nbformat": 4,
 "nbformat_minor": 4
}
