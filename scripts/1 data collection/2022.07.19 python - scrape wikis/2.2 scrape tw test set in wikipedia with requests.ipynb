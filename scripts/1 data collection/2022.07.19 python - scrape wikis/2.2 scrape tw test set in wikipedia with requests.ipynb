{
 "cells": [
  {
   "cell_type": "code",
   "execution_count": 3,
   "metadata": {},
   "outputs": [],
   "source": [
    "import pandas as pd\n",
    "import urllib.parse\n",
    "import brotli\n",
    "import requests\n",
    "from bs4 import BeautifulSoup"
   ]
  },
  {
   "cell_type": "markdown",
   "metadata": {},
   "source": [
    "# import tw politician test data"
   ]
  },
  {
   "cell_type": "code",
   "execution_count": 12,
   "metadata": {},
   "outputs": [],
   "source": [
    "filein_path = \"../../../data/data_wikis/1 - politician data for test scraping/\""
   ]
  },
  {
   "cell_type": "code",
   "execution_count": 13,
   "metadata": {},
   "outputs": [],
   "source": [
    "twtest = pd.read_excel(filein_path+\"tw_testset.xlsx\")"
   ]
  },
  {
   "cell_type": "code",
   "execution_count": 14,
   "metadata": {},
   "outputs": [
    {
     "data": {
      "text/plain": [
       "(6585, 23)"
      ]
     },
     "execution_count": 14,
     "metadata": {},
     "output_type": "execute_result"
    }
   ],
   "source": [
    "twtest.shape"
   ]
  },
  {
   "cell_type": "code",
   "execution_count": 8,
   "metadata": {},
   "outputs": [],
   "source": [
    "#twtest = pd.read_excel(filein_path+\"tw_testset.xlsx\")"
   ]
  },
  {
   "cell_type": "code",
   "execution_count": 9,
   "metadata": {},
   "outputs": [],
   "source": [
    "#twtest.shape"
   ]
  },
  {
   "cell_type": "markdown",
   "metadata": {},
   "source": [
    "# scrape namuwiki for sk politicians"
   ]
  },
  {
   "cell_type": "code",
   "execution_count": 15,
   "metadata": {},
   "outputs": [
    {
     "data": {
      "text/html": [
       "<div>\n",
       "<style scoped>\n",
       "    .dataframe tbody tr th:only-of-type {\n",
       "        vertical-align: middle;\n",
       "    }\n",
       "\n",
       "    .dataframe tbody tr th {\n",
       "        vertical-align: top;\n",
       "    }\n",
       "\n",
       "    .dataframe thead th {\n",
       "        text-align: right;\n",
       "    }\n",
       "</style>\n",
       "<table border=\"1\" class=\"dataframe\">\n",
       "  <thead>\n",
       "    <tr style=\"text-align: right;\">\n",
       "      <th></th>\n",
       "      <th>Name_Native</th>\n",
       "      <th>Name_Chinese</th>\n",
       "      <th>Birthdate</th>\n",
       "      <th>Sex</th>\n",
       "      <th>Age</th>\n",
       "      <th>ElectionCategory</th>\n",
       "      <th>ElectionDate</th>\n",
       "      <th>Position</th>\n",
       "      <th>L1_Division</th>\n",
       "      <th>L2_Division</th>\n",
       "      <th>...</th>\n",
       "      <th>CandidateNumber</th>\n",
       "      <th>CandidateStatus</th>\n",
       "      <th>WonElection</th>\n",
       "      <th>VoteCount</th>\n",
       "      <th>VotePercent</th>\n",
       "      <th>IncumbentStatus</th>\n",
       "      <th>Occupation</th>\n",
       "      <th>Education</th>\n",
       "      <th>Career1</th>\n",
       "      <th>Career2</th>\n",
       "    </tr>\n",
       "  </thead>\n",
       "  <tbody>\n",
       "    <tr>\n",
       "      <th>0</th>\n",
       "      <td>丁上立</td>\n",
       "      <td>丁上立</td>\n",
       "      <td>1961</td>\n",
       "      <td>男</td>\n",
       "      <td>53</td>\n",
       "      <td>Township Representative</td>\n",
       "      <td>20141129</td>\n",
       "      <td>Legislator</td>\n",
       "      <td>雲林縣</td>\n",
       "      <td>臺西鄉</td>\n",
       "      <td>...</td>\n",
       "      <td>4</td>\n",
       "      <td>NaN</td>\n",
       "      <td>0</td>\n",
       "      <td>570</td>\n",
       "      <td>12.44</td>\n",
       "      <td>否</td>\n",
       "      <td>NaN</td>\n",
       "      <td>NaN</td>\n",
       "      <td>NaN</td>\n",
       "      <td>NaN</td>\n",
       "    </tr>\n",
       "    <tr>\n",
       "      <th>1</th>\n",
       "      <td>丁勇智</td>\n",
       "      <td>丁勇智</td>\n",
       "      <td>1970</td>\n",
       "      <td>男</td>\n",
       "      <td>46</td>\n",
       "      <td>Executive Yuan</td>\n",
       "      <td>20160116</td>\n",
       "      <td>Legislator</td>\n",
       "      <td>屏東縣</td>\n",
       "      <td>NaN</td>\n",
       "      <td>...</td>\n",
       "      <td>5</td>\n",
       "      <td>NaN</td>\n",
       "      <td>0</td>\n",
       "      <td>375</td>\n",
       "      <td>0.29</td>\n",
       "      <td>否</td>\n",
       "      <td>NaN</td>\n",
       "      <td>NaN</td>\n",
       "      <td>NaN</td>\n",
       "      <td>NaN</td>\n",
       "    </tr>\n",
       "  </tbody>\n",
       "</table>\n",
       "<p>2 rows × 23 columns</p>\n",
       "</div>"
      ],
      "text/plain": [
       "  Name_Native Name_Chinese  Birthdate Sex  Age         ElectionCategory  \\\n",
       "0         丁上立          丁上立       1961   男   53  Township Representative   \n",
       "1         丁勇智          丁勇智       1970   男   46           Executive Yuan   \n",
       "\n",
       "   ElectionDate    Position L1_Division L2_Division  ... CandidateNumber  \\\n",
       "0      20141129  Legislator         雲林縣         臺西鄉  ...               4   \n",
       "1      20160116  Legislator         屏東縣         NaN  ...               5   \n",
       "\n",
       "  CandidateStatus WonElection  VoteCount  VotePercent  IncumbentStatus  \\\n",
       "0             NaN           0        570        12.44                否   \n",
       "1             NaN           0        375         0.29                否   \n",
       "\n",
       "   Occupation  Education Career1  Career2  \n",
       "0         NaN        NaN     NaN      NaN  \n",
       "1         NaN        NaN     NaN      NaN  \n",
       "\n",
       "[2 rows x 23 columns]"
      ]
     },
     "execution_count": 15,
     "metadata": {},
     "output_type": "execute_result"
    }
   ],
   "source": [
    "twtest[0:2]"
   ]
  },
  {
   "cell_type": "code",
   "execution_count": null,
   "metadata": {},
   "outputs": [],
   "source": [
    "url_stem = \"https://namu.wiki/w/\"\n",
    "\n",
    "p_error_name = \"data-v-1ac09f2e\"\n",
    "p_error_text = \"해당 문서를 찾을 수 없습니다.\""
   ]
  },
  {
   "cell_type": "code",
   "execution_count": 30,
   "metadata": {},
   "outputs": [],
   "source": [
    "# request headers\n",
    "\n",
    "request_headers = {\"authority\": \"namu.wiki\",\n",
    "                   \"method\": \"GET\",\n",
    "                   \"path\":\"/w/%EA%B0%80%EC%84%B8%EB%A1%9C\",\n",
    "                   \"scheme\":\"https\",\n",
    "                   \"accept\":\"text/html,application/xhtml+xml,application/xml;q=0.9,image/avif,image/webp,image/apng,*/*;q=0.8,application/signed-exchange;v=b3;q=0.9\",\n",
    "                   \"accept-encoding\":\"gzip, deflate, br\",\n",
    "                   \"accept-language\":\"en-US,en;q=0.9,ko;q=0.8\",\n",
    "                   \"cache-control\":\"max-age=0\",\n",
    "                   \"cookie\":\"__cfuid=grmF3qJrWaeC04yBkOj1xQ%3D%3D; __gads=ID=772102f7516dfc86:T=1655897825:S=ALNI_MZ3xD4yzier1J72mEv0mEaEQwvqEw; __gpi=UID=00000799dcfd5b64:T=1655897825:RT=1657615641:S=ALNI_Mbjd_NekMjY9txFw5RzlAsAyf-4sQ; __cf_bm=NV798GZXIL4l.X4Jv0UFjMjC1A2_KcKWpwAhjzKzST0-1658216130-0-AexH240oAJjlm8qbzsYP5Hr2vAL36GavONZvztm+tC4JSAltYtZRgkw8q+nM0aXgcr/8W/4WiZ7j8qplUKEv5TY=\",\n",
    "                   \"sec-ch-ua\": '\".Not/A)Brand\";v=\"99\", \"Google Chrome\";v=\"103\", \"Chromium\";v=\"103\"',\n",
    "                   \"sec-ch-ua-mobile\":\"?0\",\n",
    "                   \"sec-ch-ua-platform\":\"Windows\",\n",
    "                   \"sec-fetch-dest\":\"document\",\n",
    "                   \"sec-fetch-mode\":\"navigate\",\n",
    "                   \"sec-fetch-site\":\"same-origin\",\n",
    "                   \"sec-fetch-user\":\"?1\",\n",
    "                   \"upgrade-insecure-requests\":\"1\",\n",
    "                   \"user-agent\":\"Mozilla/5.0 (Windows NT 10.0; Win64; x64) AppleWebKit/537.36 (KHTML, like Gecko) Chrome/103.0.0.0 Safari/537.36\"}"
   ]
  },
  {
   "cell_type": "code",
   "execution_count": 53,
   "metadata": {},
   "outputs": [
    {
     "name": "stdout",
     "output_type": "stream",
     "text": [
      "가세로\n",
      "%EA%B0%80%EC%84%B8%EB%A1%9C\n",
      "https://namu.wiki/w/%EA%B0%80%EC%84%B8%EB%A1%9C\n",
      "403\n",
      "가창현\n",
      "%EA%B0%80%EC%B0%BD%ED%98%84\n",
      "https://namu.wiki/w/%EA%B0%80%EC%B0%BD%ED%98%84\n",
      "403\n"
     ]
    }
   ],
   "source": [
    "\n",
    "for index,p in test.iterrows():\n",
    "    \n",
    "    # construct url & request headers\n",
    "    #url= url_stem+p.Name_Native\n",
    "    url= url_stem+urllib.parse.quote(p.Name_Native.encode(\"utf-8\"))\n",
    "    request_headers[\"path\"]=\"/w/\"+urllib.parse.quote(p.Name_Native.encode(\"utf-8\"))\n",
    "    \n",
    "    print(p.Name_Native)\n",
    "    print(urllib.parse.quote(p.Name_Native.encode(\"utf-8\")))\n",
    "    print(url)\n",
    "\n",
    "    # request url\n",
    "    x = requests.get(url,headers=request_headers)\n",
    "    \n",
    "    print(x.status_code)\n",
    "    # print(x.headers)\n",
    "    \n",
    "    # decode request object - which was coded using br (brotli algorithm)\n",
    "    content = brotli.decompress(x.content)\n",
    "    \n",
    "    #print(content)\n",
    "\n",
    "    # save output as an html file\n",
    "    fout = open(\"test_\"+p.Name_Native+\".html\",\"w\")\n",
    "    #fout.write(x.content.decode(\"utf-8\"))\n",
    "    fout.write(content.decode(\"utf-8\"))\n",
    "    fout.close()\n"
   ]
  },
  {
   "cell_type": "code",
   "execution_count": null,
   "metadata": {},
   "outputs": [],
   "source": []
  }
 ],
 "metadata": {
  "kernelspec": {
   "display_name": "Python 3",
   "language": "python",
   "name": "python3"
  },
  "language_info": {
   "codemirror_mode": {
    "name": "ipython",
    "version": 3
   },
   "file_extension": ".py",
   "mimetype": "text/x-python",
   "name": "python",
   "nbconvert_exporter": "python",
   "pygments_lexer": "ipython3",
   "version": "3.7.3"
  }
 },
 "nbformat": 4,
 "nbformat_minor": 4
}
