{
 "cells": [
  {
   "cell_type": "code",
   "execution_count": 52,
   "metadata": {},
   "outputs": [],
   "source": [
    "import pandas as pd\n",
    "import numpy as np\n",
    "import os\n",
    "pd.set_option('display.max_rows', None)\n",
    "pd.set_option('display.max_columns', None)"
   ]
  },
  {
   "cell_type": "markdown",
   "metadata": {},
   "source": [
    "# import tw politician test data"
   ]
  },
  {
   "cell_type": "code",
   "execution_count": 53,
   "metadata": {},
   "outputs": [],
   "source": [
    "filein_tw_list_path = \"../../../data/data_tw_wikis/1 - politician data for test scraping/\""
   ]
  },
  {
   "cell_type": "code",
   "execution_count": 54,
   "metadata": {},
   "outputs": [],
   "source": [
    "twtest = pd.read_excel(filein_tw_list_path+\"tw_testset.xlsx\")"
   ]
  },
  {
   "cell_type": "markdown",
   "metadata": {},
   "source": [
    "# import names of politicians with scraped websites"
   ]
  },
  {
   "cell_type": "code",
   "execution_count": 55,
   "metadata": {},
   "outputs": [],
   "source": [
    "filein_tw_sites_path = \"../../../data/data_tw_wikis/2.1 - tw wikipedia scraping test/\""
   ]
  },
  {
   "cell_type": "code",
   "execution_count": 56,
   "metadata": {},
   "outputs": [
    {
     "data": {
      "text/plain": [
       "843"
      ]
     },
     "execution_count": 56,
     "metadata": {},
     "output_type": "execute_result"
    }
   ],
   "source": [
    "scrapednames = os.listdir(filein_tw_sites_path)\n",
    "len(scrapednames)"
   ]
  },
  {
   "cell_type": "code",
   "execution_count": 57,
   "metadata": {},
   "outputs": [
    {
     "data": {
      "text/plain": [
       "['test_丁守中.html',\n",
       " 'test_丁振嘉.html',\n",
       " 'test_丁文祥.html',\n",
       " 'test_何偉.html',\n",
       " 'test_何博文.html']"
      ]
     },
     "execution_count": 57,
     "metadata": {},
     "output_type": "execute_result"
    }
   ],
   "source": [
    "scrapednames[0:5]"
   ]
  },
  {
   "cell_type": "code",
   "execution_count": 58,
   "metadata": {},
   "outputs": [],
   "source": [
    "scrapednames = [item.split(\"_\")[1].split(\".\")[0] for item in scrapednames]"
   ]
  },
  {
   "cell_type": "code",
   "execution_count": 59,
   "metadata": {},
   "outputs": [
    {
     "data": {
      "text/plain": [
       "['丁守中', '丁振嘉', '丁文祥', '何偉', '何博文']"
      ]
     },
     "execution_count": 59,
     "metadata": {},
     "output_type": "execute_result"
    }
   ],
   "source": [
    "scrapednames[0:5]"
   ]
  },
  {
   "cell_type": "code",
   "execution_count": 60,
   "metadata": {},
   "outputs": [],
   "source": [
    "twscraped=pd.DataFrame(scrapednames,columns=[\"Name_Native\"])"
   ]
  },
  {
   "cell_type": "code",
   "execution_count": 61,
   "metadata": {},
   "outputs": [],
   "source": [
    "twscraped[\"Wiki\"]=1"
   ]
  },
  {
   "cell_type": "code",
   "execution_count": 62,
   "metadata": {},
   "outputs": [
    {
     "data": {
      "text/html": [
       "<div>\n",
       "<style scoped>\n",
       "    .dataframe tbody tr th:only-of-type {\n",
       "        vertical-align: middle;\n",
       "    }\n",
       "\n",
       "    .dataframe tbody tr th {\n",
       "        vertical-align: top;\n",
       "    }\n",
       "\n",
       "    .dataframe thead th {\n",
       "        text-align: right;\n",
       "    }\n",
       "</style>\n",
       "<table border=\"1\" class=\"dataframe\">\n",
       "  <thead>\n",
       "    <tr style=\"text-align: right;\">\n",
       "      <th></th>\n",
       "      <th>Name_Native</th>\n",
       "      <th>Wiki</th>\n",
       "    </tr>\n",
       "  </thead>\n",
       "  <tbody>\n",
       "    <tr>\n",
       "      <th>0</th>\n",
       "      <td>丁守中</td>\n",
       "      <td>1</td>\n",
       "    </tr>\n",
       "    <tr>\n",
       "      <th>1</th>\n",
       "      <td>丁振嘉</td>\n",
       "      <td>1</td>\n",
       "    </tr>\n",
       "    <tr>\n",
       "      <th>2</th>\n",
       "      <td>丁文祥</td>\n",
       "      <td>1</td>\n",
       "    </tr>\n",
       "    <tr>\n",
       "      <th>3</th>\n",
       "      <td>何偉</td>\n",
       "      <td>1</td>\n",
       "    </tr>\n",
       "    <tr>\n",
       "      <th>4</th>\n",
       "      <td>何博文</td>\n",
       "      <td>1</td>\n",
       "    </tr>\n",
       "  </tbody>\n",
       "</table>\n",
       "</div>"
      ],
      "text/plain": [
       "  Name_Native  Wiki\n",
       "0         丁守中     1\n",
       "1         丁振嘉     1\n",
       "2         丁文祥     1\n",
       "3          何偉     1\n",
       "4         何博文     1"
      ]
     },
     "execution_count": 62,
     "metadata": {},
     "output_type": "execute_result"
    }
   ],
   "source": [
    "twscraped[0:5]"
   ]
  },
  {
   "cell_type": "markdown",
   "metadata": {},
   "source": [
    "# export path for test file to review"
   ]
  },
  {
   "cell_type": "code",
   "execution_count": 160,
   "metadata": {},
   "outputs": [],
   "source": [
    "fileout_tw_review_path = \"../../../data/data_tw_wikis/2.2 - tw wikipedia scraping test review/\""
   ]
  },
  {
   "cell_type": "markdown",
   "metadata": {},
   "source": [
    "# join twscraped to twtest"
   ]
  },
  {
   "cell_type": "code",
   "execution_count": 63,
   "metadata": {},
   "outputs": [],
   "source": [
    "twtest[\"Wiki\"]=0\n",
    "twtest = twtest.merge(twscraped,on=\"Name_Native\",how=\"left\",suffixes=(\"\",\"_scraped\"))\n",
    "twtest.loc[twtest.Wiki_scraped.notnull(),[\"Wiki\"]]=1\n",
    "twtest.drop(columns=[\"Wiki_scraped\"],inplace=True)"
   ]
  },
  {
   "cell_type": "code",
   "execution_count": 64,
   "metadata": {},
   "outputs": [
    {
     "data": {
      "text/plain": [
       "(3386, 24)"
      ]
     },
     "execution_count": 64,
     "metadata": {},
     "output_type": "execute_result"
    }
   ],
   "source": [
    "twtest.shape"
   ]
  },
  {
   "cell_type": "code",
   "execution_count": 65,
   "metadata": {},
   "outputs": [
    {
     "data": {
      "text/html": [
       "<div>\n",
       "<style scoped>\n",
       "    .dataframe tbody tr th:only-of-type {\n",
       "        vertical-align: middle;\n",
       "    }\n",
       "\n",
       "    .dataframe tbody tr th {\n",
       "        vertical-align: top;\n",
       "    }\n",
       "\n",
       "    .dataframe thead th {\n",
       "        text-align: right;\n",
       "    }\n",
       "</style>\n",
       "<table border=\"1\" class=\"dataframe\">\n",
       "  <thead>\n",
       "    <tr style=\"text-align: right;\">\n",
       "      <th></th>\n",
       "      <th>Name_Native</th>\n",
       "      <th>Name_Chinese</th>\n",
       "      <th>Birthdate</th>\n",
       "      <th>Sex</th>\n",
       "      <th>Age</th>\n",
       "      <th>ElectionCategory</th>\n",
       "      <th>ElectionDate</th>\n",
       "      <th>Position</th>\n",
       "      <th>L1_Division</th>\n",
       "      <th>L2_Division</th>\n",
       "      <th>L3_Division</th>\n",
       "      <th>ElectionDistrict</th>\n",
       "      <th>Party</th>\n",
       "      <th>CandidateNumber</th>\n",
       "      <th>CandidateStatus</th>\n",
       "      <th>WonElection</th>\n",
       "      <th>VoteCount</th>\n",
       "      <th>VotePercent</th>\n",
       "      <th>IncumbentStatus</th>\n",
       "      <th>Occupation</th>\n",
       "      <th>Education</th>\n",
       "      <th>Career1</th>\n",
       "      <th>Career2</th>\n",
       "      <th>Wiki</th>\n",
       "    </tr>\n",
       "  </thead>\n",
       "  <tbody>\n",
       "    <tr>\n",
       "      <th>0</th>\n",
       "      <td>丁勇智</td>\n",
       "      <td>丁勇智</td>\n",
       "      <td>1970</td>\n",
       "      <td>男</td>\n",
       "      <td>46</td>\n",
       "      <td>Executive Yuan</td>\n",
       "      <td>20160116</td>\n",
       "      <td>Legislator</td>\n",
       "      <td>屏東縣</td>\n",
       "      <td>NaN</td>\n",
       "      <td>NaN</td>\n",
       "      <td>第03選區</td>\n",
       "      <td>自由台灣黨</td>\n",
       "      <td>5</td>\n",
       "      <td>NaN</td>\n",
       "      <td>0</td>\n",
       "      <td>375</td>\n",
       "      <td>0.29</td>\n",
       "      <td>否</td>\n",
       "      <td>NaN</td>\n",
       "      <td>NaN</td>\n",
       "      <td>NaN</td>\n",
       "      <td>NaN</td>\n",
       "      <td>0</td>\n",
       "    </tr>\n",
       "  </tbody>\n",
       "</table>\n",
       "</div>"
      ],
      "text/plain": [
       "  Name_Native Name_Chinese  Birthdate Sex  Age ElectionCategory  ElectionDate  \\\n",
       "0         丁勇智          丁勇智       1970   男   46   Executive Yuan      20160116   \n",
       "\n",
       "     Position L1_Division L2_Division L3_Division ElectionDistrict  Party  \\\n",
       "0  Legislator         屏東縣         NaN         NaN            第03選區  自由台灣黨   \n",
       "\n",
       "   CandidateNumber  CandidateStatus  WonElection  VoteCount  VotePercent  \\\n",
       "0                5              NaN            0        375         0.29   \n",
       "\n",
       "  IncumbentStatus  Occupation  Education  Career1  Career2  Wiki  \n",
       "0               否         NaN        NaN      NaN      NaN     0  "
      ]
     },
     "execution_count": 65,
     "metadata": {},
     "output_type": "execute_result"
    }
   ],
   "source": [
    "twtest[0:1]"
   ]
  },
  {
   "cell_type": "markdown",
   "metadata": {},
   "source": [
    "# website coverage of candidates & winners, overall"
   ]
  },
  {
   "cell_type": "code",
   "execution_count": 66,
   "metadata": {},
   "outputs": [],
   "source": [
    "# total\n",
    "coverage0 = pd.DataFrame(index=[\"overall\"])\n",
    "coverage0[\"candidate_count\"] = [twtest.shape[0]]\n",
    "coverage0[\"candidate_withpage\"] = [twtest[~(twtest.Wiki==0)].shape[0]]\n",
    "coverage0[\"candidate_coverage\"] = coverage0[\"candidate_withpage\"] / coverage0[\"candidate_count\"]\n",
    "coverage0[\"winner_count\"] = [twtest[twtest.WonElection==1].shape[0]]\n",
    "coverage0[\"winner_withpage\"] = [twtest[~(twtest.Wiki==0) & twtest.WonElection==1].shape[0]]\n",
    "coverage0[\"winner_coverage\"] = coverage0[\"winner_withpage\"] / coverage0[\"winner_count\"]"
   ]
  },
  {
   "cell_type": "code",
   "execution_count": 67,
   "metadata": {},
   "outputs": [
    {
     "data": {
      "text/html": [
       "<div>\n",
       "<style scoped>\n",
       "    .dataframe tbody tr th:only-of-type {\n",
       "        vertical-align: middle;\n",
       "    }\n",
       "\n",
       "    .dataframe tbody tr th {\n",
       "        vertical-align: top;\n",
       "    }\n",
       "\n",
       "    .dataframe thead th {\n",
       "        text-align: right;\n",
       "    }\n",
       "</style>\n",
       "<table border=\"1\" class=\"dataframe\">\n",
       "  <thead>\n",
       "    <tr style=\"text-align: right;\">\n",
       "      <th></th>\n",
       "      <th>candidate_count</th>\n",
       "      <th>candidate_withpage</th>\n",
       "      <th>candidate_coverage</th>\n",
       "      <th>winner_count</th>\n",
       "      <th>winner_withpage</th>\n",
       "      <th>winner_coverage</th>\n",
       "    </tr>\n",
       "  </thead>\n",
       "  <tbody>\n",
       "    <tr>\n",
       "      <th>overall</th>\n",
       "      <td>3386</td>\n",
       "      <td>843</td>\n",
       "      <td>0.248966</td>\n",
       "      <td>1765</td>\n",
       "      <td>526</td>\n",
       "      <td>0.298017</td>\n",
       "    </tr>\n",
       "  </tbody>\n",
       "</table>\n",
       "</div>"
      ],
      "text/plain": [
       "         candidate_count  candidate_withpage  candidate_coverage  \\\n",
       "overall             3386                 843            0.248966   \n",
       "\n",
       "         winner_count  winner_withpage  winner_coverage  \n",
       "overall          1765              526         0.298017  "
      ]
     },
     "execution_count": 67,
     "metadata": {},
     "output_type": "execute_result"
    }
   ],
   "source": [
    "coverage0"
   ]
  },
  {
   "cell_type": "markdown",
   "metadata": {},
   "source": [
    "# website coverage of candidates & winners, by election type"
   ]
  },
  {
   "cell_type": "code",
   "execution_count": 68,
   "metadata": {},
   "outputs": [
    {
     "data": {
      "text/html": [
       "<div>\n",
       "<style scoped>\n",
       "    .dataframe tbody tr th:only-of-type {\n",
       "        vertical-align: middle;\n",
       "    }\n",
       "\n",
       "    .dataframe tbody tr th {\n",
       "        vertical-align: top;\n",
       "    }\n",
       "\n",
       "    .dataframe thead th {\n",
       "        text-align: right;\n",
       "    }\n",
       "</style>\n",
       "<table border=\"1\" class=\"dataframe\">\n",
       "  <thead>\n",
       "    <tr style=\"text-align: right;\">\n",
       "      <th></th>\n",
       "      <th>Name_Native</th>\n",
       "      <th>Name_Chinese</th>\n",
       "      <th>Birthdate</th>\n",
       "      <th>Sex</th>\n",
       "      <th>Age</th>\n",
       "      <th>ElectionCategory</th>\n",
       "      <th>ElectionDate</th>\n",
       "      <th>Position</th>\n",
       "      <th>L1_Division</th>\n",
       "      <th>L2_Division</th>\n",
       "      <th>L3_Division</th>\n",
       "      <th>ElectionDistrict</th>\n",
       "      <th>Party</th>\n",
       "      <th>CandidateNumber</th>\n",
       "      <th>CandidateStatus</th>\n",
       "      <th>WonElection</th>\n",
       "      <th>VoteCount</th>\n",
       "      <th>VotePercent</th>\n",
       "      <th>IncumbentStatus</th>\n",
       "      <th>Occupation</th>\n",
       "      <th>Education</th>\n",
       "      <th>Career1</th>\n",
       "      <th>Career2</th>\n",
       "      <th>Wiki</th>\n",
       "    </tr>\n",
       "  </thead>\n",
       "  <tbody>\n",
       "    <tr>\n",
       "      <th>0</th>\n",
       "      <td>丁勇智</td>\n",
       "      <td>丁勇智</td>\n",
       "      <td>1970</td>\n",
       "      <td>男</td>\n",
       "      <td>46</td>\n",
       "      <td>Executive Yuan</td>\n",
       "      <td>20160116</td>\n",
       "      <td>Legislator</td>\n",
       "      <td>屏東縣</td>\n",
       "      <td>NaN</td>\n",
       "      <td>NaN</td>\n",
       "      <td>第03選區</td>\n",
       "      <td>自由台灣黨</td>\n",
       "      <td>5</td>\n",
       "      <td>NaN</td>\n",
       "      <td>0</td>\n",
       "      <td>375</td>\n",
       "      <td>0.29</td>\n",
       "      <td>否</td>\n",
       "      <td>NaN</td>\n",
       "      <td>NaN</td>\n",
       "      <td>NaN</td>\n",
       "      <td>NaN</td>\n",
       "      <td>0</td>\n",
       "    </tr>\n",
       "  </tbody>\n",
       "</table>\n",
       "</div>"
      ],
      "text/plain": [
       "  Name_Native Name_Chinese  Birthdate Sex  Age ElectionCategory  ElectionDate  \\\n",
       "0         丁勇智          丁勇智       1970   男   46   Executive Yuan      20160116   \n",
       "\n",
       "     Position L1_Division L2_Division L3_Division ElectionDistrict  Party  \\\n",
       "0  Legislator         屏東縣         NaN         NaN            第03選區  自由台灣黨   \n",
       "\n",
       "   CandidateNumber  CandidateStatus  WonElection  VoteCount  VotePercent  \\\n",
       "0                5              NaN            0        375         0.29   \n",
       "\n",
       "  IncumbentStatus  Occupation  Education  Career1  Career2  Wiki  \n",
       "0               否         NaN        NaN      NaN      NaN     0  "
      ]
     },
     "execution_count": 68,
     "metadata": {},
     "output_type": "execute_result"
    }
   ],
   "source": [
    "twtest[0:1]"
   ]
  },
  {
   "cell_type": "code",
   "execution_count": 69,
   "metadata": {},
   "outputs": [],
   "source": [
    "coverage = twtest.groupby(twtest.ElectionCategory).agg(candidate_count=(\"Name_Native\",\"count\"))"
   ]
  },
  {
   "cell_type": "code",
   "execution_count": 70,
   "metadata": {},
   "outputs": [],
   "source": [
    "coverage[\"candidate_withpage\"] = twtest[~(twtest.Wiki==0)].groupby(twtest.ElectionCategory).agg(candidate_coverage=(\"Name_Native\",\"count\"))"
   ]
  },
  {
   "cell_type": "code",
   "execution_count": 71,
   "metadata": {},
   "outputs": [],
   "source": [
    "coverage[\"candidate_coverage\"] = coverage[\"candidate_withpage\"] / coverage[\"candidate_count\"]"
   ]
  },
  {
   "cell_type": "code",
   "execution_count": 72,
   "metadata": {},
   "outputs": [],
   "source": [
    "coverage[\"winner_count\"] = twtest[twtest.WonElection==1].groupby(twtest.ElectionCategory).agg({\"Name_Native\":\"count\"})"
   ]
  },
  {
   "cell_type": "code",
   "execution_count": 73,
   "metadata": {},
   "outputs": [],
   "source": [
    "coverage[\"winner_withpage\"] = twtest[~(twtest.Wiki==0) & twtest.WonElection==1].groupby(twtest.ElectionCategory).agg({\"Name_Native\":\"count\"})"
   ]
  },
  {
   "cell_type": "code",
   "execution_count": 74,
   "metadata": {},
   "outputs": [],
   "source": [
    "coverage[\"winner_coverage\"] = coverage[\"winner_withpage\"] / coverage[\"winner_count\"]"
   ]
  },
  {
   "cell_type": "code",
   "execution_count": 75,
   "metadata": {},
   "outputs": [
    {
     "data": {
      "text/html": [
       "<div>\n",
       "<style scoped>\n",
       "    .dataframe tbody tr th:only-of-type {\n",
       "        vertical-align: middle;\n",
       "    }\n",
       "\n",
       "    .dataframe tbody tr th {\n",
       "        vertical-align: top;\n",
       "    }\n",
       "\n",
       "    .dataframe thead th {\n",
       "        text-align: right;\n",
       "    }\n",
       "</style>\n",
       "<table border=\"1\" class=\"dataframe\">\n",
       "  <thead>\n",
       "    <tr style=\"text-align: right;\">\n",
       "      <th></th>\n",
       "      <th>candidate_count</th>\n",
       "      <th>candidate_withpage</th>\n",
       "      <th>candidate_coverage</th>\n",
       "      <th>winner_count</th>\n",
       "      <th>winner_withpage</th>\n",
       "      <th>winner_coverage</th>\n",
       "    </tr>\n",
       "    <tr>\n",
       "      <th>ElectionCategory</th>\n",
       "      <th></th>\n",
       "      <th></th>\n",
       "      <th></th>\n",
       "      <th></th>\n",
       "      <th></th>\n",
       "      <th></th>\n",
       "    </tr>\n",
       "  </thead>\n",
       "  <tbody>\n",
       "    <tr>\n",
       "      <th>Aboriginal Chief</th>\n",
       "      <td>20</td>\n",
       "      <td>3</td>\n",
       "      <td>0.150000</td>\n",
       "      <td>6</td>\n",
       "      <td>NaN</td>\n",
       "      <td>NaN</td>\n",
       "    </tr>\n",
       "    <tr>\n",
       "      <th>Aboriginal Representative</th>\n",
       "      <td>94</td>\n",
       "      <td>14</td>\n",
       "      <td>0.148936</td>\n",
       "      <td>50</td>\n",
       "      <td>9.0</td>\n",
       "      <td>0.180000</td>\n",
       "    </tr>\n",
       "    <tr>\n",
       "      <th>County Legislature</th>\n",
       "      <td>801</td>\n",
       "      <td>170</td>\n",
       "      <td>0.212235</td>\n",
       "      <td>490</td>\n",
       "      <td>125.0</td>\n",
       "      <td>0.255102</td>\n",
       "    </tr>\n",
       "    <tr>\n",
       "      <th>County Mayor</th>\n",
       "      <td>64</td>\n",
       "      <td>46</td>\n",
       "      <td>0.718750</td>\n",
       "      <td>16</td>\n",
       "      <td>16.0</td>\n",
       "      <td>1.000000</td>\n",
       "    </tr>\n",
       "    <tr>\n",
       "      <th>Executive Yuan</th>\n",
       "      <td>288</td>\n",
       "      <td>151</td>\n",
       "      <td>0.524306</td>\n",
       "      <td>57</td>\n",
       "      <td>57.0</td>\n",
       "      <td>1.000000</td>\n",
       "    </tr>\n",
       "    <tr>\n",
       "      <th>Municipal Legislature</th>\n",
       "      <td>639</td>\n",
       "      <td>305</td>\n",
       "      <td>0.477308</td>\n",
       "      <td>357</td>\n",
       "      <td>224.0</td>\n",
       "      <td>0.627451</td>\n",
       "    </tr>\n",
       "    <tr>\n",
       "      <th>Municipal Mayor</th>\n",
       "      <td>20</td>\n",
       "      <td>16</td>\n",
       "      <td>0.800000</td>\n",
       "      <td>6</td>\n",
       "      <td>6.0</td>\n",
       "      <td>1.000000</td>\n",
       "    </tr>\n",
       "    <tr>\n",
       "      <th>President and VP</th>\n",
       "      <td>5</td>\n",
       "      <td>5</td>\n",
       "      <td>1.000000</td>\n",
       "      <td>2</td>\n",
       "      <td>2.0</td>\n",
       "      <td>1.000000</td>\n",
       "    </tr>\n",
       "    <tr>\n",
       "      <th>Township Mayor</th>\n",
       "      <td>469</td>\n",
       "      <td>71</td>\n",
       "      <td>0.151386</td>\n",
       "      <td>198</td>\n",
       "      <td>44.0</td>\n",
       "      <td>0.222222</td>\n",
       "    </tr>\n",
       "    <tr>\n",
       "      <th>Township Representative</th>\n",
       "      <td>492</td>\n",
       "      <td>31</td>\n",
       "      <td>0.063008</td>\n",
       "      <td>329</td>\n",
       "      <td>26.0</td>\n",
       "      <td>0.079027</td>\n",
       "    </tr>\n",
       "    <tr>\n",
       "      <th>Village Chief</th>\n",
       "      <td>494</td>\n",
       "      <td>31</td>\n",
       "      <td>0.062753</td>\n",
       "      <td>254</td>\n",
       "      <td>17.0</td>\n",
       "      <td>0.066929</td>\n",
       "    </tr>\n",
       "  </tbody>\n",
       "</table>\n",
       "</div>"
      ],
      "text/plain": [
       "                           candidate_count  candidate_withpage  \\\n",
       "ElectionCategory                                                 \n",
       "Aboriginal Chief                        20                   3   \n",
       "Aboriginal Representative               94                  14   \n",
       "County Legislature                     801                 170   \n",
       "County Mayor                            64                  46   \n",
       "Executive Yuan                         288                 151   \n",
       "Municipal Legislature                  639                 305   \n",
       "Municipal Mayor                         20                  16   \n",
       "President and VP                         5                   5   \n",
       "Township Mayor                         469                  71   \n",
       "Township Representative                492                  31   \n",
       "Village Chief                          494                  31   \n",
       "\n",
       "                           candidate_coverage  winner_count  winner_withpage  \\\n",
       "ElectionCategory                                                               \n",
       "Aboriginal Chief                     0.150000             6              NaN   \n",
       "Aboriginal Representative            0.148936            50              9.0   \n",
       "County Legislature                   0.212235           490            125.0   \n",
       "County Mayor                         0.718750            16             16.0   \n",
       "Executive Yuan                       0.524306            57             57.0   \n",
       "Municipal Legislature                0.477308           357            224.0   \n",
       "Municipal Mayor                      0.800000             6              6.0   \n",
       "President and VP                     1.000000             2              2.0   \n",
       "Township Mayor                       0.151386           198             44.0   \n",
       "Township Representative              0.063008           329             26.0   \n",
       "Village Chief                        0.062753           254             17.0   \n",
       "\n",
       "                           winner_coverage  \n",
       "ElectionCategory                            \n",
       "Aboriginal Chief                       NaN  \n",
       "Aboriginal Representative         0.180000  \n",
       "County Legislature                0.255102  \n",
       "County Mayor                      1.000000  \n",
       "Executive Yuan                    1.000000  \n",
       "Municipal Legislature             0.627451  \n",
       "Municipal Mayor                   1.000000  \n",
       "President and VP                  1.000000  \n",
       "Township Mayor                    0.222222  \n",
       "Township Representative           0.079027  \n",
       "Village Chief                     0.066929  "
      ]
     },
     "execution_count": 75,
     "metadata": {},
     "output_type": "execute_result"
    }
   ],
   "source": [
    "coverage"
   ]
  },
  {
   "cell_type": "markdown",
   "metadata": {},
   "source": [
    "# coverage, by election type & overall"
   ]
  },
  {
   "cell_type": "code",
   "execution_count": 76,
   "metadata": {},
   "outputs": [
    {
     "data": {
      "text/html": [
       "<div>\n",
       "<style scoped>\n",
       "    .dataframe tbody tr th:only-of-type {\n",
       "        vertical-align: middle;\n",
       "    }\n",
       "\n",
       "    .dataframe tbody tr th {\n",
       "        vertical-align: top;\n",
       "    }\n",
       "\n",
       "    .dataframe thead th {\n",
       "        text-align: right;\n",
       "    }\n",
       "</style>\n",
       "<table border=\"1\" class=\"dataframe\">\n",
       "  <thead>\n",
       "    <tr style=\"text-align: right;\">\n",
       "      <th></th>\n",
       "      <th>candidate_count</th>\n",
       "      <th>candidate_withpage</th>\n",
       "      <th>candidate_coverage</th>\n",
       "      <th>winner_count</th>\n",
       "      <th>winner_withpage</th>\n",
       "      <th>winner_coverage</th>\n",
       "    </tr>\n",
       "  </thead>\n",
       "  <tbody>\n",
       "    <tr>\n",
       "      <th>Aboriginal Chief</th>\n",
       "      <td>20</td>\n",
       "      <td>3</td>\n",
       "      <td>0.150000</td>\n",
       "      <td>6</td>\n",
       "      <td>NaN</td>\n",
       "      <td>NaN</td>\n",
       "    </tr>\n",
       "    <tr>\n",
       "      <th>Aboriginal Representative</th>\n",
       "      <td>94</td>\n",
       "      <td>14</td>\n",
       "      <td>0.148936</td>\n",
       "      <td>50</td>\n",
       "      <td>9.0</td>\n",
       "      <td>0.180000</td>\n",
       "    </tr>\n",
       "    <tr>\n",
       "      <th>County Legislature</th>\n",
       "      <td>801</td>\n",
       "      <td>170</td>\n",
       "      <td>0.212235</td>\n",
       "      <td>490</td>\n",
       "      <td>125.0</td>\n",
       "      <td>0.255102</td>\n",
       "    </tr>\n",
       "    <tr>\n",
       "      <th>County Mayor</th>\n",
       "      <td>64</td>\n",
       "      <td>46</td>\n",
       "      <td>0.718750</td>\n",
       "      <td>16</td>\n",
       "      <td>16.0</td>\n",
       "      <td>1.000000</td>\n",
       "    </tr>\n",
       "    <tr>\n",
       "      <th>Executive Yuan</th>\n",
       "      <td>288</td>\n",
       "      <td>151</td>\n",
       "      <td>0.524306</td>\n",
       "      <td>57</td>\n",
       "      <td>57.0</td>\n",
       "      <td>1.000000</td>\n",
       "    </tr>\n",
       "    <tr>\n",
       "      <th>Municipal Legislature</th>\n",
       "      <td>639</td>\n",
       "      <td>305</td>\n",
       "      <td>0.477308</td>\n",
       "      <td>357</td>\n",
       "      <td>224.0</td>\n",
       "      <td>0.627451</td>\n",
       "    </tr>\n",
       "    <tr>\n",
       "      <th>Municipal Mayor</th>\n",
       "      <td>20</td>\n",
       "      <td>16</td>\n",
       "      <td>0.800000</td>\n",
       "      <td>6</td>\n",
       "      <td>6.0</td>\n",
       "      <td>1.000000</td>\n",
       "    </tr>\n",
       "    <tr>\n",
       "      <th>President and VP</th>\n",
       "      <td>5</td>\n",
       "      <td>5</td>\n",
       "      <td>1.000000</td>\n",
       "      <td>2</td>\n",
       "      <td>2.0</td>\n",
       "      <td>1.000000</td>\n",
       "    </tr>\n",
       "    <tr>\n",
       "      <th>Township Mayor</th>\n",
       "      <td>469</td>\n",
       "      <td>71</td>\n",
       "      <td>0.151386</td>\n",
       "      <td>198</td>\n",
       "      <td>44.0</td>\n",
       "      <td>0.222222</td>\n",
       "    </tr>\n",
       "    <tr>\n",
       "      <th>Township Representative</th>\n",
       "      <td>492</td>\n",
       "      <td>31</td>\n",
       "      <td>0.063008</td>\n",
       "      <td>329</td>\n",
       "      <td>26.0</td>\n",
       "      <td>0.079027</td>\n",
       "    </tr>\n",
       "    <tr>\n",
       "      <th>Village Chief</th>\n",
       "      <td>494</td>\n",
       "      <td>31</td>\n",
       "      <td>0.062753</td>\n",
       "      <td>254</td>\n",
       "      <td>17.0</td>\n",
       "      <td>0.066929</td>\n",
       "    </tr>\n",
       "    <tr>\n",
       "      <th>overall</th>\n",
       "      <td>3386</td>\n",
       "      <td>843</td>\n",
       "      <td>0.248966</td>\n",
       "      <td>1765</td>\n",
       "      <td>526.0</td>\n",
       "      <td>0.298017</td>\n",
       "    </tr>\n",
       "  </tbody>\n",
       "</table>\n",
       "</div>"
      ],
      "text/plain": [
       "                           candidate_count  candidate_withpage  \\\n",
       "Aboriginal Chief                        20                   3   \n",
       "Aboriginal Representative               94                  14   \n",
       "County Legislature                     801                 170   \n",
       "County Mayor                            64                  46   \n",
       "Executive Yuan                         288                 151   \n",
       "Municipal Legislature                  639                 305   \n",
       "Municipal Mayor                         20                  16   \n",
       "President and VP                         5                   5   \n",
       "Township Mayor                         469                  71   \n",
       "Township Representative                492                  31   \n",
       "Village Chief                          494                  31   \n",
       "overall                               3386                 843   \n",
       "\n",
       "                           candidate_coverage  winner_count  winner_withpage  \\\n",
       "Aboriginal Chief                     0.150000             6              NaN   \n",
       "Aboriginal Representative            0.148936            50              9.0   \n",
       "County Legislature                   0.212235           490            125.0   \n",
       "County Mayor                         0.718750            16             16.0   \n",
       "Executive Yuan                       0.524306            57             57.0   \n",
       "Municipal Legislature                0.477308           357            224.0   \n",
       "Municipal Mayor                      0.800000             6              6.0   \n",
       "President and VP                     1.000000             2              2.0   \n",
       "Township Mayor                       0.151386           198             44.0   \n",
       "Township Representative              0.063008           329             26.0   \n",
       "Village Chief                        0.062753           254             17.0   \n",
       "overall                              0.248966          1765            526.0   \n",
       "\n",
       "                           winner_coverage  \n",
       "Aboriginal Chief                       NaN  \n",
       "Aboriginal Representative         0.180000  \n",
       "County Legislature                0.255102  \n",
       "County Mayor                      1.000000  \n",
       "Executive Yuan                    1.000000  \n",
       "Municipal Legislature             0.627451  \n",
       "Municipal Mayor                   1.000000  \n",
       "President and VP                  1.000000  \n",
       "Township Mayor                    0.222222  \n",
       "Township Representative           0.079027  \n",
       "Village Chief                     0.066929  \n",
       "overall                           0.298017  "
      ]
     },
     "execution_count": 76,
     "metadata": {},
     "output_type": "execute_result"
    }
   ],
   "source": [
    "pd.concat([coverage,coverage0])"
   ]
  },
  {
   "cell_type": "markdown",
   "metadata": {},
   "source": [
    "# export twtest for analysis"
   ]
  },
  {
   "cell_type": "code",
   "execution_count": 172,
   "metadata": {},
   "outputs": [],
   "source": [
    "twreview = twtest[twtest.Wiki==1]"
   ]
  },
  {
   "cell_type": "code",
   "execution_count": 173,
   "metadata": {},
   "outputs": [
    {
     "name": "stderr",
     "output_type": "stream",
     "text": [
      "c:\\users\\seoul\\appdata\\local\\programs\\python\\python37\\lib\\site-packages\\ipykernel_launcher.py:1: SettingWithCopyWarning: \n",
      "A value is trying to be set on a copy of a slice from a DataFrame.\n",
      "Try using .loc[row_indexer,col_indexer] = value instead\n",
      "\n",
      "See the caveats in the documentation: https://pandas.pydata.org/pandas-docs/stable/user_guide/indexing.html#returning-a-view-versus-a-copy\n",
      "  \"\"\"Entry point for launching an IPython kernel.\n"
     ]
    }
   ],
   "source": [
    "twreview[\"URL\"] = twreview.apply(lambda row: '=HYPERLINK(\"https://zh.wikipedia.org/wiki/' + row[\"Name_Native\"] +'\")',axis=1)"
   ]
  },
  {
   "cell_type": "code",
   "execution_count": 174,
   "metadata": {},
   "outputs": [
    {
     "data": {
      "text/plain": [
       "(843, 25)"
      ]
     },
     "execution_count": 174,
     "metadata": {},
     "output_type": "execute_result"
    }
   ],
   "source": [
    "twreview.shape"
   ]
  },
  {
   "cell_type": "code",
   "execution_count": 175,
   "metadata": {},
   "outputs": [
    {
     "data": {
      "text/html": [
       "<div>\n",
       "<style scoped>\n",
       "    .dataframe tbody tr th:only-of-type {\n",
       "        vertical-align: middle;\n",
       "    }\n",
       "\n",
       "    .dataframe tbody tr th {\n",
       "        vertical-align: top;\n",
       "    }\n",
       "\n",
       "    .dataframe thead th {\n",
       "        text-align: right;\n",
       "    }\n",
       "</style>\n",
       "<table border=\"1\" class=\"dataframe\">\n",
       "  <thead>\n",
       "    <tr style=\"text-align: right;\">\n",
       "      <th></th>\n",
       "      <th>Name_Native</th>\n",
       "      <th>Name_Chinese</th>\n",
       "      <th>Birthdate</th>\n",
       "      <th>Sex</th>\n",
       "      <th>Age</th>\n",
       "      <th>ElectionCategory</th>\n",
       "      <th>ElectionDate</th>\n",
       "      <th>Position</th>\n",
       "      <th>L1_Division</th>\n",
       "      <th>L2_Division</th>\n",
       "      <th>L3_Division</th>\n",
       "      <th>ElectionDistrict</th>\n",
       "      <th>Party</th>\n",
       "      <th>CandidateNumber</th>\n",
       "      <th>CandidateStatus</th>\n",
       "      <th>WonElection</th>\n",
       "      <th>VoteCount</th>\n",
       "      <th>VotePercent</th>\n",
       "      <th>IncumbentStatus</th>\n",
       "      <th>Occupation</th>\n",
       "      <th>Education</th>\n",
       "      <th>Career1</th>\n",
       "      <th>Career2</th>\n",
       "      <th>Wiki</th>\n",
       "      <th>URL</th>\n",
       "    </tr>\n",
       "  </thead>\n",
       "  <tbody>\n",
       "    <tr>\n",
       "      <th>2</th>\n",
       "      <td>丁守中</td>\n",
       "      <td>丁守中</td>\n",
       "      <td>1954</td>\n",
       "      <td>男</td>\n",
       "      <td>62</td>\n",
       "      <td>Executive Yuan</td>\n",
       "      <td>20160116</td>\n",
       "      <td>Legislator</td>\n",
       "      <td>臺北市</td>\n",
       "      <td>NaN</td>\n",
       "      <td>NaN</td>\n",
       "      <td>第01選區</td>\n",
       "      <td>中國國民黨</td>\n",
       "      <td>1</td>\n",
       "      <td>NaN</td>\n",
       "      <td>0</td>\n",
       "      <td>82649</td>\n",
       "      <td>43.77</td>\n",
       "      <td>是</td>\n",
       "      <td>NaN</td>\n",
       "      <td>NaN</td>\n",
       "      <td>NaN</td>\n",
       "      <td>NaN</td>\n",
       "      <td>1</td>\n",
       "      <td>=HYPERLINK(\"https://zh.wikipedia.org/wiki/丁守中\")</td>\n",
       "    </tr>\n",
       "    <tr>\n",
       "      <th>3</th>\n",
       "      <td>丁振嘉</td>\n",
       "      <td>丁振嘉</td>\n",
       "      <td>1956</td>\n",
       "      <td>男</td>\n",
       "      <td>58</td>\n",
       "      <td>Municipal Legislature</td>\n",
       "      <td>20141129</td>\n",
       "      <td>Legislator</td>\n",
       "      <td>臺中市</td>\n",
       "      <td>NaN</td>\n",
       "      <td>NaN</td>\n",
       "      <td>第07選區</td>\n",
       "      <td>中國國民黨</td>\n",
       "      <td>8</td>\n",
       "      <td>NaN</td>\n",
       "      <td>0</td>\n",
       "      <td>11213</td>\n",
       "      <td>13.79</td>\n",
       "      <td>否</td>\n",
       "      <td>NaN</td>\n",
       "      <td>NaN</td>\n",
       "      <td>NaN</td>\n",
       "      <td>NaN</td>\n",
       "      <td>1</td>\n",
       "      <td>=HYPERLINK(\"https://zh.wikipedia.org/wiki/丁振嘉\")</td>\n",
       "    </tr>\n",
       "  </tbody>\n",
       "</table>\n",
       "</div>"
      ],
      "text/plain": [
       "  Name_Native Name_Chinese  Birthdate Sex  Age       ElectionCategory  \\\n",
       "2         丁守中          丁守中       1954   男   62         Executive Yuan   \n",
       "3         丁振嘉          丁振嘉       1956   男   58  Municipal Legislature   \n",
       "\n",
       "   ElectionDate    Position L1_Division L2_Division L3_Division  \\\n",
       "2      20160116  Legislator         臺北市         NaN         NaN   \n",
       "3      20141129  Legislator         臺中市         NaN         NaN   \n",
       "\n",
       "  ElectionDistrict  Party  CandidateNumber  CandidateStatus  WonElection  \\\n",
       "2            第01選區  中國國民黨                1              NaN            0   \n",
       "3            第07選區  中國國民黨                8              NaN            0   \n",
       "\n",
       "   VoteCount  VotePercent IncumbentStatus  Occupation  Education  Career1  \\\n",
       "2      82649        43.77               是         NaN        NaN      NaN   \n",
       "3      11213        13.79               否         NaN        NaN      NaN   \n",
       "\n",
       "   Career2  Wiki                                              URL  \n",
       "2      NaN     1  =HYPERLINK(\"https://zh.wikipedia.org/wiki/丁守中\")  \n",
       "3      NaN     1  =HYPERLINK(\"https://zh.wikipedia.org/wiki/丁振嘉\")  "
      ]
     },
     "execution_count": 175,
     "metadata": {},
     "output_type": "execute_result"
    }
   ],
   "source": [
    "twreview[0:2]"
   ]
  },
  {
   "cell_type": "code",
   "execution_count": 177,
   "metadata": {},
   "outputs": [],
   "source": [
    "# export\n",
    "twreview.to_excel(fileout_tw_review_path+\"tw_testset_toreview.xlsx\",index=False,encoding=\"utf-8\")"
   ]
  },
  {
   "cell_type": "code",
   "execution_count": null,
   "metadata": {},
   "outputs": [],
   "source": []
  }
 ],
 "metadata": {
  "kernelspec": {
   "display_name": "Python 3 (ipykernel)",
   "language": "python",
   "name": "python3"
  },
  "language_info": {
   "codemirror_mode": {
    "name": "ipython",
    "version": 3
   },
   "file_extension": ".py",
   "mimetype": "text/x-python",
   "name": "python",
   "nbconvert_exporter": "python",
   "pygments_lexer": "ipython3",
   "version": "3.11.5"
  }
 },
 "nbformat": 4,
 "nbformat_minor": 4
}
