{
 "cells": [
  {
   "cell_type": "code",
   "execution_count": 1,
   "metadata": {},
   "outputs": [],
   "source": [
    "import pandas as pd"
   ]
  },
  {
   "cell_type": "markdown",
   "metadata": {},
   "source": [
    "# import sk & tw politician raw data"
   ]
  },
  {
   "cell_type": "code",
   "execution_count": 2,
   "metadata": {},
   "outputs": [],
   "source": [
    "# import co_races\n",
    "filein_path = \"../../../data/data_sk_electoral/1.0 current thru 2017 data/co_races.csv\"\n",
    "\n",
    "filein_columns = [\"Country\", \"GeneralElection_Native\", \"GeneralElectionCategory_Native\", \"GeneralElection\", \"GeneralElectionCategory\", \"ElectionCategory_Native\", \"ElectionCategory\", \"ElectionDate\", \"ElectionNumber\", \"Level\", \"Position\", \"L1_Division\", \"L2_Division\", \"L3_Division\", \"ElectionDistrict\", \"Party\", \"CandidateNumber\", \"CandidateStatus\", \"WonElection\", \"VoteCount\", \"VotePercent\", \"IncumbentStatus\", \"Name_Native\", \"Name_Chinese\", \"Birthdate\", \"Sex\", \"Age\", \"Occupation\", \"Education\", \"Career1\", \"Career2\", \"PriorGeneralElection_Native\", \"PriorGeneralElectionCategory_Native\", \"PriorGeneralElection\", \"PriorGeneralElectionCategory\", \"PriorElectionDate\", \"PriorElectionNumber\", \"PostGeneralElection_Native\", \"PostGeneralElectionCategory_Native\", \"PostGeneralElection\", \"PostGeneralElectionCategory\", \"PostElectionDate\", \"PostElectionNumber\", \"TermNumber\", \"PriorTermNumber\", \"PriorTermGeneralElection_Native\", \"PriorTermGeneralElectionCategory_Native\", \"PriorTermGeneralElection\", \"PriorTermGeneralElectionCategory\", \"PriorTermElectionDate\", \"PriorTermElectionNumber\", \"PostTermNumber\", \"PostTermGeneralElection_Native\", \"PostTermGeneralElectionCategory_Native\", \"PostTermGeneralElection\", \"PostTermGeneralElectionCategory\", \"PostTermElectionDate\", \"PostTermElectionNumber\"]\n",
    "\n",
    "co_races = pd.read_csv(filein_path,sep=\";\",dtype=\"str\",encoding=\"utf-8\",header=None,names=filein_columns)"
   ]
  },
  {
   "cell_type": "markdown",
   "metadata": {},
   "source": [
    "# file out path for test tw politician data"
   ]
  },
  {
   "cell_type": "code",
   "execution_count": 4,
   "metadata": {},
   "outputs": [],
   "source": [
    "#fileout_sk_path = \"../../../data/data_sk_wikis/1 - politician data for test scraping/\"\n",
    "fileout_tw_path = \"../../../data/data_tw_wikis/1 - politician data for test scraping/\""
   ]
  },
  {
   "cell_type": "markdown",
   "metadata": {},
   "source": [
    "# tw subset for test scraping - 1 pres, 1 national, 1 regional election - 2014-2017 "
   ]
  },
  {
   "cell_type": "code",
   "execution_count": 5,
   "metadata": {},
   "outputs": [],
   "source": [
    "twlist = co_races.loc[(co_races.Country==\"TW\") & (co_races.ElectionDate.astype(\"int\")>=20141129),[\"Name_Native\", \"Name_Chinese\", \"Birthdate\", \"Sex\", \"Age\",\"ElectionCategory\", \"ElectionDate\", \"Position\", \"L1_Division\", \"L2_Division\", \"L3_Division\", \"ElectionDistrict\", \"Party\", \"CandidateNumber\", \"CandidateStatus\", \"WonElection\", \"VoteCount\", \"VotePercent\", \"IncumbentStatus\", \"Occupation\", \"Education\", \"Career1\", \"Career2\"]]"
   ]
  },
  {
   "cell_type": "code",
   "execution_count": 6,
   "metadata": {},
   "outputs": [
    {
     "data": {
      "text/plain": [
       "(19722, 23)"
      ]
     },
     "execution_count": 6,
     "metadata": {},
     "output_type": "execute_result"
    }
   ],
   "source": [
    "twlist.shape"
   ]
  },
  {
   "cell_type": "code",
   "execution_count": 7,
   "metadata": {},
   "outputs": [
    {
     "data": {
      "text/html": [
       "<div>\n",
       "<style scoped>\n",
       "    .dataframe tbody tr th:only-of-type {\n",
       "        vertical-align: middle;\n",
       "    }\n",
       "\n",
       "    .dataframe tbody tr th {\n",
       "        vertical-align: top;\n",
       "    }\n",
       "\n",
       "    .dataframe thead th {\n",
       "        text-align: right;\n",
       "    }\n",
       "</style>\n",
       "<table border=\"1\" class=\"dataframe\">\n",
       "  <thead>\n",
       "    <tr style=\"text-align: right;\">\n",
       "      <th></th>\n",
       "      <th></th>\n",
       "      <th>Name_Native</th>\n",
       "    </tr>\n",
       "    <tr>\n",
       "      <th>ElectionDate</th>\n",
       "      <th>ElectionCategory</th>\n",
       "      <th></th>\n",
       "    </tr>\n",
       "  </thead>\n",
       "  <tbody>\n",
       "    <tr>\n",
       "      <th rowspan=\"2\" valign=\"top\">20160116</th>\n",
       "      <th>Executive Yuan</th>\n",
       "      <td>354</td>\n",
       "    </tr>\n",
       "    <tr>\n",
       "      <th>President and VP</th>\n",
       "      <td>6</td>\n",
       "    </tr>\n",
       "    <tr>\n",
       "      <th rowspan=\"9\" valign=\"top\">20141129</th>\n",
       "      <th>Aboriginal Chief</th>\n",
       "      <td>20</td>\n",
       "    </tr>\n",
       "    <tr>\n",
       "      <th>Aboriginal Representative</th>\n",
       "      <td>94</td>\n",
       "    </tr>\n",
       "    <tr>\n",
       "      <th>County Legislature</th>\n",
       "      <td>804</td>\n",
       "    </tr>\n",
       "    <tr>\n",
       "      <th>County Mayor</th>\n",
       "      <td>64</td>\n",
       "    </tr>\n",
       "    <tr>\n",
       "      <th>Municipal Legislature</th>\n",
       "      <td>640</td>\n",
       "    </tr>\n",
       "    <tr>\n",
       "      <th>Municipal Mayor</th>\n",
       "      <td>20</td>\n",
       "    </tr>\n",
       "    <tr>\n",
       "      <th>Township Mayor</th>\n",
       "      <td>470</td>\n",
       "    </tr>\n",
       "    <tr>\n",
       "      <th>Township Representative</th>\n",
       "      <td>3113</td>\n",
       "    </tr>\n",
       "    <tr>\n",
       "      <th>Village Chief</th>\n",
       "      <td>14137</td>\n",
       "    </tr>\n",
       "  </tbody>\n",
       "</table>\n",
       "</div>"
      ],
      "text/plain": [
       "                                        Name_Native\n",
       "ElectionDate ElectionCategory                      \n",
       "20160116     Executive Yuan                     354\n",
       "             President and VP                     6\n",
       "20141129     Aboriginal Chief                    20\n",
       "             Aboriginal Representative           94\n",
       "             County Legislature                 804\n",
       "             County Mayor                        64\n",
       "             Municipal Legislature              640\n",
       "             Municipal Mayor                     20\n",
       "             Township Mayor                     470\n",
       "             Township Representative           3113\n",
       "             Village Chief                    14137"
      ]
     },
     "execution_count": 7,
     "metadata": {},
     "output_type": "execute_result"
    }
   ],
   "source": [
    "twlist.groupby([\"ElectionDate\",\"ElectionCategory\"]).agg({\"Name_Native\":\"count\"}).sort_values(\"ElectionDate\",ascending=False)"
   ]
  },
  {
   "cell_type": "code",
   "execution_count": 14,
   "metadata": {},
   "outputs": [],
   "source": [
    "t1 = twlist[~twlist.ElectionCategory.isin([\"Village Chief\",\"Township Representative\"])]"
   ]
  },
  {
   "cell_type": "code",
   "execution_count": 15,
   "metadata": {},
   "outputs": [
    {
     "data": {
      "text/plain": [
       "(2472, 23)"
      ]
     },
     "execution_count": 15,
     "metadata": {},
     "output_type": "execute_result"
    }
   ],
   "source": [
    "t1.shape"
   ]
  },
  {
   "cell_type": "code",
   "execution_count": 20,
   "metadata": {},
   "outputs": [],
   "source": [
    "tw_townrep = twlist[twlist.ElectionCategory==\"Township Representative\"][0:500]\n",
    "tw_villagechief = twlist[twlist.ElectionCategory==\"Village Chief\"][0:500]"
   ]
  },
  {
   "cell_type": "code",
   "execution_count": 21,
   "metadata": {},
   "outputs": [
    {
     "data": {
      "text/plain": [
       "((500, 23), (500, 23))"
      ]
     },
     "execution_count": 21,
     "metadata": {},
     "output_type": "execute_result"
    }
   ],
   "source": [
    "tw_townrep.shape,tw_villagechief.shape"
   ]
  },
  {
   "cell_type": "code",
   "execution_count": 22,
   "metadata": {},
   "outputs": [],
   "source": [
    "t2 = pd.concat([t1,tw_townrep,tw_villagechief],ignore_index=True)"
   ]
  },
  {
   "cell_type": "code",
   "execution_count": 23,
   "metadata": {},
   "outputs": [
    {
     "data": {
      "text/plain": [
       "(3472, 23)"
      ]
     },
     "execution_count": 23,
     "metadata": {},
     "output_type": "execute_result"
    }
   ],
   "source": [
    "t2.shape"
   ]
  },
  {
   "cell_type": "code",
   "execution_count": 24,
   "metadata": {},
   "outputs": [
    {
     "data": {
      "text/html": [
       "<div>\n",
       "<style scoped>\n",
       "    .dataframe tbody tr th:only-of-type {\n",
       "        vertical-align: middle;\n",
       "    }\n",
       "\n",
       "    .dataframe tbody tr th {\n",
       "        vertical-align: top;\n",
       "    }\n",
       "\n",
       "    .dataframe thead th {\n",
       "        text-align: right;\n",
       "    }\n",
       "</style>\n",
       "<table border=\"1\" class=\"dataframe\">\n",
       "  <thead>\n",
       "    <tr style=\"text-align: right;\">\n",
       "      <th></th>\n",
       "      <th></th>\n",
       "      <th>Name_Native</th>\n",
       "    </tr>\n",
       "    <tr>\n",
       "      <th>ElectionDate</th>\n",
       "      <th>ElectionCategory</th>\n",
       "      <th></th>\n",
       "    </tr>\n",
       "  </thead>\n",
       "  <tbody>\n",
       "    <tr>\n",
       "      <th rowspan=\"2\" valign=\"top\">20160116</th>\n",
       "      <th>Executive Yuan</th>\n",
       "      <td>354</td>\n",
       "    </tr>\n",
       "    <tr>\n",
       "      <th>President and VP</th>\n",
       "      <td>6</td>\n",
       "    </tr>\n",
       "    <tr>\n",
       "      <th rowspan=\"9\" valign=\"top\">20141129</th>\n",
       "      <th>Aboriginal Chief</th>\n",
       "      <td>20</td>\n",
       "    </tr>\n",
       "    <tr>\n",
       "      <th>Aboriginal Representative</th>\n",
       "      <td>94</td>\n",
       "    </tr>\n",
       "    <tr>\n",
       "      <th>County Legislature</th>\n",
       "      <td>804</td>\n",
       "    </tr>\n",
       "    <tr>\n",
       "      <th>County Mayor</th>\n",
       "      <td>64</td>\n",
       "    </tr>\n",
       "    <tr>\n",
       "      <th>Municipal Legislature</th>\n",
       "      <td>640</td>\n",
       "    </tr>\n",
       "    <tr>\n",
       "      <th>Municipal Mayor</th>\n",
       "      <td>20</td>\n",
       "    </tr>\n",
       "    <tr>\n",
       "      <th>Township Mayor</th>\n",
       "      <td>470</td>\n",
       "    </tr>\n",
       "    <tr>\n",
       "      <th>Township Representative</th>\n",
       "      <td>500</td>\n",
       "    </tr>\n",
       "    <tr>\n",
       "      <th>Village Chief</th>\n",
       "      <td>500</td>\n",
       "    </tr>\n",
       "  </tbody>\n",
       "</table>\n",
       "</div>"
      ],
      "text/plain": [
       "                                        Name_Native\n",
       "ElectionDate ElectionCategory                      \n",
       "20160116     Executive Yuan                     354\n",
       "             President and VP                     6\n",
       "20141129     Aboriginal Chief                    20\n",
       "             Aboriginal Representative           94\n",
       "             County Legislature                 804\n",
       "             County Mayor                        64\n",
       "             Municipal Legislature              640\n",
       "             Municipal Mayor                     20\n",
       "             Township Mayor                     470\n",
       "             Township Representative            500\n",
       "             Village Chief                      500"
      ]
     },
     "execution_count": 24,
     "metadata": {},
     "output_type": "execute_result"
    }
   ],
   "source": [
    "t2.groupby([\"ElectionDate\",\"ElectionCategory\"]).agg({\"Name_Native\":\"count\"}).sort_values(\"ElectionDate\",ascending=False)"
   ]
  },
  {
   "cell_type": "code",
   "execution_count": 25,
   "metadata": {},
   "outputs": [],
   "source": [
    "twlist = t2"
   ]
  },
  {
   "cell_type": "code",
   "execution_count": 27,
   "metadata": {},
   "outputs": [],
   "source": [
    "# export tw test set\n",
    "twlist.to_excel(fileout_tw_path+\"tw_testset.xlsx\",index=False,encoding=\"utf-8\")"
   ]
  },
  {
   "cell_type": "code",
   "execution_count": null,
   "metadata": {},
   "outputs": [],
   "source": []
  }
 ],
 "metadata": {
  "kernelspec": {
   "display_name": "Python 3",
   "language": "python",
   "name": "python3"
  },
  "language_info": {
   "codemirror_mode": {
    "name": "ipython",
    "version": 3
   },
   "file_extension": ".py",
   "mimetype": "text/x-python",
   "name": "python",
   "nbconvert_exporter": "python",
   "pygments_lexer": "ipython3",
   "version": "3.7.3"
  }
 },
 "nbformat": 4,
 "nbformat_minor": 4
}
