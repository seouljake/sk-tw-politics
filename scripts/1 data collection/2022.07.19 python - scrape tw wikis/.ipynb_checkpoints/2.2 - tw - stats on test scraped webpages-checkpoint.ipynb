{
 "cells": [
  {
   "cell_type": "code",
   "execution_count": 9,
   "metadata": {},
   "outputs": [],
   "source": [
    "import pandas as pd\n",
    "import numpy as np\n",
    "import os\n",
    "pd.set_option('display.max_rows', None)\n",
    "pd.set_option('display.max_columns', None)"
   ]
  },
  {
   "cell_type": "markdown",
   "metadata": {},
   "source": [
    "# import tw politician test data"
   ]
  },
  {
   "cell_type": "code",
   "execution_count": 6,
   "metadata": {},
   "outputs": [],
   "source": [
    "filein_tw_list_path = \"../../../data/data_tw_wikis/1 - politician data for test scraping/\""
   ]
  },
  {
   "cell_type": "code",
   "execution_count": 5,
   "metadata": {},
   "outputs": [],
   "source": [
    "twtest = pd.read_excel(filein_tw_list_path+\"tw_testset.xlsx\")"
   ]
  },
  {
   "cell_type": "markdown",
   "metadata": {},
   "source": [
    "# import names of politicians with scraped websites"
   ]
  },
  {
   "cell_type": "code",
   "execution_count": 116,
   "metadata": {},
   "outputs": [],
   "source": [
    "filein_tw_sites_path = \"../../../data/data_tw_wikis/2.1 - tw wikipedia scraping test/\""
   ]
  },
  {
   "cell_type": "code",
   "execution_count": 117,
   "metadata": {},
   "outputs": [
    {
     "data": {
      "text/plain": [
       "654"
      ]
     },
     "execution_count": 117,
     "metadata": {},
     "output_type": "execute_result"
    }
   ],
   "source": [
    "scrapednames = os.listdir(filein_tw_sites_path)\n",
    "len(scrapednames)"
   ]
  },
  {
   "cell_type": "code",
   "execution_count": 118,
   "metadata": {},
   "outputs": [
    {
     "data": {
      "text/plain": [
       "['test_丁守中.html',\n",
       " 'test_丁振嘉.html',\n",
       " 'test_何偉.html',\n",
       " 'test_何博文.html',\n",
       " 'test_何啟聖.html']"
      ]
     },
     "execution_count": 118,
     "metadata": {},
     "output_type": "execute_result"
    }
   ],
   "source": [
    "scrapednames[0:5]"
   ]
  },
  {
   "cell_type": "code",
   "execution_count": 119,
   "metadata": {},
   "outputs": [],
   "source": [
    "scrapednames = [item.split(\"_\")[1].split(\".\")[0] for item in scrapednames]"
   ]
  },
  {
   "cell_type": "code",
   "execution_count": 120,
   "metadata": {},
   "outputs": [
    {
     "data": {
      "text/plain": [
       "['丁守中', '丁振嘉', '何偉', '何博文', '何啟聖']"
      ]
     },
     "execution_count": 120,
     "metadata": {},
     "output_type": "execute_result"
    }
   ],
   "source": [
    "scrapednames[0:5]"
   ]
  },
  {
   "cell_type": "code",
   "execution_count": 121,
   "metadata": {},
   "outputs": [],
   "source": [
    "twscraped=pd.DataFrame(scrapednames,columns=[\"Name_Native\"])"
   ]
  },
  {
   "cell_type": "code",
   "execution_count": 122,
   "metadata": {},
   "outputs": [],
   "source": [
    "twscraped[\"Wiki\"]=1"
   ]
  },
  {
   "cell_type": "code",
   "execution_count": 123,
   "metadata": {},
   "outputs": [
    {
     "data": {
      "text/html": [
       "<div>\n",
       "<style scoped>\n",
       "    .dataframe tbody tr th:only-of-type {\n",
       "        vertical-align: middle;\n",
       "    }\n",
       "\n",
       "    .dataframe tbody tr th {\n",
       "        vertical-align: top;\n",
       "    }\n",
       "\n",
       "    .dataframe thead th {\n",
       "        text-align: right;\n",
       "    }\n",
       "</style>\n",
       "<table border=\"1\" class=\"dataframe\">\n",
       "  <thead>\n",
       "    <tr style=\"text-align: right;\">\n",
       "      <th></th>\n",
       "      <th>Name_Native</th>\n",
       "      <th>Wiki</th>\n",
       "    </tr>\n",
       "  </thead>\n",
       "  <tbody>\n",
       "    <tr>\n",
       "      <th>0</th>\n",
       "      <td>丁守中</td>\n",
       "      <td>1</td>\n",
       "    </tr>\n",
       "    <tr>\n",
       "      <th>1</th>\n",
       "      <td>丁振嘉</td>\n",
       "      <td>1</td>\n",
       "    </tr>\n",
       "    <tr>\n",
       "      <th>2</th>\n",
       "      <td>何偉</td>\n",
       "      <td>1</td>\n",
       "    </tr>\n",
       "    <tr>\n",
       "      <th>3</th>\n",
       "      <td>何博文</td>\n",
       "      <td>1</td>\n",
       "    </tr>\n",
       "    <tr>\n",
       "      <th>4</th>\n",
       "      <td>何啟聖</td>\n",
       "      <td>1</td>\n",
       "    </tr>\n",
       "  </tbody>\n",
       "</table>\n",
       "</div>"
      ],
      "text/plain": [
       "  Name_Native  Wiki\n",
       "0         丁守中     1\n",
       "1         丁振嘉     1\n",
       "2          何偉     1\n",
       "3         何博文     1\n",
       "4         何啟聖     1"
      ]
     },
     "execution_count": 123,
     "metadata": {},
     "output_type": "execute_result"
    }
   ],
   "source": [
    "twscraped[0:5]"
   ]
  },
  {
   "cell_type": "markdown",
   "metadata": {},
   "source": [
    "# join twscraped to twtest"
   ]
  },
  {
   "cell_type": "code",
   "execution_count": 124,
   "metadata": {},
   "outputs": [],
   "source": [
    "twtest[\"Wiki\"]=0\n",
    "twtest = twtest.merge(twscraped,on=\"Name_Native\",how=\"left\",suffixes=(\"\",\"_scraped\"))\n",
    "twtest.loc[twtest.Wiki_scraped.notnull(),[\"Wiki\"]]=1\n",
    "twtest.drop(columns=[\"Wiki_scraped\"],inplace=True)"
   ]
  },
  {
   "cell_type": "code",
   "execution_count": 125,
   "metadata": {},
   "outputs": [
    {
     "data": {
      "text/plain": [
       "(3386, 24)"
      ]
     },
     "execution_count": 125,
     "metadata": {},
     "output_type": "execute_result"
    }
   ],
   "source": [
    "twtest.shape"
   ]
  },
  {
   "cell_type": "code",
   "execution_count": 127,
   "metadata": {},
   "outputs": [
    {
     "data": {
      "text/html": [
       "<div>\n",
       "<style scoped>\n",
       "    .dataframe tbody tr th:only-of-type {\n",
       "        vertical-align: middle;\n",
       "    }\n",
       "\n",
       "    .dataframe tbody tr th {\n",
       "        vertical-align: top;\n",
       "    }\n",
       "\n",
       "    .dataframe thead th {\n",
       "        text-align: right;\n",
       "    }\n",
       "</style>\n",
       "<table border=\"1\" class=\"dataframe\">\n",
       "  <thead>\n",
       "    <tr style=\"text-align: right;\">\n",
       "      <th></th>\n",
       "      <th>Name_Native</th>\n",
       "      <th>Name_Chinese</th>\n",
       "      <th>Birthdate</th>\n",
       "      <th>Sex</th>\n",
       "      <th>Age</th>\n",
       "      <th>ElectionCategory</th>\n",
       "      <th>ElectionDate</th>\n",
       "      <th>Position</th>\n",
       "      <th>L1_Division</th>\n",
       "      <th>L2_Division</th>\n",
       "      <th>L3_Division</th>\n",
       "      <th>ElectionDistrict</th>\n",
       "      <th>Party</th>\n",
       "      <th>CandidateNumber</th>\n",
       "      <th>CandidateStatus</th>\n",
       "      <th>WonElection</th>\n",
       "      <th>VoteCount</th>\n",
       "      <th>VotePercent</th>\n",
       "      <th>IncumbentStatus</th>\n",
       "      <th>Occupation</th>\n",
       "      <th>Education</th>\n",
       "      <th>Career1</th>\n",
       "      <th>Career2</th>\n",
       "      <th>Wiki</th>\n",
       "    </tr>\n",
       "  </thead>\n",
       "  <tbody>\n",
       "    <tr>\n",
       "      <th>0</th>\n",
       "      <td>丁勇智</td>\n",
       "      <td>丁勇智</td>\n",
       "      <td>1970</td>\n",
       "      <td>男</td>\n",
       "      <td>46</td>\n",
       "      <td>Executive Yuan</td>\n",
       "      <td>20160116</td>\n",
       "      <td>Legislator</td>\n",
       "      <td>屏東縣</td>\n",
       "      <td>NaN</td>\n",
       "      <td>NaN</td>\n",
       "      <td>第03選區</td>\n",
       "      <td>自由台灣黨</td>\n",
       "      <td>5</td>\n",
       "      <td>NaN</td>\n",
       "      <td>0</td>\n",
       "      <td>375</td>\n",
       "      <td>0.29</td>\n",
       "      <td>否</td>\n",
       "      <td>NaN</td>\n",
       "      <td>NaN</td>\n",
       "      <td>NaN</td>\n",
       "      <td>NaN</td>\n",
       "      <td>0</td>\n",
       "    </tr>\n",
       "  </tbody>\n",
       "</table>\n",
       "</div>"
      ],
      "text/plain": [
       "  Name_Native Name_Chinese  Birthdate Sex  Age ElectionCategory  ElectionDate  \\\n",
       "0         丁勇智          丁勇智       1970   男   46   Executive Yuan      20160116   \n",
       "\n",
       "     Position L1_Division L2_Division L3_Division ElectionDistrict  Party  \\\n",
       "0  Legislator         屏東縣         NaN         NaN            第03選區  自由台灣黨   \n",
       "\n",
       "   CandidateNumber  CandidateStatus  WonElection  VoteCount  VotePercent  \\\n",
       "0                5              NaN            0        375         0.29   \n",
       "\n",
       "  IncumbentStatus  Occupation  Education  Career1  Career2  Wiki  \n",
       "0               否         NaN        NaN      NaN      NaN     0  "
      ]
     },
     "execution_count": 127,
     "metadata": {},
     "output_type": "execute_result"
    }
   ],
   "source": [
    "twtest[0:1]"
   ]
  },
  {
   "cell_type": "markdown",
   "metadata": {},
   "source": [
    "# website coverage of candidates & winners, overall"
   ]
  },
  {
   "cell_type": "code",
   "execution_count": 128,
   "metadata": {},
   "outputs": [],
   "source": [
    "# total\n",
    "coverage0 = pd.DataFrame(index=[\"overall\"])\n",
    "coverage0[\"candidate_count\"] = [twtest.shape[0]]\n",
    "coverage0[\"candidate_withpage\"] = [twtest[~(twtest.Wiki==0)].shape[0]]\n",
    "coverage0[\"candidate_coverage\"] = coverage0[\"candidate_withpage\"] / coverage0[\"candidate_count\"]\n",
    "coverage0[\"winner_count\"] = [twtest[twtest.WonElection==1].shape[0]]\n",
    "coverage0[\"winner_withpage\"] = [twtest[~(twtest.Wiki==0) & twtest.WonElection==1].shape[0]]\n",
    "coverage0[\"winner_coverage\"] = coverage0[\"winner_withpage\"] / coverage0[\"winner_count\"]"
   ]
  },
  {
   "cell_type": "code",
   "execution_count": 129,
   "metadata": {},
   "outputs": [
    {
     "data": {
      "text/html": [
       "<div>\n",
       "<style scoped>\n",
       "    .dataframe tbody tr th:only-of-type {\n",
       "        vertical-align: middle;\n",
       "    }\n",
       "\n",
       "    .dataframe tbody tr th {\n",
       "        vertical-align: top;\n",
       "    }\n",
       "\n",
       "    .dataframe thead th {\n",
       "        text-align: right;\n",
       "    }\n",
       "</style>\n",
       "<table border=\"1\" class=\"dataframe\">\n",
       "  <thead>\n",
       "    <tr style=\"text-align: right;\">\n",
       "      <th></th>\n",
       "      <th>candidate_count</th>\n",
       "      <th>candidate_withpage</th>\n",
       "      <th>candidate_coverage</th>\n",
       "      <th>winner_count</th>\n",
       "      <th>winner_withpage</th>\n",
       "      <th>winner_coverage</th>\n",
       "    </tr>\n",
       "  </thead>\n",
       "  <tbody>\n",
       "    <tr>\n",
       "      <th>overall</th>\n",
       "      <td>3386</td>\n",
       "      <td>654</td>\n",
       "      <td>0.193148</td>\n",
       "      <td>1765</td>\n",
       "      <td>403</td>\n",
       "      <td>0.228329</td>\n",
       "    </tr>\n",
       "  </tbody>\n",
       "</table>\n",
       "</div>"
      ],
      "text/plain": [
       "         candidate_count  candidate_withpage  candidate_coverage  \\\n",
       "overall             3386                 654            0.193148   \n",
       "\n",
       "         winner_count  winner_withpage  winner_coverage  \n",
       "overall          1765              403         0.228329  "
      ]
     },
     "execution_count": 129,
     "metadata": {},
     "output_type": "execute_result"
    }
   ],
   "source": [
    "coverage0"
   ]
  },
  {
   "cell_type": "markdown",
   "metadata": {},
   "source": [
    "# website coverage of candidates & winners, by election type"
   ]
  },
  {
   "cell_type": "code",
   "execution_count": 131,
   "metadata": {},
   "outputs": [
    {
     "data": {
      "text/html": [
       "<div>\n",
       "<style scoped>\n",
       "    .dataframe tbody tr th:only-of-type {\n",
       "        vertical-align: middle;\n",
       "    }\n",
       "\n",
       "    .dataframe tbody tr th {\n",
       "        vertical-align: top;\n",
       "    }\n",
       "\n",
       "    .dataframe thead th {\n",
       "        text-align: right;\n",
       "    }\n",
       "</style>\n",
       "<table border=\"1\" class=\"dataframe\">\n",
       "  <thead>\n",
       "    <tr style=\"text-align: right;\">\n",
       "      <th></th>\n",
       "      <th>Name_Native</th>\n",
       "      <th>Name_Chinese</th>\n",
       "      <th>Birthdate</th>\n",
       "      <th>Sex</th>\n",
       "      <th>Age</th>\n",
       "      <th>ElectionCategory</th>\n",
       "      <th>ElectionDate</th>\n",
       "      <th>Position</th>\n",
       "      <th>L1_Division</th>\n",
       "      <th>L2_Division</th>\n",
       "      <th>L3_Division</th>\n",
       "      <th>ElectionDistrict</th>\n",
       "      <th>Party</th>\n",
       "      <th>CandidateNumber</th>\n",
       "      <th>CandidateStatus</th>\n",
       "      <th>WonElection</th>\n",
       "      <th>VoteCount</th>\n",
       "      <th>VotePercent</th>\n",
       "      <th>IncumbentStatus</th>\n",
       "      <th>Occupation</th>\n",
       "      <th>Education</th>\n",
       "      <th>Career1</th>\n",
       "      <th>Career2</th>\n",
       "      <th>Wiki</th>\n",
       "    </tr>\n",
       "  </thead>\n",
       "  <tbody>\n",
       "    <tr>\n",
       "      <th>0</th>\n",
       "      <td>丁勇智</td>\n",
       "      <td>丁勇智</td>\n",
       "      <td>1970</td>\n",
       "      <td>男</td>\n",
       "      <td>46</td>\n",
       "      <td>Executive Yuan</td>\n",
       "      <td>20160116</td>\n",
       "      <td>Legislator</td>\n",
       "      <td>屏東縣</td>\n",
       "      <td>NaN</td>\n",
       "      <td>NaN</td>\n",
       "      <td>第03選區</td>\n",
       "      <td>自由台灣黨</td>\n",
       "      <td>5</td>\n",
       "      <td>NaN</td>\n",
       "      <td>0</td>\n",
       "      <td>375</td>\n",
       "      <td>0.29</td>\n",
       "      <td>否</td>\n",
       "      <td>NaN</td>\n",
       "      <td>NaN</td>\n",
       "      <td>NaN</td>\n",
       "      <td>NaN</td>\n",
       "      <td>0</td>\n",
       "    </tr>\n",
       "  </tbody>\n",
       "</table>\n",
       "</div>"
      ],
      "text/plain": [
       "  Name_Native Name_Chinese  Birthdate Sex  Age ElectionCategory  ElectionDate  \\\n",
       "0         丁勇智          丁勇智       1970   男   46   Executive Yuan      20160116   \n",
       "\n",
       "     Position L1_Division L2_Division L3_Division ElectionDistrict  Party  \\\n",
       "0  Legislator         屏東縣         NaN         NaN            第03選區  自由台灣黨   \n",
       "\n",
       "   CandidateNumber  CandidateStatus  WonElection  VoteCount  VotePercent  \\\n",
       "0                5              NaN            0        375         0.29   \n",
       "\n",
       "  IncumbentStatus  Occupation  Education  Career1  Career2  Wiki  \n",
       "0               否         NaN        NaN      NaN      NaN     0  "
      ]
     },
     "execution_count": 131,
     "metadata": {},
     "output_type": "execute_result"
    }
   ],
   "source": [
    "twtest[0:1]"
   ]
  },
  {
   "cell_type": "code",
   "execution_count": 132,
   "metadata": {},
   "outputs": [],
   "source": [
    "coverage = twtest.groupby(twtest.ElectionCategory).agg(candidate_count=(\"Name_Native\",\"count\"))"
   ]
  },
  {
   "cell_type": "code",
   "execution_count": 133,
   "metadata": {},
   "outputs": [],
   "source": [
    "coverage[\"candidate_withpage\"] = twtest[~(twtest.Wiki==0)].groupby(twtest.ElectionCategory).agg(candidate_coverage=(\"Name_Native\",\"count\"))"
   ]
  },
  {
   "cell_type": "code",
   "execution_count": 134,
   "metadata": {},
   "outputs": [],
   "source": [
    "coverage[\"candidate_coverage\"] = coverage[\"candidate_withpage\"] / coverage[\"candidate_count\"]"
   ]
  },
  {
   "cell_type": "code",
   "execution_count": 135,
   "metadata": {},
   "outputs": [],
   "source": [
    "coverage[\"winner_count\"] = twtest[twtest.WonElection==1].groupby(twtest.ElectionCategory).agg({\"Name_Native\":\"count\"})"
   ]
  },
  {
   "cell_type": "code",
   "execution_count": 136,
   "metadata": {},
   "outputs": [],
   "source": [
    "coverage[\"winner_withpage\"] = twtest[~(twtest.Wiki==0) & twtest.WonElection==1].groupby(twtest.ElectionCategory).agg({\"Name_Native\":\"count\"})"
   ]
  },
  {
   "cell_type": "code",
   "execution_count": 137,
   "metadata": {},
   "outputs": [],
   "source": [
    "coverage[\"winner_coverage\"] = coverage[\"winner_withpage\"] / coverage[\"winner_count\"]"
   ]
  },
  {
   "cell_type": "code",
   "execution_count": 138,
   "metadata": {},
   "outputs": [
    {
     "data": {
      "text/html": [
       "<div>\n",
       "<style scoped>\n",
       "    .dataframe tbody tr th:only-of-type {\n",
       "        vertical-align: middle;\n",
       "    }\n",
       "\n",
       "    .dataframe tbody tr th {\n",
       "        vertical-align: top;\n",
       "    }\n",
       "\n",
       "    .dataframe thead th {\n",
       "        text-align: right;\n",
       "    }\n",
       "</style>\n",
       "<table border=\"1\" class=\"dataframe\">\n",
       "  <thead>\n",
       "    <tr style=\"text-align: right;\">\n",
       "      <th></th>\n",
       "      <th>candidate_count</th>\n",
       "      <th>candidate_withpage</th>\n",
       "      <th>candidate_coverage</th>\n",
       "      <th>winner_count</th>\n",
       "      <th>winner_withpage</th>\n",
       "      <th>winner_coverage</th>\n",
       "    </tr>\n",
       "    <tr>\n",
       "      <th>ElectionCategory</th>\n",
       "      <th></th>\n",
       "      <th></th>\n",
       "      <th></th>\n",
       "      <th></th>\n",
       "      <th></th>\n",
       "      <th></th>\n",
       "    </tr>\n",
       "  </thead>\n",
       "  <tbody>\n",
       "    <tr>\n",
       "      <th>Aboriginal Chief</th>\n",
       "      <td>20</td>\n",
       "      <td>3.0</td>\n",
       "      <td>0.150000</td>\n",
       "      <td>6</td>\n",
       "      <td>NaN</td>\n",
       "      <td>NaN</td>\n",
       "    </tr>\n",
       "    <tr>\n",
       "      <th>Aboriginal Representative</th>\n",
       "      <td>94</td>\n",
       "      <td>13.0</td>\n",
       "      <td>0.138298</td>\n",
       "      <td>50</td>\n",
       "      <td>8.0</td>\n",
       "      <td>0.160000</td>\n",
       "    </tr>\n",
       "    <tr>\n",
       "      <th>County Legislature</th>\n",
       "      <td>801</td>\n",
       "      <td>140.0</td>\n",
       "      <td>0.174782</td>\n",
       "      <td>490</td>\n",
       "      <td>100.0</td>\n",
       "      <td>0.204082</td>\n",
       "    </tr>\n",
       "    <tr>\n",
       "      <th>County Mayor</th>\n",
       "      <td>64</td>\n",
       "      <td>38.0</td>\n",
       "      <td>0.593750</td>\n",
       "      <td>16</td>\n",
       "      <td>13.0</td>\n",
       "      <td>0.812500</td>\n",
       "    </tr>\n",
       "    <tr>\n",
       "      <th>Executive Yuan</th>\n",
       "      <td>288</td>\n",
       "      <td>128.0</td>\n",
       "      <td>0.444444</td>\n",
       "      <td>57</td>\n",
       "      <td>49.0</td>\n",
       "      <td>0.859649</td>\n",
       "    </tr>\n",
       "    <tr>\n",
       "      <th>Municipal Legislature</th>\n",
       "      <td>639</td>\n",
       "      <td>260.0</td>\n",
       "      <td>0.406886</td>\n",
       "      <td>357</td>\n",
       "      <td>191.0</td>\n",
       "      <td>0.535014</td>\n",
       "    </tr>\n",
       "    <tr>\n",
       "      <th>Municipal Mayor</th>\n",
       "      <td>20</td>\n",
       "      <td>11.0</td>\n",
       "      <td>0.550000</td>\n",
       "      <td>6</td>\n",
       "      <td>5.0</td>\n",
       "      <td>0.833333</td>\n",
       "    </tr>\n",
       "    <tr>\n",
       "      <th>President and VP</th>\n",
       "      <td>5</td>\n",
       "      <td>5.0</td>\n",
       "      <td>1.000000</td>\n",
       "      <td>2</td>\n",
       "      <td>2.0</td>\n",
       "      <td>1.000000</td>\n",
       "    </tr>\n",
       "    <tr>\n",
       "      <th>Township Mayor</th>\n",
       "      <td>469</td>\n",
       "      <td>56.0</td>\n",
       "      <td>0.119403</td>\n",
       "      <td>198</td>\n",
       "      <td>35.0</td>\n",
       "      <td>0.176768</td>\n",
       "    </tr>\n",
       "    <tr>\n",
       "      <th>Township Representative</th>\n",
       "      <td>492</td>\n",
       "      <td>NaN</td>\n",
       "      <td>NaN</td>\n",
       "      <td>329</td>\n",
       "      <td>NaN</td>\n",
       "      <td>NaN</td>\n",
       "    </tr>\n",
       "    <tr>\n",
       "      <th>Village Chief</th>\n",
       "      <td>494</td>\n",
       "      <td>NaN</td>\n",
       "      <td>NaN</td>\n",
       "      <td>254</td>\n",
       "      <td>NaN</td>\n",
       "      <td>NaN</td>\n",
       "    </tr>\n",
       "  </tbody>\n",
       "</table>\n",
       "</div>"
      ],
      "text/plain": [
       "                           candidate_count  candidate_withpage  \\\n",
       "ElectionCategory                                                 \n",
       "Aboriginal Chief                        20                 3.0   \n",
       "Aboriginal Representative               94                13.0   \n",
       "County Legislature                     801               140.0   \n",
       "County Mayor                            64                38.0   \n",
       "Executive Yuan                         288               128.0   \n",
       "Municipal Legislature                  639               260.0   \n",
       "Municipal Mayor                         20                11.0   \n",
       "President and VP                         5                 5.0   \n",
       "Township Mayor                         469                56.0   \n",
       "Township Representative                492                 NaN   \n",
       "Village Chief                          494                 NaN   \n",
       "\n",
       "                           candidate_coverage  winner_count  winner_withpage  \\\n",
       "ElectionCategory                                                               \n",
       "Aboriginal Chief                     0.150000             6              NaN   \n",
       "Aboriginal Representative            0.138298            50              8.0   \n",
       "County Legislature                   0.174782           490            100.0   \n",
       "County Mayor                         0.593750            16             13.0   \n",
       "Executive Yuan                       0.444444            57             49.0   \n",
       "Municipal Legislature                0.406886           357            191.0   \n",
       "Municipal Mayor                      0.550000             6              5.0   \n",
       "President and VP                     1.000000             2              2.0   \n",
       "Township Mayor                       0.119403           198             35.0   \n",
       "Township Representative                   NaN           329              NaN   \n",
       "Village Chief                             NaN           254              NaN   \n",
       "\n",
       "                           winner_coverage  \n",
       "ElectionCategory                            \n",
       "Aboriginal Chief                       NaN  \n",
       "Aboriginal Representative         0.160000  \n",
       "County Legislature                0.204082  \n",
       "County Mayor                      0.812500  \n",
       "Executive Yuan                    0.859649  \n",
       "Municipal Legislature             0.535014  \n",
       "Municipal Mayor                   0.833333  \n",
       "President and VP                  1.000000  \n",
       "Township Mayor                    0.176768  \n",
       "Township Representative                NaN  \n",
       "Village Chief                          NaN  "
      ]
     },
     "execution_count": 138,
     "metadata": {},
     "output_type": "execute_result"
    }
   ],
   "source": [
    "coverage"
   ]
  },
  {
   "cell_type": "markdown",
   "metadata": {},
   "source": [
    "# coverage, by election type & overall"
   ]
  },
  {
   "cell_type": "code",
   "execution_count": 139,
   "metadata": {},
   "outputs": [
    {
     "data": {
      "text/html": [
       "<div>\n",
       "<style scoped>\n",
       "    .dataframe tbody tr th:only-of-type {\n",
       "        vertical-align: middle;\n",
       "    }\n",
       "\n",
       "    .dataframe tbody tr th {\n",
       "        vertical-align: top;\n",
       "    }\n",
       "\n",
       "    .dataframe thead th {\n",
       "        text-align: right;\n",
       "    }\n",
       "</style>\n",
       "<table border=\"1\" class=\"dataframe\">\n",
       "  <thead>\n",
       "    <tr style=\"text-align: right;\">\n",
       "      <th></th>\n",
       "      <th>candidate_count</th>\n",
       "      <th>candidate_withpage</th>\n",
       "      <th>candidate_coverage</th>\n",
       "      <th>winner_count</th>\n",
       "      <th>winner_withpage</th>\n",
       "      <th>winner_coverage</th>\n",
       "    </tr>\n",
       "  </thead>\n",
       "  <tbody>\n",
       "    <tr>\n",
       "      <th>Aboriginal Chief</th>\n",
       "      <td>20</td>\n",
       "      <td>3.0</td>\n",
       "      <td>0.150000</td>\n",
       "      <td>6</td>\n",
       "      <td>NaN</td>\n",
       "      <td>NaN</td>\n",
       "    </tr>\n",
       "    <tr>\n",
       "      <th>Aboriginal Representative</th>\n",
       "      <td>94</td>\n",
       "      <td>13.0</td>\n",
       "      <td>0.138298</td>\n",
       "      <td>50</td>\n",
       "      <td>8.0</td>\n",
       "      <td>0.160000</td>\n",
       "    </tr>\n",
       "    <tr>\n",
       "      <th>County Legislature</th>\n",
       "      <td>801</td>\n",
       "      <td>140.0</td>\n",
       "      <td>0.174782</td>\n",
       "      <td>490</td>\n",
       "      <td>100.0</td>\n",
       "      <td>0.204082</td>\n",
       "    </tr>\n",
       "    <tr>\n",
       "      <th>County Mayor</th>\n",
       "      <td>64</td>\n",
       "      <td>38.0</td>\n",
       "      <td>0.593750</td>\n",
       "      <td>16</td>\n",
       "      <td>13.0</td>\n",
       "      <td>0.812500</td>\n",
       "    </tr>\n",
       "    <tr>\n",
       "      <th>Executive Yuan</th>\n",
       "      <td>288</td>\n",
       "      <td>128.0</td>\n",
       "      <td>0.444444</td>\n",
       "      <td>57</td>\n",
       "      <td>49.0</td>\n",
       "      <td>0.859649</td>\n",
       "    </tr>\n",
       "    <tr>\n",
       "      <th>Municipal Legislature</th>\n",
       "      <td>639</td>\n",
       "      <td>260.0</td>\n",
       "      <td>0.406886</td>\n",
       "      <td>357</td>\n",
       "      <td>191.0</td>\n",
       "      <td>0.535014</td>\n",
       "    </tr>\n",
       "    <tr>\n",
       "      <th>Municipal Mayor</th>\n",
       "      <td>20</td>\n",
       "      <td>11.0</td>\n",
       "      <td>0.550000</td>\n",
       "      <td>6</td>\n",
       "      <td>5.0</td>\n",
       "      <td>0.833333</td>\n",
       "    </tr>\n",
       "    <tr>\n",
       "      <th>President and VP</th>\n",
       "      <td>5</td>\n",
       "      <td>5.0</td>\n",
       "      <td>1.000000</td>\n",
       "      <td>2</td>\n",
       "      <td>2.0</td>\n",
       "      <td>1.000000</td>\n",
       "    </tr>\n",
       "    <tr>\n",
       "      <th>Township Mayor</th>\n",
       "      <td>469</td>\n",
       "      <td>56.0</td>\n",
       "      <td>0.119403</td>\n",
       "      <td>198</td>\n",
       "      <td>35.0</td>\n",
       "      <td>0.176768</td>\n",
       "    </tr>\n",
       "    <tr>\n",
       "      <th>Township Representative</th>\n",
       "      <td>492</td>\n",
       "      <td>NaN</td>\n",
       "      <td>NaN</td>\n",
       "      <td>329</td>\n",
       "      <td>NaN</td>\n",
       "      <td>NaN</td>\n",
       "    </tr>\n",
       "    <tr>\n",
       "      <th>Village Chief</th>\n",
       "      <td>494</td>\n",
       "      <td>NaN</td>\n",
       "      <td>NaN</td>\n",
       "      <td>254</td>\n",
       "      <td>NaN</td>\n",
       "      <td>NaN</td>\n",
       "    </tr>\n",
       "    <tr>\n",
       "      <th>overall</th>\n",
       "      <td>3386</td>\n",
       "      <td>654.0</td>\n",
       "      <td>0.193148</td>\n",
       "      <td>1765</td>\n",
       "      <td>403.0</td>\n",
       "      <td>0.228329</td>\n",
       "    </tr>\n",
       "  </tbody>\n",
       "</table>\n",
       "</div>"
      ],
      "text/plain": [
       "                           candidate_count  candidate_withpage  \\\n",
       "Aboriginal Chief                        20                 3.0   \n",
       "Aboriginal Representative               94                13.0   \n",
       "County Legislature                     801               140.0   \n",
       "County Mayor                            64                38.0   \n",
       "Executive Yuan                         288               128.0   \n",
       "Municipal Legislature                  639               260.0   \n",
       "Municipal Mayor                         20                11.0   \n",
       "President and VP                         5                 5.0   \n",
       "Township Mayor                         469                56.0   \n",
       "Township Representative                492                 NaN   \n",
       "Village Chief                          494                 NaN   \n",
       "overall                               3386               654.0   \n",
       "\n",
       "                           candidate_coverage  winner_count  winner_withpage  \\\n",
       "Aboriginal Chief                     0.150000             6              NaN   \n",
       "Aboriginal Representative            0.138298            50              8.0   \n",
       "County Legislature                   0.174782           490            100.0   \n",
       "County Mayor                         0.593750            16             13.0   \n",
       "Executive Yuan                       0.444444            57             49.0   \n",
       "Municipal Legislature                0.406886           357            191.0   \n",
       "Municipal Mayor                      0.550000             6              5.0   \n",
       "President and VP                     1.000000             2              2.0   \n",
       "Township Mayor                       0.119403           198             35.0   \n",
       "Township Representative                   NaN           329              NaN   \n",
       "Village Chief                             NaN           254              NaN   \n",
       "overall                              0.193148          1765            403.0   \n",
       "\n",
       "                           winner_coverage  \n",
       "Aboriginal Chief                       NaN  \n",
       "Aboriginal Representative         0.160000  \n",
       "County Legislature                0.204082  \n",
       "County Mayor                      0.812500  \n",
       "Executive Yuan                    0.859649  \n",
       "Municipal Legislature             0.535014  \n",
       "Municipal Mayor                   0.833333  \n",
       "President and VP                  1.000000  \n",
       "Township Mayor                    0.176768  \n",
       "Township Representative                NaN  \n",
       "Village Chief                          NaN  \n",
       "overall                           0.228329  "
      ]
     },
     "execution_count": 139,
     "metadata": {},
     "output_type": "execute_result"
    }
   ],
   "source": [
    "pd.concat([coverage,coverage0])"
   ]
  },
  {
   "cell_type": "code",
   "execution_count": null,
   "metadata": {},
   "outputs": [],
   "source": []
  }
 ],
 "metadata": {
  "kernelspec": {
   "display_name": "Python 3",
   "language": "python",
   "name": "python3"
  },
  "language_info": {
   "codemirror_mode": {
    "name": "ipython",
    "version": 3
   },
   "file_extension": ".py",
   "mimetype": "text/x-python",
   "name": "python",
   "nbconvert_exporter": "python",
   "pygments_lexer": "ipython3",
   "version": "3.7.3"
  }
 },
 "nbformat": 4,
 "nbformat_minor": 4
}
