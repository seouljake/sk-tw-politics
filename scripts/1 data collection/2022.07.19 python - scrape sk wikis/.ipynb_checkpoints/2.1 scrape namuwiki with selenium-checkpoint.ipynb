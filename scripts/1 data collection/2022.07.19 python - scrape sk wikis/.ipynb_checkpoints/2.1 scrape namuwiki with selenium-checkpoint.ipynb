{
 "cells": [
  {
   "cell_type": "code",
   "execution_count": 73,
   "metadata": {
    "executionInfo": {
     "elapsed": 414,
     "status": "ok",
     "timestamp": 1721740504480,
     "user": {
      "displayName": "Jacob Reidhead",
      "userId": "14896096740474010338"
     },
     "user_tz": -480
    },
    "id": "o5bQeR8QwfUw"
   },
   "outputs": [],
   "source": [
    "import pandas as pd\n",
    "import numpy as np\n",
    "pd.set_option('display.max_rows', 10)"
   ]
  },
  {
   "cell_type": "code",
   "execution_count": 74,
   "metadata": {
    "executionInfo": {
     "elapsed": 405,
     "status": "ok",
     "timestamp": 1721740195545,
     "user": {
      "displayName": "Jacob Reidhead",
      "userId": "14896096740474010338"
     },
     "user_tz": -480
    },
    "id": "OCI8zdEVtme8"
   },
   "outputs": [],
   "source": [
    "import unicodedata"
   ]
  },
  {
   "cell_type": "code",
   "execution_count": 75,
   "metadata": {
    "executionInfo": {
     "elapsed": 1060,
     "status": "ok",
     "timestamp": 1721738148264,
     "user": {
      "displayName": "Jacob Reidhead",
      "userId": "14896096740474010338"
     },
     "user_tz": -480
    },
    "id": "eGVnavtowfUz"
   },
   "outputs": [],
   "source": [
    "import os\n",
    "import urllib.parse"
   ]
  },
  {
   "cell_type": "code",
   "execution_count": 76,
   "metadata": {
    "colab": {
     "base_uri": "https://localhost:8080/"
    },
    "executionInfo": {
     "elapsed": 12573,
     "status": "ok",
     "timestamp": 1721738181097,
     "user": {
      "displayName": "Jacob Reidhead",
      "userId": "14896096740474010338"
     },
     "user_tz": -480
    },
    "id": "Pr3XUs09w55u",
    "outputId": "a99a72b8-d816-444e-e615-ad48c6d31726"
   },
   "outputs": [],
   "source": [
    "# pip install brotli"
   ]
  },
  {
   "cell_type": "code",
   "execution_count": 77,
   "metadata": {
    "colab": {
     "base_uri": "https://localhost:8080/"
    },
    "executionInfo": {
     "elapsed": 27434,
     "status": "ok",
     "timestamp": 1721738208525,
     "user": {
      "displayName": "Jacob Reidhead",
      "userId": "14896096740474010338"
     },
     "user_tz": -480
    },
    "id": "4MZtsVvCxKBG",
    "outputId": "00a291df-bc90-4d20-83af-0ca2d2919604"
   },
   "outputs": [],
   "source": [
    "# pip install selenium"
   ]
  },
  {
   "cell_type": "code",
   "execution_count": 78,
   "metadata": {
    "colab": {
     "base_uri": "https://localhost:8080/"
    },
    "executionInfo": {
     "elapsed": 13636,
     "status": "ok",
     "timestamp": 1721738222140,
     "user": {
      "displayName": "Jacob Reidhead",
      "userId": "14896096740474010338"
     },
     "user_tz": -480
    },
    "id": "kIvhERaKxWz0",
    "outputId": "4154d7dd-b303-4cd9-b064-6154b2bec263"
   },
   "outputs": [],
   "source": [
    "# pip install webdriver_manager"
   ]
  },
  {
   "cell_type": "code",
   "execution_count": 79,
   "metadata": {
    "executionInfo": {
     "elapsed": 519,
     "status": "ok",
     "timestamp": 1721738222632,
     "user": {
      "displayName": "Jacob Reidhead",
      "userId": "14896096740474010338"
     },
     "user_tz": -480
    },
    "id": "s92wcHTlwfUz"
   },
   "outputs": [],
   "source": [
    "import requests\n",
    "import brotli\n",
    "from bs4 import BeautifulSoup"
   ]
  },
  {
   "cell_type": "code",
   "execution_count": 80,
   "metadata": {
    "executionInfo": {
     "elapsed": 324,
     "status": "ok",
     "timestamp": 1721742140732,
     "user": {
      "displayName": "Jacob Reidhead",
      "userId": "14896096740474010338"
     },
     "user_tz": -480
    },
    "id": "fejk0feTwfUz"
   },
   "outputs": [],
   "source": [
    "from selenium import webdriver\n",
    "from selenium.webdriver.chrome.service import Service\n",
    "from webdriver_manager.chrome import ChromeDriverManager\n",
    "from selenium.webdriver.common.by import By\n",
    "from selenium.webdriver.chrome.options import Options"
   ]
  },
  {
   "cell_type": "code",
   "execution_count": 81,
   "metadata": {
    "colab": {
     "base_uri": "https://localhost:8080/"
    },
    "executionInfo": {
     "elapsed": 20906,
     "status": "ok",
     "timestamp": 1721738243532,
     "user": {
      "displayName": "Jacob Reidhead",
      "userId": "14896096740474010338"
     },
     "user_tz": -480
    },
    "id": "nWpiWZhww1Ka",
    "outputId": "5779fada-4596-4480-a11d-0f6a8900b6ff"
   },
   "outputs": [],
   "source": [
    "# from google.colab import drive\n",
    "# drive.mount('/content/drive')"
   ]
  },
  {
   "cell_type": "code",
   "execution_count": 82,
   "metadata": {
    "executionInfo": {
     "elapsed": 343,
     "status": "ok",
     "timestamp": 1721738246607,
     "user": {
      "displayName": "Jacob Reidhead",
      "userId": "14896096740474010338"
     },
     "user_tz": -480
    },
    "id": "07qQrJQqwfU0"
   },
   "outputs": [],
   "source": [
    "# # paths\n",
    "\n",
    "# path_0 = \"/content/drive/MyDrive/Shared Folders/2 Research/4 SK & TW Politics/Data - Family/SK/1. Master List/\"\n",
    "# path_1 = \"/content/drive/MyDrive/Shared Folders/2 Research/4 SK & TW Politics/Data - Family/SK/1. Master List/1.1 old politician lists/\"\n",
    "# path_12 = \"/content/drive/MyDrive/Shared Folders/2 Research/4 SK & TW Politics/Data - Family/SK/1. Master List/1.2 old url lists/\"\n",
    "\n",
    "# path_2 = \"/content/drive/MyDrive/Shared Folders/2 Research/4 SK & TW Politics/Data - Family/SK/2. Scraped Pages/\"\n",
    "# path_2_2022 = \"/content/drive/MyDrive/Shared Folders/2 Research/4 SK & TW Politics/Data - Family/SK/2. Scraped Pages/html scraped in 2022/\"\n",
    "# path_2_2024 = \"/content/drive/MyDrive/Shared Folders/2 Research/4 SK & TW Politics/Data - Family/SK/2. Scraped Pages/html scraped in 2024/\""
   ]
  },
  {
   "cell_type": "code",
   "execution_count": 83,
   "metadata": {},
   "outputs": [],
   "source": [
    "# paths\n",
    "\n",
    "path_0 = \"../../../data/data_sk_wikis_2024/\"\n",
    "path_1 = \"../../../data/data_sk_wikis_2024/1. Master List/\"\n",
    "path_2_2022 = \"../../../data/data_sk_wikis/2.1 - sk namuwiki scraping test/\"\n",
    "path_2_2024 = \"../../../data/data_sk_wikis_2024/2. Scraped Pages/html scraped in 2024/\""
   ]
  },
  {
   "cell_type": "code",
   "execution_count": 84,
   "metadata": {
    "executionInfo": {
     "elapsed": 4,
     "status": "ok",
     "timestamp": 1721738247959,
     "user": {
      "displayName": "Jacob Reidhead",
      "userId": "14896096740474010338"
     },
     "user_tz": -480
    },
    "id": "QNztd6LYwfU0"
   },
   "outputs": [],
   "source": [
    "filename_log = \"_seleniumtest_log.txt\"\n",
    "filename_scrape_list_sk = \"scrape_list_sk.xlsx\""
   ]
  },
  {
   "cell_type": "code",
   "execution_count": 85,
   "metadata": {
    "colab": {
     "base_uri": "https://localhost:8080/",
     "height": 206
    },
    "executionInfo": {
     "elapsed": 4941,
     "status": "ok",
     "timestamp": 1721739244267,
     "user": {
      "displayName": "Jacob Reidhead",
      "userId": "14896096740474010338"
     },
     "user_tz": -480
    },
    "id": "kb6ws8DTyGyu",
    "outputId": "904895e8-e113-4ffa-cb7f-2ed0f15590e7"
   },
   "outputs": [
    {
     "data": {
      "text/html": [
       "<div>\n",
       "<style scoped>\n",
       "    .dataframe tbody tr th:only-of-type {\n",
       "        vertical-align: middle;\n",
       "    }\n",
       "\n",
       "    .dataframe tbody tr th {\n",
       "        vertical-align: top;\n",
       "    }\n",
       "\n",
       "    .dataframe thead th {\n",
       "        text-align: right;\n",
       "    }\n",
       "</style>\n",
       "<table border=\"1\" class=\"dataframe\">\n",
       "  <thead>\n",
       "    <tr style=\"text-align: right;\">\n",
       "      <th></th>\n",
       "      <th>Country</th>\n",
       "      <th>Name_Native</th>\n",
       "      <th>URL_Generic</th>\n",
       "    </tr>\n",
       "  </thead>\n",
       "  <tbody>\n",
       "    <tr>\n",
       "      <th>0</th>\n",
       "      <td>SK</td>\n",
       "      <td>가기산</td>\n",
       "      <td>https://namu.wiki/w/가기산</td>\n",
       "    </tr>\n",
       "    <tr>\n",
       "      <th>1</th>\n",
       "      <td>SK</td>\n",
       "      <td>가기송</td>\n",
       "      <td>https://namu.wiki/w/가기송</td>\n",
       "    </tr>\n",
       "    <tr>\n",
       "      <th>2</th>\n",
       "      <td>SK</td>\n",
       "      <td>가기순</td>\n",
       "      <td>https://namu.wiki/w/가기순</td>\n",
       "    </tr>\n",
       "    <tr>\n",
       "      <th>3</th>\n",
       "      <td>SK</td>\n",
       "      <td>가대현</td>\n",
       "      <td>https://namu.wiki/w/가대현</td>\n",
       "    </tr>\n",
       "    <tr>\n",
       "      <th>4</th>\n",
       "      <td>SK</td>\n",
       "      <td>가세로</td>\n",
       "      <td>https://namu.wiki/w/가세로</td>\n",
       "    </tr>\n",
       "  </tbody>\n",
       "</table>\n",
       "</div>"
      ],
      "text/plain": [
       "  Country Name_Native              URL_Generic\n",
       "0      SK         가기산  https://namu.wiki/w/가기산\n",
       "1      SK         가기송  https://namu.wiki/w/가기송\n",
       "2      SK         가기순  https://namu.wiki/w/가기순\n",
       "3      SK         가대현  https://namu.wiki/w/가대현\n",
       "4      SK         가세로  https://namu.wiki/w/가세로"
      ]
     },
     "execution_count": 85,
     "metadata": {},
     "output_type": "execute_result"
    }
   ],
   "source": [
    "scrape_sk = pd.read_excel(path_1 + filename_scrape_list_sk)\n",
    "scrape_sk.head()"
   ]
  },
  {
   "cell_type": "markdown",
   "metadata": {
    "id": "cuYzycdZwfU0"
   },
   "source": [
    "# get 2022 list\n"
   ]
  },
  {
   "cell_type": "code",
   "execution_count": 86,
   "metadata": {
    "executionInfo": {
     "elapsed": 352,
     "status": "ok",
     "timestamp": 1721739547418,
     "user": {
      "displayName": "Jacob Reidhead",
      "userId": "14896096740474010338"
     },
     "user_tz": -480
    },
    "id": "zNk3XuQtwfU1"
   },
   "outputs": [],
   "source": [
    "list_2022 = os.listdir(path_2_2022)\n",
    "# list_2022 = []"
   ]
  },
  {
   "cell_type": "code",
   "execution_count": 87,
   "metadata": {
    "colab": {
     "base_uri": "https://localhost:8080/"
    },
    "executionInfo": {
     "elapsed": 9,
     "status": "ok",
     "timestamp": 1721739547844,
     "user": {
      "displayName": "Jacob Reidhead",
      "userId": "14896096740474010338"
     },
     "user_tz": -480
    },
    "id": "rWc1q5zzwfU1",
    "outputId": "8b0216a5-9500-4f54-ee4d-3f716265c0d2"
   },
   "outputs": [
    {
     "data": {
      "text/plain": [
       "3692"
      ]
     },
     "execution_count": 87,
     "metadata": {},
     "output_type": "execute_result"
    }
   ],
   "source": [
    "len(list_2022)"
   ]
  },
  {
   "cell_type": "code",
   "execution_count": 88,
   "metadata": {
    "executionInfo": {
     "elapsed": 355,
     "status": "ok",
     "timestamp": 1721739650734,
     "user": {
      "displayName": "Jacob Reidhead",
      "userId": "14896096740474010338"
     },
     "user_tz": -480
    },
    "id": "VGla8sIVrSCb"
   },
   "outputs": [],
   "source": [
    "list_2022.sort()"
   ]
  },
  {
   "cell_type": "code",
   "execution_count": 89,
   "metadata": {
    "colab": {
     "base_uri": "https://localhost:8080/"
    },
    "executionInfo": {
     "elapsed": 3,
     "status": "ok",
     "timestamp": 1721739651142,
     "user": {
      "displayName": "Jacob Reidhead",
      "userId": "14896096740474010338"
     },
     "user_tz": -480
    },
    "id": "4aGRAEsRrguY",
    "outputId": "a33632ff-80b7-494b-b132-2983f2d6b51a"
   },
   "outputs": [
    {
     "data": {
      "text/plain": [
       "['seleniumtest_0_가세로.html',\n",
       " 'seleniumtest_1000_김동준.html',\n",
       " 'seleniumtest_1002_김동진.html',\n",
       " 'seleniumtest_1003_김동진.html',\n",
       " 'seleniumtest_1004_김동찬.html',\n",
       " 'seleniumtest_1006_김동철.html',\n",
       " 'seleniumtest_1007_김동철.html',\n",
       " 'seleniumtest_1008_김동철.html',\n",
       " 'seleniumtest_1009_김동철.html',\n",
       " 'seleniumtest_1012_김동하.html']"
      ]
     },
     "execution_count": 89,
     "metadata": {},
     "output_type": "execute_result"
    }
   ],
   "source": [
    "list_2022[0:10]"
   ]
  },
  {
   "cell_type": "code",
   "execution_count": 90,
   "metadata": {
    "executionInfo": {
     "elapsed": 416,
     "status": "ok",
     "timestamp": 1721740259541,
     "user": {
      "displayName": "Jacob Reidhead",
      "userId": "14896096740474010338"
     },
     "user_tz": -480
    },
    "id": "WiqJFyy8wfU3"
   },
   "outputs": [],
   "source": [
    "list_2022_names = [unicodedata.normalize(\"NFC\",e.split(\".\")[0].split(\"_\")[-1]) for e in list_2022]"
   ]
  },
  {
   "cell_type": "code",
   "execution_count": 91,
   "metadata": {
    "executionInfo": {
     "elapsed": 420,
     "status": "ok",
     "timestamp": 1721740265913,
     "user": {
      "displayName": "Jacob Reidhead",
      "userId": "14896096740474010338"
     },
     "user_tz": -480
    },
    "id": "nzdHwvYIsCTq"
   },
   "outputs": [],
   "source": [
    "list_2022_names = list(set(list_2022_names))"
   ]
  },
  {
   "cell_type": "code",
   "execution_count": 92,
   "metadata": {
    "colab": {
     "base_uri": "https://localhost:8080/"
    },
    "executionInfo": {
     "elapsed": 6,
     "status": "ok",
     "timestamp": 1721740267555,
     "user": {
      "displayName": "Jacob Reidhead",
      "userId": "14896096740474010338"
     },
     "user_tz": -480
    },
    "id": "4YLku3Z-y4xX",
    "outputId": "100a7ad4-71cc-4e70-c1e0-c19678a892d3"
   },
   "outputs": [
    {
     "data": {
      "text/plain": [
       "2992"
      ]
     },
     "execution_count": 92,
     "metadata": {},
     "output_type": "execute_result"
    }
   ],
   "source": [
    "len(list_2022_names)"
   ]
  },
  {
   "cell_type": "code",
   "execution_count": 93,
   "metadata": {
    "executionInfo": {
     "elapsed": 6,
     "status": "ok",
     "timestamp": 1721740268834,
     "user": {
      "displayName": "Jacob Reidhead",
      "userId": "14896096740474010338"
     },
     "user_tz": -480
    },
    "id": "iCMTf7v4oWVj"
   },
   "outputs": [],
   "source": [
    "list_2022_names.sort()"
   ]
  },
  {
   "cell_type": "code",
   "execution_count": 94,
   "metadata": {
    "colab": {
     "base_uri": "https://localhost:8080/"
    },
    "executionInfo": {
     "elapsed": 10,
     "status": "ok",
     "timestamp": 1721740269995,
     "user": {
      "displayName": "Jacob Reidhead",
      "userId": "14896096740474010338"
     },
     "user_tz": -480
    },
    "id": "gFKfhI9H0Ady",
    "outputId": "060643f1-a857-44da-89a4-687b0bd1d8e5"
   },
   "outputs": [
    {
     "data": {
      "text/plain": [
       "['가세로', '강감창', '강갑중', '강경식', '강광', '강구덕', '강기봉', '강기윤', '강길부', '강다현']"
      ]
     },
     "execution_count": 94,
     "metadata": {},
     "output_type": "execute_result"
    }
   ],
   "source": [
    "list_2022_names[0:10]"
   ]
  },
  {
   "cell_type": "code",
   "execution_count": 95,
   "metadata": {
    "executionInfo": {
     "elapsed": 366,
     "status": "ok",
     "timestamp": 1721740276019,
     "user": {
      "displayName": "Jacob Reidhead",
      "userId": "14896096740474010338"
     },
     "user_tz": -480
    },
    "id": "OaJytw5Z0E8i"
   },
   "outputs": [],
   "source": [
    "list_master_sk = scrape_sk.Name_Native.to_list()\n",
    "list_master_sk.sort()"
   ]
  },
  {
   "cell_type": "code",
   "execution_count": 96,
   "metadata": {
    "colab": {
     "base_uri": "https://localhost:8080/"
    },
    "executionInfo": {
     "elapsed": 11,
     "status": "ok",
     "timestamp": 1721740277685,
     "user": {
      "displayName": "Jacob Reidhead",
      "userId": "14896096740474010338"
     },
     "user_tz": -480
    },
    "id": "CeZffjet04LT",
    "outputId": "be9488a2-f1fc-4d49-b32d-46b341ade908"
   },
   "outputs": [
    {
     "data": {
      "text/plain": [
       "['가기산', '가기송', '가기순', '가대현', '가세로', '가용섭', '가재문', '가재춘', '가종인', '가창현']"
      ]
     },
     "execution_count": 96,
     "metadata": {},
     "output_type": "execute_result"
    }
   ],
   "source": [
    "list_master_sk[0:10]"
   ]
  },
  {
   "cell_type": "code",
   "execution_count": 97,
   "metadata": {
    "executionInfo": {
     "elapsed": 364,
     "status": "ok",
     "timestamp": 1721740295536,
     "user": {
      "displayName": "Jacob Reidhead",
      "userId": "14896096740474010338"
     },
     "user_tz": -480
    },
    "id": "A6q3fjba0N7I"
   },
   "outputs": [],
   "source": [
    "not_scraped = list(set(list_master_sk) - set(list_2022_names))"
   ]
  },
  {
   "cell_type": "code",
   "execution_count": 98,
   "metadata": {
    "colab": {
     "base_uri": "https://localhost:8080/"
    },
    "executionInfo": {
     "elapsed": 6,
     "status": "ok",
     "timestamp": 1721740299029,
     "user": {
      "displayName": "Jacob Reidhead",
      "userId": "14896096740474010338"
     },
     "user_tz": -480
    },
    "id": "G9mHo12f0jG1",
    "outputId": "e5601ee4-da7d-4c0b-988d-69eeed748cf6"
   },
   "outputs": [
    {
     "data": {
      "text/plain": [
       "35124"
      ]
     },
     "execution_count": 98,
     "metadata": {},
     "output_type": "execute_result"
    }
   ],
   "source": [
    "len(list_master_sk)"
   ]
  },
  {
   "cell_type": "code",
   "execution_count": 99,
   "metadata": {
    "colab": {
     "base_uri": "https://localhost:8080/"
    },
    "executionInfo": {
     "elapsed": 7,
     "status": "ok",
     "timestamp": 1721740300408,
     "user": {
      "displayName": "Jacob Reidhead",
      "userId": "14896096740474010338"
     },
     "user_tz": -480
    },
    "id": "PVQx3_a-0czK",
    "outputId": "15e664aa-1a0b-46d5-f902-acb5e9593c5e"
   },
   "outputs": [
    {
     "data": {
      "text/plain": [
       "32132"
      ]
     },
     "execution_count": 99,
     "metadata": {},
     "output_type": "execute_result"
    }
   ],
   "source": [
    "len(not_scraped)"
   ]
  },
  {
   "cell_type": "code",
   "execution_count": 100,
   "metadata": {
    "colab": {
     "base_uri": "https://localhost:8080/"
    },
    "executionInfo": {
     "elapsed": 334,
     "status": "ok",
     "timestamp": 1721740414493,
     "user": {
      "displayName": "Jacob Reidhead",
      "userId": "14896096740474010338"
     },
     "user_tz": -480
    },
    "id": "cOO53JLCuRbB",
    "outputId": "2a5f6eca-7818-484f-8f7a-36b0dd1af0ba"
   },
   "outputs": [
    {
     "data": {
      "text/plain": [
       "2992"
      ]
     },
     "execution_count": 100,
     "metadata": {},
     "output_type": "execute_result"
    }
   ],
   "source": [
    "# already scraped\n",
    "len(list_master_sk) - len(not_scraped)"
   ]
  },
  {
   "cell_type": "code",
   "execution_count": 101,
   "metadata": {
    "colab": {
     "base_uri": "https://localhost:8080/"
    },
    "executionInfo": {
     "elapsed": 334,
     "status": "ok",
     "timestamp": 1721740356923,
     "user": {
      "displayName": "Jacob Reidhead",
      "userId": "14896096740474010338"
     },
     "user_tz": -480
    },
    "id": "a2_qQRHQuMFg",
    "outputId": "c30dca7e-f7e8-45ec-c82a-fccd21b559ff"
   },
   "outputs": [
    {
     "data": {
      "text/plain": [
       "0"
      ]
     },
     "execution_count": 101,
     "metadata": {},
     "output_type": "execute_result"
    }
   ],
   "source": [
    "# confirm all scraped URLs are in master\n",
    "scraped_not_in_master = list(set(list_2022_names) - set(list_master_sk))\n",
    "len(scraped_not_in_master)"
   ]
  },
  {
   "cell_type": "code",
   "execution_count": 102,
   "metadata": {
    "executionInfo": {
     "elapsed": 371,
     "status": "ok",
     "timestamp": 1721740445842,
     "user": {
      "displayName": "Jacob Reidhead",
      "userId": "14896096740474010338"
     },
     "user_tz": -480
    },
    "id": "7e2xlYvVzcsm"
   },
   "outputs": [],
   "source": [
    "scrape_sk[\"Scraped\"] = \"No\""
   ]
  },
  {
   "cell_type": "code",
   "execution_count": 103,
   "metadata": {
    "colab": {
     "base_uri": "https://localhost:8080/",
     "height": 423
    },
    "executionInfo": {
     "elapsed": 477,
     "status": "ok",
     "timestamp": 1721740511289,
     "user": {
      "displayName": "Jacob Reidhead",
      "userId": "14896096740474010338"
     },
     "user_tz": -480
    },
    "id": "DFiQr0eBz7lk",
    "outputId": "378e3c50-e57d-4176-e6db-a65b0ea13b25"
   },
   "outputs": [
    {
     "data": {
      "text/html": [
       "<div>\n",
       "<style scoped>\n",
       "    .dataframe tbody tr th:only-of-type {\n",
       "        vertical-align: middle;\n",
       "    }\n",
       "\n",
       "    .dataframe tbody tr th {\n",
       "        vertical-align: top;\n",
       "    }\n",
       "\n",
       "    .dataframe thead th {\n",
       "        text-align: right;\n",
       "    }\n",
       "</style>\n",
       "<table border=\"1\" class=\"dataframe\">\n",
       "  <thead>\n",
       "    <tr style=\"text-align: right;\">\n",
       "      <th></th>\n",
       "      <th>Country</th>\n",
       "      <th>Name_Native</th>\n",
       "      <th>URL_Generic</th>\n",
       "      <th>Scraped</th>\n",
       "    </tr>\n",
       "  </thead>\n",
       "  <tbody>\n",
       "    <tr>\n",
       "      <th>4</th>\n",
       "      <td>SK</td>\n",
       "      <td>가세로</td>\n",
       "      <td>https://namu.wiki/w/가세로</td>\n",
       "      <td>No</td>\n",
       "    </tr>\n",
       "    <tr>\n",
       "      <th>22</th>\n",
       "      <td>SK</td>\n",
       "      <td>강감창</td>\n",
       "      <td>https://namu.wiki/w/강감창</td>\n",
       "      <td>No</td>\n",
       "    </tr>\n",
       "    <tr>\n",
       "      <th>26</th>\n",
       "      <td>SK</td>\n",
       "      <td>강갑중</td>\n",
       "      <td>https://namu.wiki/w/강갑중</td>\n",
       "      <td>No</td>\n",
       "    </tr>\n",
       "    <tr>\n",
       "      <th>34</th>\n",
       "      <td>SK</td>\n",
       "      <td>강경식</td>\n",
       "      <td>https://namu.wiki/w/강경식</td>\n",
       "      <td>No</td>\n",
       "    </tr>\n",
       "    <tr>\n",
       "      <th>46</th>\n",
       "      <td>SK</td>\n",
       "      <td>강광</td>\n",
       "      <td>https://namu.wiki/w/강광</td>\n",
       "      <td>No</td>\n",
       "    </tr>\n",
       "    <tr>\n",
       "      <th>...</th>\n",
       "      <td>...</td>\n",
       "      <td>...</td>\n",
       "      <td>...</td>\n",
       "      <td>...</td>\n",
       "    </tr>\n",
       "    <tr>\n",
       "      <th>35017</th>\n",
       "      <td>SK</td>\n",
       "      <td>황춘자</td>\n",
       "      <td>https://namu.wiki/w/황춘자</td>\n",
       "      <td>No</td>\n",
       "    </tr>\n",
       "    <tr>\n",
       "      <th>35037</th>\n",
       "      <td>SK</td>\n",
       "      <td>황태웅</td>\n",
       "      <td>https://namu.wiki/w/황태웅</td>\n",
       "      <td>No</td>\n",
       "    </tr>\n",
       "    <tr>\n",
       "      <th>35072</th>\n",
       "      <td>SK</td>\n",
       "      <td>황현</td>\n",
       "      <td>https://namu.wiki/w/황현</td>\n",
       "      <td>No</td>\n",
       "    </tr>\n",
       "    <tr>\n",
       "      <th>35090</th>\n",
       "      <td>SK</td>\n",
       "      <td>황호산</td>\n",
       "      <td>https://namu.wiki/w/황호산</td>\n",
       "      <td>No</td>\n",
       "    </tr>\n",
       "    <tr>\n",
       "      <th>35119</th>\n",
       "      <td>SK</td>\n",
       "      <td>황희</td>\n",
       "      <td>https://namu.wiki/w/황희</td>\n",
       "      <td>No</td>\n",
       "    </tr>\n",
       "  </tbody>\n",
       "</table>\n",
       "<p>2992 rows × 4 columns</p>\n",
       "</div>"
      ],
      "text/plain": [
       "      Country Name_Native              URL_Generic Scraped\n",
       "4          SK         가세로  https://namu.wiki/w/가세로      No\n",
       "22         SK         강감창  https://namu.wiki/w/강감창      No\n",
       "26         SK         강갑중  https://namu.wiki/w/강갑중      No\n",
       "34         SK         강경식  https://namu.wiki/w/강경식      No\n",
       "46         SK          강광   https://namu.wiki/w/강광      No\n",
       "...       ...         ...                      ...     ...\n",
       "35017      SK         황춘자  https://namu.wiki/w/황춘자      No\n",
       "35037      SK         황태웅  https://namu.wiki/w/황태웅      No\n",
       "35072      SK          황현   https://namu.wiki/w/황현      No\n",
       "35090      SK         황호산  https://namu.wiki/w/황호산      No\n",
       "35119      SK          황희   https://namu.wiki/w/황희      No\n",
       "\n",
       "[2992 rows x 4 columns]"
      ]
     },
     "execution_count": 103,
     "metadata": {},
     "output_type": "execute_result"
    }
   ],
   "source": [
    "scrape_sk[scrape_sk.Name_Native.isin(list_2022_names)]"
   ]
  },
  {
   "cell_type": "code",
   "execution_count": 104,
   "metadata": {
    "executionInfo": {
     "elapsed": 411,
     "status": "ok",
     "timestamp": 1721740527423,
     "user": {
      "displayName": "Jacob Reidhead",
      "userId": "14896096740474010338"
     },
     "user_tz": -480
    },
    "id": "atr05emOzcq4"
   },
   "outputs": [],
   "source": [
    "scrape_sk.loc[scrape_sk.Name_Native.isin(list_2022_names),\"Scraped\"]=\"No\""
   ]
  },
  {
   "cell_type": "code",
   "execution_count": 105,
   "metadata": {
    "colab": {
     "base_uri": "https://localhost:8080/",
     "height": 143
    },
    "executionInfo": {
     "elapsed": 19,
     "status": "ok",
     "timestamp": 1721740528973,
     "user": {
      "displayName": "Jacob Reidhead",
      "userId": "14896096740474010338"
     },
     "user_tz": -480
    },
    "id": "3hOKEBYizcog",
    "outputId": "e7b59eaa-18dc-413d-f0e9-cbbd4f400eb0"
   },
   "outputs": [
    {
     "data": {
      "text/html": [
       "<div>\n",
       "<style scoped>\n",
       "    .dataframe tbody tr th:only-of-type {\n",
       "        vertical-align: middle;\n",
       "    }\n",
       "\n",
       "    .dataframe tbody tr th {\n",
       "        vertical-align: top;\n",
       "    }\n",
       "\n",
       "    .dataframe thead th {\n",
       "        text-align: right;\n",
       "    }\n",
       "</style>\n",
       "<table border=\"1\" class=\"dataframe\">\n",
       "  <thead>\n",
       "    <tr style=\"text-align: right;\">\n",
       "      <th></th>\n",
       "      <th>Country</th>\n",
       "      <th>Name_Native</th>\n",
       "      <th>URL_Generic</th>\n",
       "    </tr>\n",
       "    <tr>\n",
       "      <th>Scraped</th>\n",
       "      <th></th>\n",
       "      <th></th>\n",
       "      <th></th>\n",
       "    </tr>\n",
       "  </thead>\n",
       "  <tbody>\n",
       "    <tr>\n",
       "      <th>No</th>\n",
       "      <td>35124</td>\n",
       "      <td>35124</td>\n",
       "      <td>35124</td>\n",
       "    </tr>\n",
       "  </tbody>\n",
       "</table>\n",
       "</div>"
      ],
      "text/plain": [
       "         Country  Name_Native  URL_Generic\n",
       "Scraped                                   \n",
       "No         35124        35124        35124"
      ]
     },
     "execution_count": 105,
     "metadata": {},
     "output_type": "execute_result"
    }
   ],
   "source": [
    "scrape_sk.groupby(\"Scraped\").count()"
   ]
  },
  {
   "cell_type": "code",
   "execution_count": 106,
   "metadata": {
    "colab": {
     "base_uri": "https://localhost:8080/",
     "height": 362
    },
    "executionInfo": {
     "elapsed": 363,
     "status": "ok",
     "timestamp": 1721740633817,
     "user": {
      "displayName": "Jacob Reidhead",
      "userId": "14896096740474010338"
     },
     "user_tz": -480
    },
    "id": "DNI38RVjzcmk",
    "outputId": "db44dc39-7fa8-4a28-a18f-209b5b03e555"
   },
   "outputs": [
    {
     "data": {
      "text/html": [
       "<div>\n",
       "<style scoped>\n",
       "    .dataframe tbody tr th:only-of-type {\n",
       "        vertical-align: middle;\n",
       "    }\n",
       "\n",
       "    .dataframe tbody tr th {\n",
       "        vertical-align: top;\n",
       "    }\n",
       "\n",
       "    .dataframe thead th {\n",
       "        text-align: right;\n",
       "    }\n",
       "</style>\n",
       "<table border=\"1\" class=\"dataframe\">\n",
       "  <thead>\n",
       "    <tr style=\"text-align: right;\">\n",
       "      <th></th>\n",
       "      <th>Country</th>\n",
       "      <th>Name_Native</th>\n",
       "      <th>URL_Generic</th>\n",
       "      <th>Scraped</th>\n",
       "    </tr>\n",
       "  </thead>\n",
       "  <tbody>\n",
       "    <tr>\n",
       "      <th>0</th>\n",
       "      <td>SK</td>\n",
       "      <td>가기산</td>\n",
       "      <td>https://namu.wiki/w/가기산</td>\n",
       "      <td>No</td>\n",
       "    </tr>\n",
       "    <tr>\n",
       "      <th>1</th>\n",
       "      <td>SK</td>\n",
       "      <td>가기송</td>\n",
       "      <td>https://namu.wiki/w/가기송</td>\n",
       "      <td>No</td>\n",
       "    </tr>\n",
       "    <tr>\n",
       "      <th>2</th>\n",
       "      <td>SK</td>\n",
       "      <td>가기순</td>\n",
       "      <td>https://namu.wiki/w/가기순</td>\n",
       "      <td>No</td>\n",
       "    </tr>\n",
       "    <tr>\n",
       "      <th>3</th>\n",
       "      <td>SK</td>\n",
       "      <td>가대현</td>\n",
       "      <td>https://namu.wiki/w/가대현</td>\n",
       "      <td>No</td>\n",
       "    </tr>\n",
       "    <tr>\n",
       "      <th>4</th>\n",
       "      <td>SK</td>\n",
       "      <td>가세로</td>\n",
       "      <td>https://namu.wiki/w/가세로</td>\n",
       "      <td>No</td>\n",
       "    </tr>\n",
       "    <tr>\n",
       "      <th>5</th>\n",
       "      <td>SK</td>\n",
       "      <td>가용섭</td>\n",
       "      <td>https://namu.wiki/w/가용섭</td>\n",
       "      <td>No</td>\n",
       "    </tr>\n",
       "    <tr>\n",
       "      <th>6</th>\n",
       "      <td>SK</td>\n",
       "      <td>가재문</td>\n",
       "      <td>https://namu.wiki/w/가재문</td>\n",
       "      <td>No</td>\n",
       "    </tr>\n",
       "    <tr>\n",
       "      <th>7</th>\n",
       "      <td>SK</td>\n",
       "      <td>가재춘</td>\n",
       "      <td>https://namu.wiki/w/가재춘</td>\n",
       "      <td>No</td>\n",
       "    </tr>\n",
       "    <tr>\n",
       "      <th>8</th>\n",
       "      <td>SK</td>\n",
       "      <td>가종인</td>\n",
       "      <td>https://namu.wiki/w/가종인</td>\n",
       "      <td>No</td>\n",
       "    </tr>\n",
       "    <tr>\n",
       "      <th>9</th>\n",
       "      <td>SK</td>\n",
       "      <td>가창현</td>\n",
       "      <td>https://namu.wiki/w/가창현</td>\n",
       "      <td>No</td>\n",
       "    </tr>\n",
       "  </tbody>\n",
       "</table>\n",
       "</div>"
      ],
      "text/plain": [
       "  Country Name_Native              URL_Generic Scraped\n",
       "0      SK         가기산  https://namu.wiki/w/가기산      No\n",
       "1      SK         가기송  https://namu.wiki/w/가기송      No\n",
       "2      SK         가기순  https://namu.wiki/w/가기순      No\n",
       "3      SK         가대현  https://namu.wiki/w/가대현      No\n",
       "4      SK         가세로  https://namu.wiki/w/가세로      No\n",
       "5      SK         가용섭  https://namu.wiki/w/가용섭      No\n",
       "6      SK         가재문  https://namu.wiki/w/가재문      No\n",
       "7      SK         가재춘  https://namu.wiki/w/가재춘      No\n",
       "8      SK         가종인  https://namu.wiki/w/가종인      No\n",
       "9      SK         가창현  https://namu.wiki/w/가창현      No"
      ]
     },
     "execution_count": 106,
     "metadata": {},
     "output_type": "execute_result"
    }
   ],
   "source": [
    "scrape_sk.head(10)"
   ]
  },
  {
   "cell_type": "code",
   "execution_count": 107,
   "metadata": {
    "executionInfo": {
     "elapsed": 333,
     "status": "ok",
     "timestamp": 1721740794292,
     "user": {
      "displayName": "Jacob Reidhead",
      "userId": "14896096740474010338"
     },
     "user_tz": -480
    },
    "id": "dUOK-SLAvgra"
   },
   "outputs": [],
   "source": [
    "scrape_sk[\"URL_HasContent\"]=\"?\"\n",
    "# scrape_sk[\"URL_Multiple\"]=\"?\"\n",
    "# scrape_sk[\"URL_Case2\"]=\"?\"\n",
    "# scrape_sk[\"URL_Case3\"]=\"?\""
   ]
  },
  {
   "cell_type": "markdown",
   "metadata": {
    "id": "cgbKGHc5wfU3"
   },
   "source": [
    "# scrape namuwiki with selenium"
   ]
  },
  {
   "cell_type": "code",
   "execution_count": 108,
   "metadata": {
    "executionInfo": {
     "elapsed": 8,
     "status": "ok",
     "timestamp": 1721741719335,
     "user": {
      "displayName": "Jacob Reidhead",
      "userId": "14896096740474010338"
     },
     "user_tz": -480
    },
    "id": "U0XFVacIwfU3"
   },
   "outputs": [],
   "source": [
    "# url_stem = \"https://namu.wiki\"\n",
    "\n",
    "p_error_name = \"data-v-1ac09f2e\"\n",
    "p_error_text = \"해당 문서를 찾을 수 없습니다.\""
   ]
  },
  {
   "cell_type": "code",
   "execution_count": 109,
   "metadata": {
    "executionInfo": {
     "elapsed": 6,
     "status": "ok",
     "timestamp": 1721741722427,
     "user": {
      "displayName": "Jacob Reidhead",
      "userId": "14896096740474010338"
     },
     "user_tz": -480
    },
    "id": "h0tHQTCfwEwI"
   },
   "outputs": [],
   "source": [
    "sktest = scrape_sk.head(10)"
   ]
  },
  {
   "cell_type": "code",
   "execution_count": 110,
   "metadata": {
    "executionInfo": {
     "elapsed": 958,
     "status": "ok",
     "timestamp": 1721743384700,
     "user": {
      "displayName": "Jacob Reidhead",
      "userId": "14896096740474010338"
     },
     "user_tz": -480
    },
    "id": "mo7IS0sa1ICD"
   },
   "outputs": [],
   "source": [
    "# instantiate selenium webdriver\n",
    "\n",
    "# Set up Chrome options\n",
    "chrome_options = Options()\n",
    "chrome_options.add_argument(\"--headless\")  # Run Chrome in headless mode (optional)\n",
    "chrome_options.add_argument(\"--no-sandbox\")\n",
    "chrome_options.add_argument(\"--disable-dev-shm-usage\")\n",
    "\n",
    "# # Path to ChromeDriver\n",
    "# chrome_driver_path = 'C:/chromedriver/chromedriver.exe'  # Update this path as needed\n",
    "\n",
    "# Instantiate the WebDriver service\n",
    "service = Service(executable_path=ChromeDriverManager().install())"
   ]
  },
  {
   "cell_type": "code",
   "execution_count": 111,
   "metadata": {
    "executionInfo": {
     "elapsed": 406,
     "status": "ok",
     "timestamp": 1721743286592,
     "user": {
      "displayName": "Jacob Reidhead",
      "userId": "14896096740474010338"
     },
     "user_tz": -480
    },
    "id": "T5VdC1J55Ogz"
   },
   "outputs": [],
   "source": [
    "url_stem = \"https://namu.wiki/w/\""
   ]
  },
  {
   "cell_type": "code",
   "execution_count": 116,
   "metadata": {
    "colab": {
     "base_uri": "https://localhost:8080/",
     "height": 387
    },
    "executionInfo": {
     "elapsed": 117280,
     "status": "error",
     "timestamp": 1721743521447,
     "user": {
      "displayName": "Jacob Reidhead",
      "userId": "14896096740474010338"
     },
     "user_tz": -480
    },
    "id": "tCZq_EcZxwyW",
    "outputId": "cd2e5c63-3f28-496c-b3f6-c2571d180cef"
   },
   "outputs": [
    {
     "name": "stdout",
     "output_type": "stream",
     "text": [
      "Scrape list has been updated and saved.\n"
     ]
    }
   ],
   "source": [
    "# scrape namuwiki using selenium\n",
    "for index,row in sktest.iterrows():\n",
    "\n",
    "    if row.Scraped == \"No\":\n",
    "\n",
    "        try:\n",
    "    \n",
    "            # reset content & has_content_flag\n",
    "            has_content_flag = True\n",
    "            content = \"\"\n",
    "            successful_export = False\n",
    "            \n",
    "            url = url_stem + urllib.parse.quote(row.Name_Native)\n",
    "            print(url)\n",
    "            \n",
    "            driver = webdriver.Chrome(service=service, options=chrome_options)\n",
    "            driver.get(url)\n",
    "            \n",
    "            # check if page has content\n",
    "            elements = driver.find_elements(By.TAG_NAME,'p')\n",
    "        \n",
    "            for e in elements:\n",
    "                if e.text==p_error_text:\n",
    "                    has_content_flag = False\n",
    "            \n",
    "            if has_content_flag:\n",
    "                content = driver.page_source\n",
    "            \n",
    "            # close webdriver\n",
    "            driver.close()\n",
    "        \n",
    "            # save content\n",
    "            if(has_content_flag):\n",
    "            \n",
    "                # save output as an html file\n",
    "                fout = open(path_2_2024 + row.Name_Native+\".html\",\"w\",encoding=\"utf-8\")\n",
    "                fout.write(content)\n",
    "                fout.close()\n",
    "                successful_export = True\n",
    "            \n",
    "                print(index,row.Name_Native,row.URL_Generic,\"Number of <p> elements:\",len(elements),\"Has Content\")\n",
    "    \n",
    "            else:\n",
    "                print(index,row.Name_Native,row.URL_Generic,\"Number of <p> elements:\",len(elements),\"Empty\")\n",
    "\n",
    "            \n",
    "            # update scraped url list\n",
    "            scrape_sk.loc[scrape_sk.Name_Native == row.Name_Native,\"Scraped\"]=\"Yes\"\n",
    "\n",
    "            if successful_export:\n",
    "                scrape_sk.loc[scrape_sk.Name_Native == row.Name_Native,\"URL_HasContent\"]=\"Yes\"\n",
    "            else:\n",
    "                scrape_sk.loc[scrape_sk.Name_Native == row.Name_Native,\"URL_HasContent\"]=\"No\"\n",
    "\n",
    "        \n",
    "        except KeyboardInterrupt:\n",
    "\n",
    "            print(\"Keyboard Interrupt\")\n",
    "\n",
    "            scrape_sk.to_excel(path_1 + filename_scrape_list_sk,index=False)\n",
    "            print(\"Scrape list has been updated and saved.\")\n",
    "            \n",
    "            break\n",
    "    \n",
    "        except Exception as e:\n",
    "\n",
    "            print(index,p.Name_Native,url,\"Number of <p> elements:\",len(elements),\"Error\")\n",
    "            print(e)\n",
    "\n",
    "            scrape_sk.to_excel(path_1 + filename_scrape_list_sk,index=False)\n",
    "            print(\"Scrape list has been updated and saved, but the error-generating record was (probably) not updated.\")\n",
    "\n",
    "            break\n",
    "\n",
    "\n",
    "# export scrape file, if loop didn't already break\n",
    "scrape_sk.to_excel(path_1 + filename_scrape_list_sk,index=False)\n",
    "print(\"Scrape list has been updated and saved.\")"
   ]
  },
  {
   "cell_type": "code",
   "execution_count": 114,
   "metadata": {
    "id": "jpcI5f5yxGOB"
   },
   "outputs": [],
   "source": [
    "# export scrape file, if loop didn't already break\n",
    "scrape_sk.to_excel(path_1 + filename_scrape_list_sk,index=False)"
   ]
  },
  {
   "cell_type": "code",
   "execution_count": null,
   "metadata": {
    "id": "xZky93FdwfU4"
   },
   "outputs": [],
   "source": [
    "# things to check\n",
    "\n",
    "# 0. drop duplicates. some duplicate pages are different (at least size differs). why?\n",
    "\n",
    "# 0.1 drop duplicates (by=[Name_Native, Name_Chinese, Birthdate]) in TW dataset, before scraping\n",
    "\n",
    "# 0.2 add local legislators back in? but mark them as \"skip\"?\n",
    "\n",
    "# 1. saved links are valid (no false positives); False links actually don't exist (no false negatives)\n",
    "\n",
    "# 2. disambiguation? what about names that link to more than one person?\n",
    "#\n",
    "#       - disambiguation links are usually included in the page\n",
    "#\n",
    "#       0. confirm the right page\n",
    "#            patterns to search - to confirm using the data we have:\n",
    "#                 생년월일\n",
    "#                 선거구, 직급, 한자명,\n",
    "#\n",
    "#\n",
    "#       1. redirect from the page of a more popular person\n",
    "#               https://namu.wiki/w/%EA%B0%95%EB%AF%BC%EA%B5%AD - 강민국\n",
    "#               정치인에 대한 내용은 강민국(정치인) 문서를 참고하십시오.\n",
    "#               https://namu.wiki/w/%EA%B0%95%EB%AF%BC%EA%B5%AD(%EC%A0%95%EC%B9%98%EC%9D%B8) - 강민국(정치인)\n",
    "#\n",
    "#       2. redirects from a page listing links to multiple people having the same name\n",
    "#               https://namu.wiki/w/%EA%B9%80%EC%9A%A9%EC%A7%84\n",
    "#\n",
    "#       3."
   ]
  },
  {
   "cell_type": "code",
   "execution_count": null,
   "metadata": {
    "id": "tjW3p38FwfU4"
   },
   "outputs": [],
   "source": []
  },
  {
   "cell_type": "markdown",
   "metadata": {
    "id": "_dnW4flJwfU4"
   },
   "source": [
    "# update sktest with selenium log from latest run"
   ]
  },
  {
   "cell_type": "code",
   "execution_count": null,
   "metadata": {
    "id": "BNWEA0ddwfU5",
    "outputId": "a0c1e4f6-0545-4724-b867-d15fede4d5a4"
   },
   "outputs": [
    {
     "data": {
      "text/plain": [
       "(6226, 24)"
      ]
     },
     "execution_count": 17,
     "metadata": {},
     "output_type": "execute_result"
    }
   ],
   "source": [
    "sktest.shape"
   ]
  },
  {
   "cell_type": "code",
   "execution_count": null,
   "metadata": {
    "id": "zBdHBVE1wfU5",
    "outputId": "b50011b4-c33e-4e08-884c-10a8043ad372"
   },
   "outputs": [
    {
     "data": {
      "text/plain": [
       "(6258, 26)"
      ]
     },
     "execution_count": 18,
     "metadata": {},
     "output_type": "execute_result"
    }
   ],
   "source": [
    "sktest_updated = sktest.merge(log,how=\"left\",on=\"Name_Native\")\n",
    "sktest_updated.shape"
   ]
  },
  {
   "cell_type": "code",
   "execution_count": null,
   "metadata": {
    "id": "LM2U9_Q8wfU5"
   },
   "outputs": [],
   "source": [
    "# update URL_NamuWiki with log results\n",
    "sktest_updated.loc[sktest_updated.URL_NamuWiki.isnull() & sktest_updated.url.notnull(),\"URL_NamuWiki\"] = sktest_updated.loc[sktest_updated.URL_NamuWiki.isnull() & sktest_updated.url.notnull(),\"url\"]\n",
    "\n",
    "# confirm that changes have been made\n",
    "# sktest_updated.loc[sktest_updated.url.notnull(),[\"URL_NamuWiki\",\"url\"]]"
   ]
  },
  {
   "cell_type": "code",
   "execution_count": null,
   "metadata": {
    "id": "vfhWdJM8wfU5"
   },
   "outputs": [],
   "source": [
    "# change \"False\" strings to boolean False\n",
    "sktest_updated.loc[sktest_updated.URL_NamuWiki==\"False\",\"URL_NamuWiki\"]=False"
   ]
  },
  {
   "cell_type": "code",
   "execution_count": null,
   "metadata": {
    "id": "ZHgVxjkLwfU5"
   },
   "outputs": [],
   "source": [
    "# sktest_updated[sktest_updated[\"index\"].notnull()]"
   ]
  },
  {
   "cell_type": "code",
   "execution_count": null,
   "metadata": {
    "id": "j65xoeDJwfU5"
   },
   "outputs": [],
   "source": [
    "# drop log column (url)\n",
    "sktest_updated.drop(columns=[\"index\",\"url\"],inplace=True)"
   ]
  },
  {
   "cell_type": "code",
   "execution_count": null,
   "metadata": {
    "id": "O-dKDU_3wfU6",
    "outputId": "dc63479c-0ba5-480d-a08f-015cdee774be"
   },
   "outputs": [
    {
     "data": {
      "text/plain": [
       "(6226, 24)"
      ]
     },
     "execution_count": 23,
     "metadata": {},
     "output_type": "execute_result"
    }
   ],
   "source": [
    "# drop duplicate rows\n",
    "sktest_updated.drop_duplicates().shape"
   ]
  },
  {
   "cell_type": "code",
   "execution_count": null,
   "metadata": {
    "id": "wGTbnLQ6wfU6"
   },
   "outputs": [],
   "source": [
    "# drop duplicate politicians\n",
    "sktest_updated.sort_values([\"Name_Native\",\"Name_Chinese\",\"Birthdate\",\"ElectionDate\"],inplace=True)\n",
    "sktest_updated.drop_duplicates([\"Name_Native\",\"Name_Chinese\",\"Birthdate\"],keep=\"last\",inplace=True)"
   ]
  },
  {
   "cell_type": "code",
   "execution_count": null,
   "metadata": {
    "id": "Wz7fo-LFwfU6",
    "outputId": "a0c61203-0603-4052-aed5-9a0f96707043"
   },
   "outputs": [
    {
     "data": {
      "text/plain": [
       "(6226, 24)"
      ]
     },
     "execution_count": 25,
     "metadata": {},
     "output_type": "execute_result"
    }
   ],
   "source": [
    "sktest_updated.shape"
   ]
  },
  {
   "cell_type": "code",
   "execution_count": null,
   "metadata": {
    "id": "QDwcUDMawfU6"
   },
   "outputs": [],
   "source": [
    "# refresh and save updated sktest\n",
    "sktest = sktest_updated\n",
    "sktest.to_excel(filein_path+\"sk_testset.xlsx\",index=False)"
   ]
  },
  {
   "cell_type": "code",
   "execution_count": null,
   "metadata": {
    "id": "ziZswYNewfU6"
   },
   "outputs": [],
   "source": [
    "# delete log file\n",
    "os.remove(fileout_path+logfile_name)"
   ]
  },
  {
   "cell_type": "code",
   "execution_count": null,
   "metadata": {
    "id": "a0CdzxnpwfU6"
   },
   "outputs": [],
   "source": []
  },
  {
   "cell_type": "code",
   "execution_count": null,
   "metadata": {
    "id": "iBBU9_8QwfU6"
   },
   "outputs": [],
   "source": [
    "# DEPRECATED - assign URL_NamuWiki link based on files already scraped - I needed this before I created a log file\n",
    "\n",
    "# import os\n",
    "# filelist = os.listdir(fileout_path)\n",
    "# test = sktest\n",
    "# url_stem = \"https://namu.wiki\"\n",
    "# test[100:200]\n",
    "# scraped = [f.split(\"_\")[2].split(\".\")[0].strip() for f in filelist]\n",
    "# for s in scraped:\n",
    "#     url = url_stem+\"/w/\"+urllib.parse.quote(s.encode(\"utf-8\"))\n",
    "#     # print(url_stem+\"/w/\"+urllib.parse.quote(s.encode(\"utf-8\")))\n",
    "#     test.loc[test.Name_Native==s,\"URL_NamuWiki\"]=url\n",
    "# test[100:200]"
   ]
  },
  {
   "cell_type": "code",
   "execution_count": null,
   "metadata": {
    "id": "N9RnidAUwfU7"
   },
   "outputs": [],
   "source": [
    "# DEPRECATED - drop some local legislators, in order to speed things up\n",
    "\n",
    "# s_url_notnull = sktest[sktest.URL_NamuWiki.notnull()]\n",
    "# s_url_isnull = sktest[sktest.URL_NamuWiki.isnull()]\n",
    "# s_url_isnull_notlocalleg = s_url_isnull[s_url_isnull.ElectionCategory_Native!=\"구·시·군의회의원선거\"]\n",
    "# s_url_isnull_localleg = s_null[s_url_isnull.ElectionCategory_Native==\"구·시·군의회의원선거\"]\n",
    "# sktest_fewer_localleg = pd.concat([s_url_notnull,s_url_isnull_notlocalleg],ignore_index=True)\n",
    "# sktest_fewer_localleg.groupby([\"ElectionDate\",\"ElectionCategory_Native\"]).agg({\"Name_Native\":\"count\"}).sort_values(\"ElectionDate\",ascending=False)"
   ]
  },
  {
   "cell_type": "code",
   "execution_count": null,
   "metadata": {
    "id": "EQZ9WLFXwfU7"
   },
   "outputs": [],
   "source": []
  }
 ],
 "metadata": {
  "colab": {
   "provenance": []
  },
  "kernelspec": {
   "display_name": "Python 3 (ipykernel)",
   "language": "python",
   "name": "python3"
  },
  "language_info": {
   "codemirror_mode": {
    "name": "ipython",
    "version": 3
   },
   "file_extension": ".py",
   "mimetype": "text/x-python",
   "name": "python",
   "nbconvert_exporter": "python",
   "pygments_lexer": "ipython3",
   "version": "3.11.5"
  }
 },
 "nbformat": 4,
 "nbformat_minor": 4
}
