{
 "cells": [
  {
   "cell_type": "code",
   "execution_count": 43,
   "metadata": {},
   "outputs": [],
   "source": [
    "import pandas as pd\n",
    "import numpy as np"
   ]
  },
  {
   "cell_type": "code",
   "execution_count": 44,
   "metadata": {},
   "outputs": [],
   "source": [
    "import urllib.parse\n",
    "from bs4 import BeautifulSoup"
   ]
  },
  {
   "cell_type": "code",
   "execution_count": 45,
   "metadata": {},
   "outputs": [],
   "source": [
    "import requests\n",
    "import brotli"
   ]
  },
  {
   "cell_type": "code",
   "execution_count": 46,
   "metadata": {},
   "outputs": [],
   "source": [
    "from selenium import webdriver\n",
    "from selenium.webdriver.chrome.service import Service\n",
    "from webdriver_manager.chrome import ChromeDriverManager\n",
    "from selenium.webdriver.common.by import By\n"
   ]
  },
  {
   "cell_type": "markdown",
   "metadata": {},
   "source": [
    "# import sk & tw politician test data"
   ]
  },
  {
   "cell_type": "code",
   "execution_count": 2,
   "metadata": {},
   "outputs": [],
   "source": [
    "filein_path = \"../../../data/data_wikis/1 - politician data for test scraping/\""
   ]
  },
  {
   "cell_type": "code",
   "execution_count": 3,
   "metadata": {},
   "outputs": [],
   "source": [
    "sktest = pd.read_excel(filein_path+\"sk_testset.xlsx\")"
   ]
  },
  {
   "cell_type": "code",
   "execution_count": 4,
   "metadata": {},
   "outputs": [
    {
     "data": {
      "text/plain": [
       "(10114, 23)"
      ]
     },
     "execution_count": 4,
     "metadata": {},
     "output_type": "execute_result"
    }
   ],
   "source": [
    "sktest.shape"
   ]
  },
  {
   "cell_type": "code",
   "execution_count": 47,
   "metadata": {},
   "outputs": [],
   "source": [
    "sktest[\"HasNamuWiki\"]=np.nan"
   ]
  },
  {
   "cell_type": "code",
   "execution_count": 5,
   "metadata": {},
   "outputs": [],
   "source": [
    "#twtest = pd.read_excel(filein_path+\"tw_testset.xlsx\")"
   ]
  },
  {
   "cell_type": "code",
   "execution_count": 6,
   "metadata": {},
   "outputs": [],
   "source": [
    "#twtest.shape"
   ]
  },
  {
   "cell_type": "markdown",
   "metadata": {},
   "source": [
    "# scrape namuwiki for sk politicians"
   ]
  },
  {
   "cell_type": "code",
   "execution_count": 48,
   "metadata": {},
   "outputs": [],
   "source": [
    "test = sktest[0:2]"
   ]
  },
  {
   "cell_type": "code",
   "execution_count": 49,
   "metadata": {},
   "outputs": [
    {
     "data": {
      "text/html": [
       "<div>\n",
       "<style scoped>\n",
       "    .dataframe tbody tr th:only-of-type {\n",
       "        vertical-align: middle;\n",
       "    }\n",
       "\n",
       "    .dataframe tbody tr th {\n",
       "        vertical-align: top;\n",
       "    }\n",
       "\n",
       "    .dataframe thead th {\n",
       "        text-align: right;\n",
       "    }\n",
       "</style>\n",
       "<table border=\"1\" class=\"dataframe\">\n",
       "  <thead>\n",
       "    <tr style=\"text-align: right;\">\n",
       "      <th></th>\n",
       "      <th>Name_Native</th>\n",
       "      <th>Name_Chinese</th>\n",
       "      <th>Birthdate</th>\n",
       "      <th>Sex</th>\n",
       "      <th>Age</th>\n",
       "      <th>ElectionCategory_Native</th>\n",
       "      <th>ElectionDate</th>\n",
       "      <th>Position</th>\n",
       "      <th>L1_Division</th>\n",
       "      <th>L2_Division</th>\n",
       "      <th>...</th>\n",
       "      <th>CandidateStatus</th>\n",
       "      <th>WonElection</th>\n",
       "      <th>VoteCount</th>\n",
       "      <th>VotePercent</th>\n",
       "      <th>IncumbentStatus</th>\n",
       "      <th>Occupation</th>\n",
       "      <th>Education</th>\n",
       "      <th>Career1</th>\n",
       "      <th>Career2</th>\n",
       "      <th>HasNamuWiki</th>\n",
       "    </tr>\n",
       "  </thead>\n",
       "  <tbody>\n",
       "    <tr>\n",
       "      <th>0</th>\n",
       "      <td>가세로</td>\n",
       "      <td>賈世魯</td>\n",
       "      <td>19550815</td>\n",
       "      <td>남</td>\n",
       "      <td>58</td>\n",
       "      <td>구·시·군의 장선거</td>\n",
       "      <td>20140604</td>\n",
       "      <td>Chief</td>\n",
       "      <td>충청남도</td>\n",
       "      <td>태안군</td>\n",
       "      <td>...</td>\n",
       "      <td>등록</td>\n",
       "      <td>0</td>\n",
       "      <td>NaN</td>\n",
       "      <td>NaN</td>\n",
       "      <td>NaN</td>\n",
       "      <td>정당인</td>\n",
       "      <td>단국대학교 대학원 행정학박사</td>\n",
       "      <td>(전)박근혜대통령후보 대선 서산.태안총괄본부장</td>\n",
       "      <td>(현)\"박근혜를 사랑하는 모임\" 전국 상임고문</td>\n",
       "      <td>NaN</td>\n",
       "    </tr>\n",
       "    <tr>\n",
       "      <th>1</th>\n",
       "      <td>가창현</td>\n",
       "      <td>賈昌鉉</td>\n",
       "      <td>19550315</td>\n",
       "      <td>남</td>\n",
       "      <td>59</td>\n",
       "      <td>구·시·군의회의원선거</td>\n",
       "      <td>20140604</td>\n",
       "      <td>Legislator</td>\n",
       "      <td>충청남도</td>\n",
       "      <td>태안군</td>\n",
       "      <td>...</td>\n",
       "      <td>등록</td>\n",
       "      <td>0</td>\n",
       "      <td>NaN</td>\n",
       "      <td>NaN</td>\n",
       "      <td>NaN</td>\n",
       "      <td>정치인</td>\n",
       "      <td>서산농림고등학교 졸업(현 서산중앙고등학교)</td>\n",
       "      <td>(전)태안군환경산림과장</td>\n",
       "      <td>(전)태안군사회복지과장</td>\n",
       "      <td>NaN</td>\n",
       "    </tr>\n",
       "  </tbody>\n",
       "</table>\n",
       "<p>2 rows × 24 columns</p>\n",
       "</div>"
      ],
      "text/plain": [
       "  Name_Native Name_Chinese  Birthdate Sex  Age ElectionCategory_Native  \\\n",
       "0         가세로          賈世魯   19550815   남   58              구·시·군의 장선거   \n",
       "1         가창현          賈昌鉉   19550315   남   59             구·시·군의회의원선거   \n",
       "\n",
       "   ElectionDate    Position L1_Division L2_Division  ...  CandidateStatus  \\\n",
       "0      20140604       Chief        충청남도         태안군  ...               등록   \n",
       "1      20140604  Legislator        충청남도         태안군  ...               등록   \n",
       "\n",
       "  WonElection VoteCount VotePercent IncumbentStatus  Occupation  \\\n",
       "0           0       NaN         NaN             NaN         정당인   \n",
       "1           0       NaN         NaN             NaN         정치인   \n",
       "\n",
       "                 Education                    Career1  \\\n",
       "0          단국대학교 대학원 행정학박사  (전)박근혜대통령후보 대선 서산.태안총괄본부장   \n",
       "1  서산농림고등학교 졸업(현 서산중앙고등학교)               (전)태안군환경산림과장   \n",
       "\n",
       "                     Career2 HasNamuWiki  \n",
       "0  (현)\"박근혜를 사랑하는 모임\" 전국 상임고문         NaN  \n",
       "1               (전)태안군사회복지과장         NaN  \n",
       "\n",
       "[2 rows x 24 columns]"
      ]
     },
     "execution_count": 49,
     "metadata": {},
     "output_type": "execute_result"
    }
   ],
   "source": [
    "test"
   ]
  },
  {
   "cell_type": "code",
   "execution_count": 9,
   "metadata": {},
   "outputs": [],
   "source": [
    "url_stem = \"https://namu.wiki\"\n",
    "\n",
    "p_error_name = \"data-v-1ac09f2e\"\n",
    "p_error_text = \"해당 문서를 찾을 수 없습니다.\""
   ]
  },
  {
   "cell_type": "code",
   "execution_count": 10,
   "metadata": {},
   "outputs": [],
   "source": [
    "# more complicated request header\n",
    "\n",
    "request_headers1 = {\"authority\": \"namu.wiki\",\n",
    "                   \"method\": \"GET\",\n",
    "                   \"path\":\"/w/%EA%B0%80%EC%84%B8%EB%A1%9C\",\n",
    "                   \"scheme\":\"https\",\n",
    "                   \"accept\":\"text/html,application/xhtml+xml,application/xml;q=0.9,image/avif,image/webp,image/apng,*/*;q=0.8,application/signed-exchange;v=b3;q=0.9\",\n",
    "                   \"accept-encoding\":\"gzip, deflate, br\",\n",
    "                   \"accept-language\":\"en-US,en;q=0.9,ko;q=0.8\",\n",
    "                   \"cache-control\":\"max-age=0\",\n",
    "                   \"cookie\":cookie_string,\n",
    "                   \"referer\": \"http://localhost:8888/\", # this changed\n",
    "                   \"sec-ch-ua\": '\".Not/A)Brand\";v=\"99\", \"Google Chrome\";v=\"103\", \"Chromium\";v=\"103\"',\n",
    "                   \"sec-ch-ua-mobile\":\"?0\",\n",
    "                   \"sec-ch-ua-platform\":\"Windows\",\n",
    "                   \"sec-fetch-dest\":\"document\",\n",
    "                   \"sec-fetch-mode\":\"navigate\",\n",
    "                   \"sec-fetch-site\":\"same-origin\",\n",
    "                   \"sec-fetch-user\":\"?1\",\n",
    "                   \"upgrade-insecure-requests\":\"1\",\n",
    "                   \"user-agent\":\"Mozilla/5.0 (Windows NT 10.0; Win64; x64) AppleWebKit/537.36 (KHTML, like Gecko) Chrome/103.0.0.0 Safari/537.36\"}"
   ]
  },
  {
   "cell_type": "code",
   "execution_count": 11,
   "metadata": {},
   "outputs": [],
   "source": [
    "# more complicated request header\n",
    "\n",
    "request_headers2 = {\"accept\":\"text/html,application/xhtml+xml,application/xml;q=0.9,image/avif,image/webp,image/apng,*/*;q=0.8,application/signed-exchange;v=b3;q=0.9\",\n",
    "                   \"accept-encoding\":\"gzip, deflate, br\",\n",
    "                   \"accept-language\":\"en-US,en;q=0.9,ko;q=0.8\",\n",
    "                   \"cache-control\":\"max-age=0\",\n",
    "                   \"user-agent\":\"Mozilla/5.0 (Windows NT 10.0; Win64; x64) AppleWebKit/537.36 (KHTML, like Gecko) Chrome/103.0.0.0 Safari/537.36\"}"
   ]
  },
  {
   "cell_type": "code",
   "execution_count": 19,
   "metadata": {},
   "outputs": [
    {
     "name": "stdout",
     "output_type": "stream",
     "text": [
      "==================================================\n",
      "\n",
      "가세로\n",
      "https://namu.wiki\n",
      "%EA%B0%80%EC%84%B8%EB%A1%9C\n",
      "https://namu.wiki/w/%EA%B0%80%EC%84%B8%EB%A1%9C\n",
      "403\n",
      "{'__cf_bm': '6w58kzXyuC0rU0462mA5w3iqiK7nq6pYq1VywOnThMs-1658281700-0-AQbTylNwkRykaSIX9Z/eV/5Gmy6gmoyWqRcWpLOK9Ow63WhxzyOCpcKEYUggOVmwqhWtg9XkmCUnXEFy9Th1TKI='}\n",
      "403\n",
      "{}\n",
      "==================================================\n",
      "\n",
      "가창현\n",
      "https://namu.wiki\n",
      "%EA%B0%80%EC%B0%BD%ED%98%84\n",
      "https://namu.wiki/w/%EA%B0%80%EC%B0%BD%ED%98%84\n",
      "403\n",
      "{'__cf_bm': 'ke.bDAHxVbJ9xSI62QQOrl.3Y0CIVI1VfPSaT6y5qcQ-1658281700-0-ATX/HxR2N9nUHvpHWmeysHi099o53FJydNzCrCrtqM8RUYdVwB7aB6LNF81gDsdFnqt9YPHO97bvLEYnVDKALWA='}\n",
      "403\n",
      "{}\n"
     ]
    }
   ],
   "source": [
    "# strategies\n",
    "\n",
    "# 1. pass cookies? receive cookies?\n",
    "# 2. block javascript?\n",
    "\n",
    "\n",
    "# get namuwiki using requests\n",
    "for index,p in test.iterrows():\n",
    "    \n",
    "    # construct headers\n",
    "    headers = {}\n",
    "    #headers = request_headers1\n",
    "    #headers = request_headers2\n",
    "\n",
    "    \n",
    "    # construct cookies\n",
    "    cookies = {}\n",
    "    \n",
    "    # construct url\n",
    "    url= url_stem+\"/w/\"+urllib.parse.quote(p.Name_Native.encode(\"utf-8\"))\n",
    "    \n",
    "    print(\"==================================================\\n\")\n",
    "    print(p.Name_Native)\n",
    "    print(url_stem)\n",
    "    print(urllib.parse.quote(p.Name_Native.encode(\"utf-8\")))\n",
    "    print(url)\n",
    "    \n",
    "    \n",
    "    # request with session\n",
    "    if(True):\n",
    "    \n",
    "        # request session\n",
    "        s = requests.Session()\n",
    "        y = s.get(url_stem,headers=headers)\n",
    "    \n",
    "        y_cookies = dict(y.cookies)\n",
    "\n",
    "        print(y.status_code)\n",
    "        #print(y.headers)\n",
    "        print(y_cookies)\n",
    "\n",
    "    \n",
    "        # request url\n",
    "        x = s.get(url,headers=headers)\n",
    "        \n",
    "        x_cookies = dict(x.cookies)\n",
    "\n",
    "\n",
    "        print(x.status_code)\n",
    "        #print(x.headers)\n",
    "        print(x_cookies)\n",
    "\n",
    "    \n",
    "    # request without session\n",
    "    else:\n",
    "\n",
    "        # request url\n",
    "        x = requests.get(url,headers=headers,cookies=cookies)\n",
    "        \n",
    "        x_cookies = dict(x.cookies)\n",
    "\n",
    "        print(x.status_code)\n",
    "        #print(x.headers)\n",
    "        print(x_cookies)\n",
    "\n",
    "\n",
    "        \n",
    "    \n",
    "    # decode and save response as html\n",
    "    if(False):\n",
    "        \n",
    "        # decode request object - which was coded using br (brotli algorithm)\n",
    "        content = brotli.decompress(x.content)\n",
    "    \n",
    "        #print(content)\n",
    "\n",
    "        # save output as an html file\n",
    "        fout = open(\"test_\"+p.Name_Native+\".html\",\"w\")\n",
    "        #fout.write(x.content.decode(\"utf-8\"))\n",
    "        fout.write(content.decode(\"utf-8\"))\n",
    "        fout.close()\n",
    "\n",
    "        # convert to html using BeautifulSoup \n",
    "\n",
    "        soup = BeautifulSoup(content.decode(\"utf-8\"),\"html.parser\")\n",
    "        html = soup.prettify(\"utf-8\")\n",
    "        #print(html)\n",
    "\n",
    "    \n"
   ]
  },
  {
   "cell_type": "code",
   "execution_count": null,
   "metadata": {},
   "outputs": [],
   "source": []
  }
 ],
 "metadata": {
  "kernelspec": {
   "display_name": "Python 3",
   "language": "python",
   "name": "python3"
  },
  "language_info": {
   "codemirror_mode": {
    "name": "ipython",
    "version": 3
   },
   "file_extension": ".py",
   "mimetype": "text/x-python",
   "name": "python",
   "nbconvert_exporter": "python",
   "pygments_lexer": "ipython3",
   "version": "3.7.3"
  }
 },
 "nbformat": 4,
 "nbformat_minor": 4
}
