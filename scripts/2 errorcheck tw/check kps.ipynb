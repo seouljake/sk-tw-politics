{
 "cells": [
  {
   "cell_type": "code",
   "execution_count": 1,
   "id": "d5d2f73f-7559-44c4-8990-c4d3accf4a1f",
   "metadata": {},
   "outputs": [],
   "source": [
    "import pandas as pd"
   ]
  },
  {
   "cell_type": "code",
   "execution_count": 6,
   "id": "221603c1-ffdd-4348-99ec-4d12ef17ec18",
   "metadata": {},
   "outputs": [],
   "source": [
    "import os"
   ]
  },
  {
   "cell_type": "markdown",
   "id": "0a57ec18-a6f9-4062-a309-da89841fe32d",
   "metadata": {},
   "source": [
    "# data"
   ]
  },
  {
   "cell_type": "code",
   "execution_count": 13,
   "id": "18091038-b425-4da8-be8a-c868f54ff090",
   "metadata": {},
   "outputs": [],
   "source": [
    "path_data = \"../../data/data_tw_elections/\""
   ]
  },
  {
   "cell_type": "code",
   "execution_count": 14,
   "id": "f043f5f3-c9e8-4d4c-9060-e7bcb458cb7c",
   "metadata": {},
   "outputs": [],
   "source": [
    "filenames = os.listdir(path_data)"
   ]
  },
  {
   "cell_type": "code",
   "execution_count": 15,
   "id": "d12560b5-f506-4c3a-b990-dc2d576eda0f",
   "metadata": {},
   "outputs": [
    {
     "data": {
      "text/plain": [
       "['df_cand_f.xlsx',\n",
       " '行政區.xlsx',\n",
       " '行政區_候選人.xlsx',\n",
       " '選舉區.xlsx',\n",
       " '選舉區_候選人.xlsx',\n",
       " '開票所.xlsx',\n",
       " '開票所_候選人.xlsx']"
      ]
     },
     "execution_count": 15,
     "metadata": {},
     "output_type": "execute_result"
    }
   ],
   "source": [
    "filenames"
   ]
  },
  {
   "cell_type": "markdown",
   "id": "31907108-cb47-47d8-8601-28d6bbcb1b12",
   "metadata": {},
   "source": [
    "# analyze 開票所 & candidate"
   ]
  },
  {
   "cell_type": "code",
   "execution_count": 16,
   "id": "b3668616-bb73-4bb9-8da8-6f8d1c9d44fb",
   "metadata": {},
   "outputs": [],
   "source": [
    "k = pd.read_excel(path_data + '開票所.xlsx')"
   ]
  },
  {
   "cell_type": "code",
   "execution_count": 17,
   "id": "5cfc89bf-9004-426e-97e9-83da96f4a3cb",
   "metadata": {},
   "outputs": [
    {
     "data": {
      "text/plain": [
       "(119467, 18)"
      ]
     },
     "execution_count": 17,
     "metadata": {},
     "output_type": "execute_result"
    }
   ],
   "source": [
    "k.shape"
   ]
  },
  {
   "cell_type": "code",
   "execution_count": 18,
   "id": "234f8ab4-4b1d-4409-9f62-fc9fbe893cc6",
   "metadata": {},
   "outputs": [],
   "source": [
    "c = pd.read_excel(path_data + 'df_cand_f.xlsx')"
   ]
  },
  {
   "cell_type": "code",
   "execution_count": 19,
   "id": "4ed7f179-4561-45ee-976e-5ab0debb8d91",
   "metadata": {},
   "outputs": [
    {
     "data": {
      "text/plain": [
       "(386398, 14)"
      ]
     },
     "execution_count": 19,
     "metadata": {},
     "output_type": "execute_result"
    }
   ],
   "source": [
    "c.shape"
   ]
  },
  {
   "cell_type": "code",
   "execution_count": 46,
   "id": "7435038e-0ec7-4f33-a8f8-cd81df2b8370",
   "metadata": {},
   "outputs": [],
   "source": [
    "district_key = [\"ElectionDate\",\"縣市\",\"鄉鎮市區\",\"村里\",\"開票所\"]"
   ]
  },
  {
   "cell_type": "code",
   "execution_count": 47,
   "id": "6139bfba-5eb0-434f-b00b-d8c591c19119",
   "metadata": {},
   "outputs": [],
   "source": [
    "kgroup = k.groupby(district_key,as_index=False)[\"ElectionType\"].count()"
   ]
  },
  {
   "cell_type": "code",
   "execution_count": 48,
   "id": "34dd66cf-e21a-4387-b972-976b7a70a7d9",
   "metadata": {},
   "outputs": [
    {
     "data": {
      "text/html": [
       "<div>\n",
       "<style scoped>\n",
       "    .dataframe tbody tr th:only-of-type {\n",
       "        vertical-align: middle;\n",
       "    }\n",
       "\n",
       "    .dataframe tbody tr th {\n",
       "        vertical-align: top;\n",
       "    }\n",
       "\n",
       "    .dataframe thead th {\n",
       "        text-align: right;\n",
       "    }\n",
       "</style>\n",
       "<table border=\"1\" class=\"dataframe\">\n",
       "  <thead>\n",
       "    <tr style=\"text-align: right;\">\n",
       "      <th></th>\n",
       "      <th>ElectionDate</th>\n",
       "      <th>縣市</th>\n",
       "      <th>鄉鎮市區</th>\n",
       "      <th>村里</th>\n",
       "      <th>開票所</th>\n",
       "      <th>ElectionType</th>\n",
       "    </tr>\n",
       "  </thead>\n",
       "  <tbody>\n",
       "    <tr>\n",
       "      <th>0</th>\n",
       "      <td>1996.03.23</td>\n",
       "      <td>南投縣</td>\n",
       "      <td>中寮鄉</td>\n",
       "      <td>中寮村</td>\n",
       "      <td>80277</td>\n",
       "      <td>1</td>\n",
       "    </tr>\n",
       "    <tr>\n",
       "      <th>1</th>\n",
       "      <td>1996.03.23</td>\n",
       "      <td>南投縣</td>\n",
       "      <td>中寮鄉</td>\n",
       "      <td>內城村</td>\n",
       "      <td>80284</td>\n",
       "      <td>1</td>\n",
       "    </tr>\n",
       "    <tr>\n",
       "      <th>2</th>\n",
       "      <td>1996.03.23</td>\n",
       "      <td>南投縣</td>\n",
       "      <td>中寮鄉</td>\n",
       "      <td>八仙村</td>\n",
       "      <td>80269</td>\n",
       "      <td>1</td>\n",
       "    </tr>\n",
       "    <tr>\n",
       "      <th>3</th>\n",
       "      <td>1996.03.23</td>\n",
       "      <td>南投縣</td>\n",
       "      <td>中寮鄉</td>\n",
       "      <td>八仙村</td>\n",
       "      <td>80270</td>\n",
       "      <td>1</td>\n",
       "    </tr>\n",
       "    <tr>\n",
       "      <th>4</th>\n",
       "      <td>1996.03.23</td>\n",
       "      <td>南投縣</td>\n",
       "      <td>中寮鄉</td>\n",
       "      <td>和興村</td>\n",
       "      <td>80273</td>\n",
       "      <td>1</td>\n",
       "    </tr>\n",
       "  </tbody>\n",
       "</table>\n",
       "</div>"
      ],
      "text/plain": [
       "  ElectionDate   縣市 鄉鎮市區   村里    開票所  ElectionType\n",
       "0   1996.03.23  南投縣  中寮鄉  中寮村  80277             1\n",
       "1   1996.03.23  南投縣  中寮鄉  內城村  80284             1\n",
       "2   1996.03.23  南投縣  中寮鄉  八仙村  80269             1\n",
       "3   1996.03.23  南投縣  中寮鄉  八仙村  80270             1\n",
       "4   1996.03.23  南投縣  中寮鄉  和興村  80273             1"
      ]
     },
     "execution_count": 48,
     "metadata": {},
     "output_type": "execute_result"
    }
   ],
   "source": [
    "kgroup.head()"
   ]
  },
  {
   "cell_type": "code",
   "execution_count": 49,
   "id": "45a55805-a13d-4644-a24b-9ebeab9f1f47",
   "metadata": {},
   "outputs": [
    {
     "data": {
      "text/plain": [
       "(119466, 6)"
      ]
     },
     "execution_count": 49,
     "metadata": {},
     "output_type": "execute_result"
    }
   ],
   "source": [
    "kgroup.shape"
   ]
  },
  {
   "cell_type": "code",
   "execution_count": 50,
   "id": "65f9b7aa-a19e-47a7-98df-98ac6cda07e6",
   "metadata": {},
   "outputs": [
    {
     "data": {
      "text/html": [
       "<div>\n",
       "<style scoped>\n",
       "    .dataframe tbody tr th:only-of-type {\n",
       "        vertical-align: middle;\n",
       "    }\n",
       "\n",
       "    .dataframe tbody tr th {\n",
       "        vertical-align: top;\n",
       "    }\n",
       "\n",
       "    .dataframe thead th {\n",
       "        text-align: right;\n",
       "    }\n",
       "</style>\n",
       "<table border=\"1\" class=\"dataframe\">\n",
       "  <thead>\n",
       "    <tr style=\"text-align: right;\">\n",
       "      <th></th>\n",
       "      <th>ElectionDate</th>\n",
       "      <th>縣市</th>\n",
       "      <th>鄉鎮市區</th>\n",
       "      <th>村里</th>\n",
       "      <th>開票所</th>\n",
       "      <th>ElectionType</th>\n",
       "    </tr>\n",
       "  </thead>\n",
       "  <tbody>\n",
       "  </tbody>\n",
       "</table>\n",
       "</div>"
      ],
      "text/plain": [
       "Empty DataFrame\n",
       "Columns: [ElectionDate, 縣市, 鄉鎮市區, 村里, 開票所, ElectionType]\n",
       "Index: []"
      ]
     },
     "execution_count": 50,
     "metadata": {},
     "output_type": "execute_result"
    }
   ],
   "source": [
    "kgroup[kgroup.ElectionType>1]"
   ]
  },
  {
   "cell_type": "code",
   "execution_count": 51,
   "id": "a673b38a-1a16-4230-ab3e-ba292660b638",
   "metadata": {},
   "outputs": [],
   "source": [
    "date = \"1996.03.23\"\n",
    "cp = \"高雄縣\"\n",
    "dist = \"大樹鄉\""
   ]
  },
  {
   "cell_type": "code",
   "execution_count": null,
   "id": "be08658d-8bd1-4ecc-bf76-47e115471abd",
   "metadata": {},
   "outputs": [],
   "source": []
  }
 ],
 "metadata": {
  "kernelspec": {
   "display_name": "Python 3 (ipykernel)",
   "language": "python",
   "name": "python3"
  },
  "language_info": {
   "codemirror_mode": {
    "name": "ipython",
    "version": 3
   },
   "file_extension": ".py",
   "mimetype": "text/x-python",
   "name": "python",
   "nbconvert_exporter": "python",
   "pygments_lexer": "ipython3",
   "version": "3.11.5"
  }
 },
 "nbformat": 4,
 "nbformat_minor": 5
}
